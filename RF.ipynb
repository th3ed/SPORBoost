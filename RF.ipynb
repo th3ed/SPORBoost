{
 "cells": [
  {
   "cell_type": "code",
   "execution_count": 1,
   "id": "3ca80c99-f3b1-48cf-8b01-c7544605905f",
   "metadata": {},
   "outputs": [],
   "source": [
    "import numpy as np\n",
    "from sklearn.datasets import load_iris"
   ]
  },
  {
   "cell_type": "code",
   "execution_count": 2,
   "id": "3597138f-3be1-4461-a020-dba09287bb91",
   "metadata": {},
   "outputs": [],
   "source": [
    "from sporgboost.preprocessing import onehot_encode, shuffle\n",
    "from sporgboost.common import find_split, best_split"
   ]
  },
  {
   "cell_type": "code",
   "execution_count": 3,
   "id": "5c149194-7402-4486-90f2-f11a1d6323a6",
   "metadata": {},
   "outputs": [],
   "source": [
    "# Dataset for testing\n",
    "X, y = load_iris(return_X_y = True)\n",
    "\n",
    "# Set seed to be able to reproduce\n",
    "np.random.seed(1234)\n",
    "    \n",
    "# Preprocessing\n",
    "y = onehot_encode(y)\n",
    "X, y = shuffle(X, y)"
   ]
  },
  {
   "cell_type": "code",
   "execution_count": 4,
   "id": "7b3b351f",
   "metadata": {},
   "outputs": [
    {
     "data": {
      "text/plain": [
       "array([[6.        , 0.41934923],\n",
       "       [3.3       , 0.54789331],\n",
       "       [4.5       , 0.35805596],\n",
       "       [1.4       , 0.35799545]])"
      ]
     },
     "execution_count": 4,
     "metadata": {},
     "output_type": "execute_result"
    }
   ],
   "source": [
    "find_split(X, y)"
   ]
  },
  {
   "cell_type": "code",
   "execution_count": 12,
   "id": "c8bf01b2",
   "metadata": {},
   "outputs": [
    {
     "data": {
      "text/plain": [
       "DecisionTreeClassifier()"
      ]
     },
     "execution_count": 12,
     "metadata": {},
     "output_type": "execute_result"
    }
   ],
   "source": [
    "from sklearn.tree import DecisionTreeClassifier\n",
    "sktree = DecisionTreeClassifier(\n",
    "    \n",
    ")\n",
    "sktree.fit(X, y)"
   ]
  },
  {
   "cell_type": "code",
   "execution_count": 28,
   "id": "3599def7",
   "metadata": {},
   "outputs": [
    {
     "data": {
      "text/plain": [
       "array([[6.        , 0.41934923],\n",
       "       [3.3       , 0.54789331],\n",
       "       [4.5       , 0.35805596],\n",
       "       [1.4       , 0.35799545]])"
      ]
     },
     "execution_count": 28,
     "metadata": {},
     "output_type": "execute_result"
    }
   ],
   "source": []
  },
  {
   "cell_type": "code",
   "execution_count": 7,
   "id": "ea08dc8f",
   "metadata": {},
   "outputs": [],
   "source": [
    "y_ = onehot_encode(np.array([0,0,0,0,0,1,1,1,1,1]))\n",
    "X_ = np.array([\n",
    "    [0,33],\n",
    "    [0,54],\n",
    "    [0,56],\n",
    "    [0,42],\n",
    "    [1,50],\n",
    "    [1,55],\n",
    "    [1,31],\n",
    "    [0,-4],\n",
    "    [1,77],\n",
    "    [0,49]\n",
    "    ])\n",
    "# A\t0\t33\t\n",
    "# A\t0\t54\t\n",
    "# A\t0\t56\t\n",
    "# A\t0\t42\t\n",
    "# A\t1\t50\t\n",
    "# B\t1\t55\t\n",
    "# B\t1\t31\t\n",
    "# B\t0\t-4\t\n",
    "# B\t1\t77\t\n",
    "# B\t0\t49"
   ]
  },
  {
   "cell_type": "code",
   "execution_count": 85,
   "id": "08db6952",
   "metadata": {},
   "outputs": [
    {
     "data": {
      "text/plain": [
       "0.4166666666666667"
      ]
     },
     "execution_count": 85,
     "metadata": {},
     "output_type": "execute_result"
    }
   ],
   "source": [
    "le = X_ == 1\n",
    "# y_[le]\n",
    "gini_left = 1 - (y_[le].mean(axis=0) ** 2).sum()\n",
    "gini_right = 1 - (y_[~le].mean(axis=0) ** 2).sum()\n",
    "w = le.sum() / le.shape[0]\n",
    "gini_left * w + gini_right * (1-w)"
   ]
  },
  {
   "cell_type": "code",
   "execution_count": 108,
   "id": "758f9d33",
   "metadata": {},
   "outputs": [],
   "source": [
    "l = gini_impunity(y_[:-1])\n",
    "r = np.flip(gini_impunity(np.flip(y_[1:])))\n"
   ]
  },
  {
   "cell_type": "code",
   "execution_count": 141,
   "id": "37c1b541",
   "metadata": {},
   "outputs": [
    {
     "data": {
      "text/plain": [
       "(array([4.3, 4.4, 4.5, 4.6, 4.7, 4.8, 4.9, 5. , 5.1, 5.2, 5.3, 5.4, 5.5,\n",
       "        5.6, 5.7, 5.8, 5.9, 6. , 6.1, 6.2, 6.3, 6.4, 6.5, 6.6, 6.7, 6.8,\n",
       "        6.9, 7. , 7.1, 7.2, 7.3, 7.4, 7.6, 7.7, 7.9]),\n",
       " array([108,  11,  97,   3,   5,  29,  45,   7,  30,   4,  25,  37,  40,\n",
       "         19,   8,  10,  13,  68,   0,  31,   2,  20,  21,  58,  18, 133,\n",
       "         43, 134,  28,  24, 120,  61,  52,   9,  75], dtype=int64))"
      ]
     },
     "execution_count": 141,
     "metadata": {},
     "output_type": "execute_result"
    }
   ],
   "source": [
    "np.unique(X[:,0], return_index=True)"
   ]
  },
  {
   "cell_type": "code",
   "execution_count": 198,
   "id": "6e9fe3d5",
   "metadata": {},
   "outputs": [],
   "source": [
    "from numba import njit, prange\n",
    "\n",
    "@njit\n",
    "def collapse_levels(X, y):\n",
    "    # Get unique levels of X\n",
    "    X_unique = np.unique(X)\n",
    "    y_agg = np.empty((X_unique.shape[0], y.shape[1]))\n",
    "    n = np.empty((X_unique.shape[0]))\n",
    "    for p in prange(0, X_unique.shape[0]):\n",
    "        x_target = X_unique[p]\n",
    "        y_agg[p, :] = row_mean(y[X == x_target])\n",
    "        n[p] = y[X == x_target].shape[0]\n",
    "\n",
    "    return X_unique, y_agg, n\n",
    "\n",
    "X2, y2, n = collapse_levels(X_, y_)"
   ]
  },
  {
   "cell_type": "code",
   "execution_count": 213,
   "id": "063ef3ab",
   "metadata": {},
   "outputs": [
    {
     "data": {
      "text/plain": [
       "array([0, 1])"
      ]
     },
     "execution_count": 213,
     "metadata": {},
     "output_type": "execute_result"
    }
   ],
   "source": [
    "X2"
   ]
  },
  {
   "cell_type": "code",
   "execution_count": 214,
   "id": "810ba39d",
   "metadata": {},
   "outputs": [
    {
     "data": {
      "text/plain": [
       "array([[0.66666667, 0.33333333],\n",
       "       [0.25      , 0.75      ]])"
      ]
     },
     "execution_count": 214,
     "metadata": {},
     "output_type": "execute_result"
    }
   ],
   "source": [
    "y2"
   ]
  },
  {
   "cell_type": "code",
   "execution_count": 212,
   "id": "a3900832",
   "metadata": {},
   "outputs": [
    {
     "data": {
      "text/plain": [
       "array([6., 4.])"
      ]
     },
     "execution_count": 212,
     "metadata": {},
     "output_type": "execute_result"
    }
   ],
   "source": [
    "n"
   ]
  },
  {
   "cell_type": "code",
   "execution_count": 219,
   "id": "db989616",
   "metadata": {},
   "outputs": [],
   "source": [
    "from sporgboost.utils import row_cumsum\n",
    "\n",
    "@njit\n",
    "def gini_impunity(y):\n",
    "    ''' Computes gini impunity for a given partition of data\n",
    "    \n",
    "    Args:\n",
    "        y (Array): 2-d vector of normalized \n",
    "    '''\n",
    "    return 1 - (y ** 2).sum(axis=1)"
   ]
  },
  {
   "cell_type": "code",
   "execution_count": 211,
   "id": "bf2965c6",
   "metadata": {},
   "outputs": [
    {
     "data": {
      "text/plain": [
       "array([0.0154321 , 0.02013889])"
      ]
     },
     "execution_count": 211,
     "metadata": {},
     "output_type": "execute_result"
    }
   ],
   "source": [
    "((row_cumsum(y2) / row_cumsum(n[:,np.newaxis])) ** 2).sum(axis=1)"
   ]
  },
  {
   "cell_type": "code",
   "execution_count": 220,
   "id": "69270b96",
   "metadata": {},
   "outputs": [
    {
     "data": {
      "text/plain": [
       "array([0.44444444, 0.375     ])"
      ]
     },
     "execution_count": 220,
     "metadata": {},
     "output_type": "execute_result"
    }
   ],
   "source": [
    "gini_impunity(y2)"
   ]
  },
  {
   "cell_type": "code",
   "execution_count": 195,
   "id": "8d238736",
   "metadata": {},
   "outputs": [
    {
     "name": "stdout",
     "output_type": "stream",
     "text": [
      "5.2 µs ± 24.4 ns per loop (mean ± std. dev. of 7 runs, 100,000 loops each)\n"
     ]
    }
   ],
   "source": [
    "%timeit collapse_levels(X_, y_)"
   ]
  },
  {
   "cell_type": "code",
   "execution_count": 192,
   "id": "dfb1f794",
   "metadata": {},
   "outputs": [
    {
     "name": "stdout",
     "output_type": "stream",
     "text": [
      "32.8 µs ± 407 ns per loop (mean ± std. dev. of 7 runs, 10,000 loops each)\n"
     ]
    }
   ],
   "source": [
    "%timeit collapse_levels(X_, y_)"
   ]
  },
  {
   "cell_type": "code",
   "execution_count": 112,
   "id": "41217147",
   "metadata": {},
   "outputs": [
    {
     "data": {
      "text/plain": [
       "array([0.44444444, 0.375     , 0.28571429, 0.16666667, 0.32      ,\n",
       "       0.41666667, 0.28571429, 0.375     , 0.44444444])"
      ]
     },
     "execution_count": 112,
     "metadata": {},
     "output_type": "execute_result"
    }
   ],
   "source": [
    "w = np.arange(1,10) / 10\n",
    "l * w + (1-w) * r"
   ]
  },
  {
   "cell_type": "code",
   "execution_count": 115,
   "id": "df82d321",
   "metadata": {},
   "outputs": [
    {
     "data": {
      "text/plain": [
       "array([ True,  True,  True,  True,  True,  True,  True,  True,  True])"
      ]
     },
     "execution_count": 115,
     "metadata": {},
     "output_type": "execute_result"
    }
   ],
   "source": [
    "weighted_gini(l,r) == l * w + (1-w) * r"
   ]
  },
  {
   "cell_type": "code",
   "execution_count": 113,
   "id": "217099a5",
   "metadata": {},
   "outputs": [
    {
     "data": {
      "text/plain": [
       "array([0.        , 0.        , 0.        , 0.        , 0.32      ,\n",
       "       0.44444444, 0.40816327, 0.46875   , 0.49382716, 0.5       ])"
      ]
     },
     "execution_count": 113,
     "metadata": {},
     "output_type": "execute_result"
    }
   ],
   "source": [
    "gini_impunity(y_)"
   ]
  },
  {
   "cell_type": "code",
   "execution_count": 94,
   "id": "b917b97c",
   "metadata": {},
   "outputs": [
    {
     "data": {
      "text/plain": [
       "0.3333333333333333"
      ]
     },
     "execution_count": 94,
     "metadata": {},
     "output_type": "execute_result"
    }
   ],
   "source": [
    "2/6"
   ]
  },
  {
   "cell_type": "code",
   "execution_count": 80,
   "id": "f4374d25",
   "metadata": {},
   "outputs": [],
   "source": [
    "X_, y_ = sort_pair(X_[:,0], y_)"
   ]
  },
  {
   "cell_type": "code",
   "execution_count": 84,
   "id": "656ddcac",
   "metadata": {},
   "outputs": [
    {
     "data": {
      "text/plain": [
       "array([0.        , 0.        , 0.        , 0.        , 0.32      ,\n",
       "       0.44444444, 0.40816327, 0.46875   , 0.49382716, 0.5       ])"
      ]
     },
     "execution_count": 84,
     "metadata": {},
     "output_type": "execute_result"
    }
   ],
   "source": [
    "gini_impunity(y_)"
   ]
  },
  {
   "cell_type": "code",
   "execution_count": 56,
   "id": "a4a34095",
   "metadata": {},
   "outputs": [
    {
     "data": {
      "text/plain": [
       "6"
      ]
     },
     "execution_count": 56,
     "metadata": {},
     "output_type": "execute_result"
    }
   ],
   "source": [
    "(X_[:,0] == 1).sum()\n",
    "(X_[:,0] != 1).sum()\n"
   ]
  },
  {
   "cell_type": "code",
   "execution_count": 51,
   "id": "48546618",
   "metadata": {},
   "outputs": [
    {
     "data": {
      "text/plain": [
       "0.33333333333333337"
      ]
     },
     "execution_count": 51,
     "metadata": {},
     "output_type": "execute_result"
    }
   ],
   "source": [
    "le = X[:,2] <= 2.25\n",
    "n = len(le)\n",
    "gini_left = 1 - (y[le].mean(axis=0) ** 2).sum()\n",
    "gini_right = 1 - (y[~le].mean(axis=0) ** 2).sum()\n",
    "w = le.sum() / n\n",
    "gini_left * n + gini_right * (1 - w)"
   ]
  },
  {
   "cell_type": "code",
   "execution_count": null,
   "id": "071bfabd",
   "metadata": {},
   "outputs": [],
   "source": [
    "from sporgboost.common import gini_impunity\n",
    "gini_impunity(y_)"
   ]
  },
  {
   "cell_type": "code",
   "execution_count": 47,
   "id": "ec2ecfeb",
   "metadata": {},
   "outputs": [
    {
     "data": {
      "text/plain": [
       "array([0.  , 0.25, 0.25])"
      ]
     },
     "execution_count": 47,
     "metadata": {},
     "output_type": "execute_result"
    }
   ],
   "source": [
    "y[~le].mean(axis=0) ** 2"
   ]
  },
  {
   "cell_type": "code",
   "execution_count": 25,
   "id": "cc4b7b1c",
   "metadata": {},
   "outputs": [
    {
     "data": {
      "text/plain": [
       "[Text(0.5, 0.9166666666666666, 'X[2] <= 2.45\\ngini = 0.444\\nsamples = 150\\nvalue = [[100, 50]\\n[100, 50]\\n[100, 50]]'),\n",
       " Text(0.4230769230769231, 0.75, 'gini = 0.0\\nsamples = 50\\nvalue = [[0, 50]\\n[50, 0]\\n[50, 0]]'),\n",
       " Text(0.5769230769230769, 0.75, 'X[3] <= 1.75\\ngini = 0.333\\nsamples = 100\\nvalue = [[100, 0]\\n[50, 50]\\n[50, 50]]'),\n",
       " Text(0.3076923076923077, 0.5833333333333334, 'X[2] <= 4.95\\ngini = 0.112\\nsamples = 54\\nvalue = [[54, 0]\\n[5, 49]\\n[49, 5]]'),\n",
       " Text(0.15384615384615385, 0.4166666666666667, 'X[3] <= 1.65\\ngini = 0.027\\nsamples = 48\\nvalue = [[48, 0]\\n[1, 47]\\n[47, 1]]'),\n",
       " Text(0.07692307692307693, 0.25, 'gini = 0.0\\nsamples = 47\\nvalue = [[47, 0]\\n[0, 47]\\n[47, 0]]'),\n",
       " Text(0.23076923076923078, 0.25, 'gini = 0.0\\nsamples = 1\\nvalue = [[1, 0]\\n[1, 0]\\n[0, 1]]'),\n",
       " Text(0.46153846153846156, 0.4166666666666667, 'X[3] <= 1.55\\ngini = 0.296\\nsamples = 6\\nvalue = [[6, 0]\\n[4, 2]\\n[2, 4]]'),\n",
       " Text(0.38461538461538464, 0.25, 'gini = 0.0\\nsamples = 3\\nvalue = [[3, 0]\\n[3, 0]\\n[0, 3]]'),\n",
       " Text(0.5384615384615384, 0.25, 'X[0] <= 6.95\\ngini = 0.296\\nsamples = 3\\nvalue = [[3, 0]\\n[1, 2]\\n[2, 1]]'),\n",
       " Text(0.46153846153846156, 0.08333333333333333, 'gini = 0.0\\nsamples = 2\\nvalue = [[2, 0]\\n[0, 2]\\n[2, 0]]'),\n",
       " Text(0.6153846153846154, 0.08333333333333333, 'gini = 0.0\\nsamples = 1\\nvalue = [[1, 0]\\n[1, 0]\\n[0, 1]]'),\n",
       " Text(0.8461538461538461, 0.5833333333333334, 'X[2] <= 4.85\\ngini = 0.028\\nsamples = 46\\nvalue = [[46, 0]\\n[45, 1]\\n[1, 45]]'),\n",
       " Text(0.7692307692307693, 0.4166666666666667, 'X[1] <= 3.1\\ngini = 0.296\\nsamples = 3\\nvalue = [[3, 0]\\n[2, 1]\\n[1, 2]]'),\n",
       " Text(0.6923076923076923, 0.25, 'gini = 0.0\\nsamples = 2\\nvalue = [[2, 0]\\n[2, 0]\\n[0, 2]]'),\n",
       " Text(0.8461538461538461, 0.25, 'gini = 0.0\\nsamples = 1\\nvalue = [[1, 0]\\n[0, 1]\\n[1, 0]]'),\n",
       " Text(0.9230769230769231, 0.4166666666666667, 'gini = 0.0\\nsamples = 43\\nvalue = [[43, 0]\\n[43, 0]\\n[0, 43]]')]"
      ]
     },
     "execution_count": 25,
     "metadata": {},
     "output_type": "execute_result"
    },
    {
     "data": {
      "image/png": "[encoded data removed]",
      "text/plain": [
       "<Figure size 432x288 with 1 Axes>"
      ]
     },
     "metadata": {
      "needs_background": "light"
     },
     "output_type": "display_data"
    }
   ],
   "source": [
    "from sklearn.tree import plot_tree\n",
    "plot_tree(sktree)"
   ]
  },
  {
   "cell_type": "code",
   "execution_count": 15,
   "id": "a5d72d81",
   "metadata": {},
   "outputs": [
    {
     "name": "stdout",
     "output_type": "stream",
     "text": [
      "Help on class Tree in module sklearn.tree._tree:\n",
      "\n",
      "class Tree(builtins.object)\n",
      " |  Array-based representation of a binary decision tree.\n",
      " |  \n",
      " |  The binary tree is represented as a number of parallel arrays. The i-th\n",
      " |  element of each array holds information about the node `i`. Node 0 is the\n",
      " |  tree's root. You can find a detailed description of all arrays in\n",
      " |  `_tree.pxd`. NOTE: Some of the arrays only apply to either leaves or split\n",
      " |  nodes, resp. In this case the values of nodes of the other type are\n",
      " |  arbitrary!\n",
      " |  \n",
      " |  Attributes\n",
      " |  ----------\n",
      " |  node_count : int\n",
      " |      The number of nodes (internal nodes + leaves) in the tree.\n",
      " |  \n",
      " |  capacity : int\n",
      " |      The current capacity (i.e., size) of the arrays, which is at least as\n",
      " |      great as `node_count`.\n",
      " |  \n",
      " |  max_depth : int\n",
      " |      The depth of the tree, i.e. the maximum depth of its leaves.\n",
      " |  \n",
      " |  children_left : array of int, shape [node_count]\n",
      " |      children_left[i] holds the node id of the left child of node i.\n",
      " |      For leaves, children_left[i] == TREE_LEAF. Otherwise,\n",
      " |      children_left[i] > i. This child handles the case where\n",
      " |      X[:, feature[i]] <= threshold[i].\n",
      " |  \n",
      " |  children_right : array of int, shape [node_count]\n",
      " |      children_right[i] holds the node id of the right child of node i.\n",
      " |      For leaves, children_right[i] == TREE_LEAF. Otherwise,\n",
      " |      children_right[i] > i. This child handles the case where\n",
      " |      X[:, feature[i]] > threshold[i].\n",
      " |  \n",
      " |  feature : array of int, shape [node_count]\n",
      " |      feature[i] holds the feature to split on, for the internal node i.\n",
      " |  \n",
      " |  threshold : array of double, shape [node_count]\n",
      " |      threshold[i] holds the threshold for the internal node i.\n",
      " |  \n",
      " |  value : array of double, shape [node_count, n_outputs, max_n_classes]\n",
      " |      Contains the constant prediction value of each node.\n",
      " |  \n",
      " |  impurity : array of double, shape [node_count]\n",
      " |      impurity[i] holds the impurity (i.e., the value of the splitting\n",
      " |      criterion) at node i.\n",
      " |  \n",
      " |  n_node_samples : array of int, shape [node_count]\n",
      " |      n_node_samples[i] holds the number of training samples reaching node i.\n",
      " |  \n",
      " |  weighted_n_node_samples : array of int, shape [node_count]\n",
      " |      weighted_n_node_samples[i] holds the weighted number of training samples\n",
      " |      reaching node i.\n",
      " |  \n",
      " |  Methods defined here:\n",
      " |  \n",
      " |  __getstate__(...)\n",
      " |      Getstate re-implementation, for pickling.\n",
      " |  \n",
      " |  __reduce__(...)\n",
      " |      Reduce re-implementation, for pickling.\n",
      " |  \n",
      " |  __setstate__(...)\n",
      " |      Setstate re-implementation, for unpickling.\n",
      " |  \n",
      " |  apply(...)\n",
      " |      Finds the terminal region (=leaf node) for each sample in X.\n",
      " |  \n",
      " |  compute_feature_importances(...)\n",
      " |      Computes the importance of each feature (aka variable).\n",
      " |  \n",
      " |  compute_partial_dependence(...)\n",
      " |      Partial dependence of the response on the ``target_feature`` set.\n",
      " |      \n",
      " |      For each sample in ``X`` a tree traversal is performed.\n",
      " |      Each traversal starts from the root with weight 1.0.\n",
      " |      \n",
      " |      At each non-leaf node that splits on a target feature, either\n",
      " |      the left child or the right child is visited based on the feature\n",
      " |      value of the current sample, and the weight is not modified.\n",
      " |      At each non-leaf node that splits on a complementary feature,\n",
      " |      both children are visited and the weight is multiplied by the fraction\n",
      " |      of training samples which went to each child.\n",
      " |      \n",
      " |      At each leaf, the value of the node is multiplied by the current\n",
      " |      weight (weights sum to 1 for all visited terminal nodes).\n",
      " |      \n",
      " |      Parameters\n",
      " |      ----------\n",
      " |      X : view on 2d ndarray, shape (n_samples, n_target_features)\n",
      " |          The grid points on which the partial dependence should be\n",
      " |          evaluated.\n",
      " |      target_features : view on 1d ndarray, shape (n_target_features)\n",
      " |          The set of target features for which the partial dependence\n",
      " |          should be evaluated.\n",
      " |      out : view on 1d ndarray, shape (n_samples)\n",
      " |          The value of the partial dependence function on each grid\n",
      " |          point.\n",
      " |  \n",
      " |  decision_path(...)\n",
      " |      Finds the decision path (=node) for each sample in X.\n",
      " |  \n",
      " |  predict(...)\n",
      " |      Predict target for X.\n",
      " |  \n",
      " |  ----------------------------------------------------------------------\n",
      " |  Static methods defined here:\n",
      " |  \n",
      " |  __new__(*args, **kwargs) from builtins.type\n",
      " |      Create and return a new object.  See help(type) for accurate signature.\n",
      " |  \n",
      " |  ----------------------------------------------------------------------\n",
      " |  Data descriptors defined here:\n",
      " |  \n",
      " |  capacity\n",
      " |  \n",
      " |  children_left\n",
      " |  \n",
      " |  children_right\n",
      " |  \n",
      " |  feature\n",
      " |  \n",
      " |  impurity\n",
      " |  \n",
      " |  max_depth\n",
      " |  \n",
      " |  max_n_classes\n",
      " |  \n",
      " |  n_classes\n",
      " |  \n",
      " |  n_features\n",
      " |  \n",
      " |  n_leaves\n",
      " |  \n",
      " |  n_node_samples\n",
      " |  \n",
      " |  n_outputs\n",
      " |  \n",
      " |  node_count\n",
      " |  \n",
      " |  threshold\n",
      " |  \n",
      " |  value\n",
      " |  \n",
      " |  weighted_n_node_samples\n",
      " |  \n",
      " |  ----------------------------------------------------------------------\n",
      " |  Data and other attributes defined here:\n",
      " |  \n",
      " |  __pyx_vtable__ = <capsule object NULL>\n",
      "\n"
     ]
    }
   ],
   "source": [
    "from sklearn.tree._tree import Tree\n",
    "help(Tree) "
   ]
  },
  {
   "cell_type": "code",
   "execution_count": 13,
   "id": "7a5c2233",
   "metadata": {},
   "outputs": [
    {
     "data": {
      "text/plain": [
       "['__abstractmethods__',\n",
       " '__class__',\n",
       " '__delattr__',\n",
       " '__dict__',\n",
       " '__dir__',\n",
       " '__doc__',\n",
       " '__eq__',\n",
       " '__format__',\n",
       " '__ge__',\n",
       " '__getattribute__',\n",
       " '__getstate__',\n",
       " '__gt__',\n",
       " '__hash__',\n",
       " '__init__',\n",
       " '__init_subclass__',\n",
       " '__le__',\n",
       " '__lt__',\n",
       " '__module__',\n",
       " '__ne__',\n",
       " '__new__',\n",
       " '__reduce__',\n",
       " '__reduce_ex__',\n",
       " '__repr__',\n",
       " '__setattr__',\n",
       " '__setstate__',\n",
       " '__sizeof__',\n",
       " '__str__',\n",
       " '__subclasshook__',\n",
       " '__weakref__',\n",
       " '_abc_impl',\n",
       " '_check_feature_names',\n",
       " '_check_n_features',\n",
       " '_estimator_type',\n",
       " '_get_param_names',\n",
       " '_get_tags',\n",
       " '_more_tags',\n",
       " '_prune_tree',\n",
       " '_repr_html_',\n",
       " '_repr_html_inner',\n",
       " '_repr_mimebundle_',\n",
       " '_validate_X_predict',\n",
       " '_validate_data',\n",
       " 'apply',\n",
       " 'ccp_alpha',\n",
       " 'class_weight',\n",
       " 'classes_',\n",
       " 'cost_complexity_pruning_path',\n",
       " 'criterion',\n",
       " 'decision_path',\n",
       " 'feature_importances_',\n",
       " 'fit',\n",
       " 'get_depth',\n",
       " 'get_n_leaves',\n",
       " 'get_params',\n",
       " 'max_depth',\n",
       " 'max_features',\n",
       " 'max_features_',\n",
       " 'max_leaf_nodes',\n",
       " 'min_impurity_decrease',\n",
       " 'min_samples_leaf',\n",
       " 'min_samples_split',\n",
       " 'min_weight_fraction_leaf',\n",
       " 'n_classes_',\n",
       " 'n_features_',\n",
       " 'n_features_in_',\n",
       " 'n_outputs_',\n",
       " 'predict',\n",
       " 'predict_log_proba',\n",
       " 'predict_proba',\n",
       " 'random_state',\n",
       " 'score',\n",
       " 'set_params',\n",
       " 'splitter',\n",
       " 'tree_']"
      ]
     },
     "execution_count": 13,
     "metadata": {},
     "output_type": "execute_result"
    }
   ],
   "source": [
    "dir(sktree)"
   ]
  },
  {
   "cell_type": "code",
   "execution_count": 9,
   "id": "077c7d6b",
   "metadata": {},
   "outputs": [],
   "source": [
    "from numba.experimental import jitclass\n",
    "from numba import float32, int16\n",
    "from sporgboost.projections import Identity\n",
    "from sporgboost.common import gini_impunity\n",
    "from sporgboost.utils import row_mean\n",
    "\n",
    "class DecisionStump():\n",
    "    def __init__(self,\n",
    "                 base_proj = Identity,\n",
    "                 **kwargs\n",
    "                ):\n",
    "        self.base_proj = base_proj\n",
    "        self.proj = base_proj()\n",
    "    \n",
    "    def fit(self, X, y):\n",
    "        # General info\n",
    "        self.n_classes = y.shape[1]\n",
    "        \n",
    "        # Project the data onto a new hyperplane\n",
    "        self.proj.fit(X, y)\n",
    "        X_proj = self.proj.transform(X)\n",
    "        \n",
    "        # Set the split col and value\n",
    "        self.col_idx, self.value = best_split(X_proj, y)\n",
    "        self.proj.select(self.col_idx)\n",
    "        \n",
    "        # Check partitions for impunity and decide if we are adding a leaf or another stump\n",
    "        le = (X_proj[:, self.col_idx] <= self.value)\n",
    "        left_value = row_mean(y[le])\n",
    "        right_value = row_mean(y[~le])\n",
    "\n",
    "        if (le.sum() == X.shape[0]) or (le.sum() == 0):\n",
    "            raise ValueError(f\"One partition is entirely empty, returning diagnostic info\"\n",
    "                             f\"\\nX:\\n{X}\\ny:\\n{y}\\ncol_idx={self.col_idx}\\nsplit_value={self.value}\"\n",
    "                             f\"\\nfind_split_info={find_split(X_proj, y)}\"\n",
    "                            )\n",
    "            \n",
    "        if left_value.max() == 1:\n",
    "            self.left = left_value  \n",
    "        else:\n",
    "            self.left = DecisionStump(proj = self.proj).fit(X[le], y[le])\n",
    "            \n",
    "        if right_value.max() == 1:\n",
    "            self.right = right_value \n",
    "        else:\n",
    "            self.right = DecisionStump(proj = self.proj).fit(X[~le], y[~le])\n",
    "\n",
    "        return self\n",
    "    \n",
    "    def predict(self, X):\n",
    "        X_proj = self.proj.transform(X)\n",
    "        y_pred = np.empty((X.shape[0], self.n_classes), 'float32')\n",
    "        \n",
    "        le = (X_proj <= self.value).flatten()\n",
    "        if isinstance(self.left, DecisionStump):\n",
    "            y_pred[le, :] = self.left.predict(X[le])\n",
    "        else:\n",
    "            y_pred[le, :] = self.left\n",
    "        \n",
    "        if isinstance(self.right, DecisionStump):\n",
    "            y_pred[~le, :] = self.right.predict(X[~le])\n",
    "        else:\n",
    "            y_pred[~le, :] = self.right\n",
    "            \n",
    "        y_pred[X_proj > self.value] = self.right.predict(X[X_proj > self.value])\n",
    "        return(y_pred)"
   ]
  },
  {
   "cell_type": "code",
   "execution_count": null,
   "id": "1bcf5a05",
   "metadata": {},
   "outputs": [],
   "source": []
  },
  {
   "cell_type": "code",
   "execution_count": 10,
   "id": "672eb10a",
   "metadata": {},
   "outputs": [
    {
     "ename": "ValueError",
     "evalue": "One partition is entirely empty, returning diagnostic info\nX:\n[[4.6 3.4 1.4 0.3]\n [5.2 2.7 3.9 1.4]\n [4.7 3.2 1.6 0.2]\n [5.2 3.5 1.5 0.2]\n [5.  3.2 1.2 0.2]\n [5.7 2.8 4.1 1.3]\n [5.8 2.7 3.9 1.2]\n [4.4 3.2 1.3 0.2]\n [5.  3.5 1.6 0.6]\n [5.7 2.6 3.5 1. ]\n [5.  3.  1.6 0.2]\n [5.3 3.7 1.5 0.2]\n [5.8 2.6 4.  1.2]\n [4.8 3.4 1.6 0.2]\n [5.1 2.5 3.  1.1]\n [5.  3.5 1.3 0.3]\n [4.8 3.4 1.9 0.2]\n [4.4 2.9 1.4 0.2]\n [5.4 3.4 1.7 0.2]\n [4.6 3.6 1.  0.2]\n [5.  2.3 3.3 1. ]\n [5.5 3.5 1.3 0.2]\n [5.2 4.1 1.5 0.1]\n [4.9 3.1 1.5 0.1]\n [4.9 3.  1.4 0.2]\n [4.9 2.4 3.3 1. ]\n [5.6 2.9 3.6 1.3]\n [5.1 3.5 1.4 0.3]\n [5.1 3.4 1.5 0.2]\n [5.1 3.7 1.5 0.4]\n [5.5 4.2 1.4 0.2]\n [5.1 3.5 1.4 0.2]\n [6.  2.2 4.  1. ]\n [5.  3.6 1.4 0.2]\n [5.4 3.7 1.5 0.2]\n [5.7 4.4 1.5 0.4]\n [5.6 3.  4.1 1.3]\n [5.4 3.9 1.7 0.4]\n [5.8 2.7 4.1 1. ]\n [5.  3.4 1.5 0.2]\n [5.7 3.8 1.7 0.3]\n [5.  3.3 1.4 0.2]\n [5.1 3.8 1.9 0.4]\n [4.5 2.3 1.3 0.3]\n [5.4 3.9 1.3 0.4]\n [4.8 3.  1.4 0.3]\n [5.5 2.5 4.  1.3]\n [5.4 3.4 1.5 0.4]\n [4.3 3.  1.1 0.1]\n [5.2 3.4 1.4 0.2]\n [5.1 3.8 1.6 0.2]\n [5.  2.  3.5 1. ]\n [6.1 2.8 4.  1.3]\n [5.8 4.  1.2 0.2]\n [5.5 2.4 3.7 1. ]\n [4.8 3.  1.4 0.1]\n [5.1 3.8 1.5 0.3]\n [4.7 3.2 1.3 0.2]\n [4.6 3.1 1.5 0.2]\n [4.9 3.1 1.5 0.2]\n [4.9 3.6 1.4 0.1]\n [5.5 2.4 3.8 1.1]\n [5.6 2.5 3.9 1.1]\n [5.  3.4 1.6 0.4]\n [4.8 3.1 1.6 0.2]\n [5.1 3.3 1.7 0.5]\n [5.5 2.3 4.  1.3]\n [4.4 3.  1.3 0.2]\n [4.6 3.2 1.4 0.2]]\ny:\n[[1. 0. 0.]\n [0. 1. 0.]\n [1. 0. 0.]\n [1. 0. 0.]\n [1. 0. 0.]\n [0. 1. 0.]\n [0. 1. 0.]\n [1. 0. 0.]\n [1. 0. 0.]\n [0. 1. 0.]\n [1. 0. 0.]\n [1. 0. 0.]\n [0. 1. 0.]\n [1. 0. 0.]\n [0. 1. 0.]\n [1. 0. 0.]\n [1. 0. 0.]\n [1. 0. 0.]\n [1. 0. 0.]\n [1. 0. 0.]\n [0. 1. 0.]\n [1. 0. 0.]\n [1. 0. 0.]\n [1. 0. 0.]\n [1. 0. 0.]\n [0. 1. 0.]\n [0. 1. 0.]\n [1. 0. 0.]\n [1. 0. 0.]\n [1. 0. 0.]\n [1. 0. 0.]\n [1. 0. 0.]\n [0. 1. 0.]\n [1. 0. 0.]\n [1. 0. 0.]\n [1. 0. 0.]\n [0. 1. 0.]\n [1. 0. 0.]\n [0. 1. 0.]\n [1. 0. 0.]\n [1. 0. 0.]\n [1. 0. 0.]\n [1. 0. 0.]\n [1. 0. 0.]\n [1. 0. 0.]\n [1. 0. 0.]\n [0. 1. 0.]\n [1. 0. 0.]\n [1. 0. 0.]\n [1. 0. 0.]\n [1. 0. 0.]\n [0. 1. 0.]\n [0. 1. 0.]\n [1. 0. 0.]\n [0. 1. 0.]\n [1. 0. 0.]\n [1. 0. 0.]\n [1. 0. 0.]\n [1. 0. 0.]\n [1. 0. 0.]\n [1. 0. 0.]\n [0. 1. 0.]\n [0. 1. 0.]\n [1. 0. 0.]\n [1. 0. 0.]\n [1. 0. 0.]\n [0. 1. 0.]\n [1. 0. 0.]\n [1. 0. 0.]]\ncol_idx=2\nsplit_value=4.1\nfind_split_info=[[6.         0.17292957]\n [3.         0.20393694]\n [4.1        0.08315066]\n [1.3        0.08315066]]",
     "output_type": "error",
     "traceback": [
      "\u001b[1;31m---------------------------------------------------------------------------\u001b[0m",
      "\u001b[1;31mValueError\u001b[0m                                Traceback (most recent call last)",
      "File \u001b[1;32m<timed exec>:2\u001b[0m, in \u001b[0;36m<module>\u001b[1;34m\u001b[0m\n",
      "\u001b[1;32mc:\\Users\\Ed\\OneDrive - Johns Hopkins\\Desktop\\Adv_ML_Project\\RF.ipynb Cell 6'\u001b[0m in \u001b[0;36mDecisionStump.fit\u001b[1;34m(self, X, y)\u001b[0m\n\u001b[0;32m     <a href='vscode-notebook-cell:/c%3A/Users/Ed/OneDrive%20-%20Johns%20Hopkins/Desktop/Adv_ML_Project/RF.ipynb#ch0000003?line=38'>39</a>\u001b[0m     \u001b[39mself\u001b[39m\u001b[39m.\u001b[39mleft \u001b[39m=\u001b[39m left_value  \n\u001b[0;32m     <a href='vscode-notebook-cell:/c%3A/Users/Ed/OneDrive%20-%20Johns%20Hopkins/Desktop/Adv_ML_Project/RF.ipynb#ch0000003?line=39'>40</a>\u001b[0m \u001b[39melse\u001b[39;00m:\n\u001b[1;32m---> <a href='vscode-notebook-cell:/c%3A/Users/Ed/OneDrive%20-%20Johns%20Hopkins/Desktop/Adv_ML_Project/RF.ipynb#ch0000003?line=40'>41</a>\u001b[0m     \u001b[39mself\u001b[39m\u001b[39m.\u001b[39mleft \u001b[39m=\u001b[39m DecisionStump(proj \u001b[39m=\u001b[39;49m \u001b[39mself\u001b[39;49m\u001b[39m.\u001b[39;49mproj)\u001b[39m.\u001b[39;49mfit(X[le], y[le])\n\u001b[0;32m     <a href='vscode-notebook-cell:/c%3A/Users/Ed/OneDrive%20-%20Johns%20Hopkins/Desktop/Adv_ML_Project/RF.ipynb#ch0000003?line=42'>43</a>\u001b[0m \u001b[39mif\u001b[39;00m right_value\u001b[39m.\u001b[39mmax() \u001b[39m==\u001b[39m \u001b[39m1\u001b[39m:\n\u001b[0;32m     <a href='vscode-notebook-cell:/c%3A/Users/Ed/OneDrive%20-%20Johns%20Hopkins/Desktop/Adv_ML_Project/RF.ipynb#ch0000003?line=43'>44</a>\u001b[0m     \u001b[39mself\u001b[39m\u001b[39m.\u001b[39mright \u001b[39m=\u001b[39m right_value \n",
      "\u001b[1;32mc:\\Users\\Ed\\OneDrive - Johns Hopkins\\Desktop\\Adv_ML_Project\\RF.ipynb Cell 6'\u001b[0m in \u001b[0;36mDecisionStump.fit\u001b[1;34m(self, X, y)\u001b[0m\n\u001b[0;32m     <a href='vscode-notebook-cell:/c%3A/Users/Ed/OneDrive%20-%20Johns%20Hopkins/Desktop/Adv_ML_Project/RF.ipynb#ch0000003?line=38'>39</a>\u001b[0m     \u001b[39mself\u001b[39m\u001b[39m.\u001b[39mleft \u001b[39m=\u001b[39m left_value  \n\u001b[0;32m     <a href='vscode-notebook-cell:/c%3A/Users/Ed/OneDrive%20-%20Johns%20Hopkins/Desktop/Adv_ML_Project/RF.ipynb#ch0000003?line=39'>40</a>\u001b[0m \u001b[39melse\u001b[39;00m:\n\u001b[1;32m---> <a href='vscode-notebook-cell:/c%3A/Users/Ed/OneDrive%20-%20Johns%20Hopkins/Desktop/Adv_ML_Project/RF.ipynb#ch0000003?line=40'>41</a>\u001b[0m     \u001b[39mself\u001b[39m\u001b[39m.\u001b[39mleft \u001b[39m=\u001b[39m DecisionStump(proj \u001b[39m=\u001b[39;49m \u001b[39mself\u001b[39;49m\u001b[39m.\u001b[39;49mproj)\u001b[39m.\u001b[39;49mfit(X[le], y[le])\n\u001b[0;32m     <a href='vscode-notebook-cell:/c%3A/Users/Ed/OneDrive%20-%20Johns%20Hopkins/Desktop/Adv_ML_Project/RF.ipynb#ch0000003?line=42'>43</a>\u001b[0m \u001b[39mif\u001b[39;00m right_value\u001b[39m.\u001b[39mmax() \u001b[39m==\u001b[39m \u001b[39m1\u001b[39m:\n\u001b[0;32m     <a href='vscode-notebook-cell:/c%3A/Users/Ed/OneDrive%20-%20Johns%20Hopkins/Desktop/Adv_ML_Project/RF.ipynb#ch0000003?line=43'>44</a>\u001b[0m     \u001b[39mself\u001b[39m\u001b[39m.\u001b[39mright \u001b[39m=\u001b[39m right_value \n",
      "\u001b[1;32mc:\\Users\\Ed\\OneDrive - Johns Hopkins\\Desktop\\Adv_ML_Project\\RF.ipynb Cell 6'\u001b[0m in \u001b[0;36mDecisionStump.fit\u001b[1;34m(self, X, y)\u001b[0m\n\u001b[0;32m     <a href='vscode-notebook-cell:/c%3A/Users/Ed/OneDrive%20-%20Johns%20Hopkins/Desktop/Adv_ML_Project/RF.ipynb#ch0000003?line=29'>30</a>\u001b[0m right_value \u001b[39m=\u001b[39m row_mean(y[\u001b[39m~\u001b[39mle])\n\u001b[0;32m     <a href='vscode-notebook-cell:/c%3A/Users/Ed/OneDrive%20-%20Johns%20Hopkins/Desktop/Adv_ML_Project/RF.ipynb#ch0000003?line=31'>32</a>\u001b[0m \u001b[39mif\u001b[39;00m (le\u001b[39m.\u001b[39msum() \u001b[39m==\u001b[39m X\u001b[39m.\u001b[39mshape[\u001b[39m0\u001b[39m]) \u001b[39mor\u001b[39;00m (le\u001b[39m.\u001b[39msum() \u001b[39m==\u001b[39m \u001b[39m0\u001b[39m):\n\u001b[1;32m---> <a href='vscode-notebook-cell:/c%3A/Users/Ed/OneDrive%20-%20Johns%20Hopkins/Desktop/Adv_ML_Project/RF.ipynb#ch0000003?line=32'>33</a>\u001b[0m     \u001b[39mraise\u001b[39;00m \u001b[39mValueError\u001b[39;00m(\u001b[39mf\u001b[39m\u001b[39m\"\u001b[39m\u001b[39mOne partition is entirely empty, returning diagnostic info\u001b[39m\u001b[39m\"\u001b[39m\n\u001b[0;32m     <a href='vscode-notebook-cell:/c%3A/Users/Ed/OneDrive%20-%20Johns%20Hopkins/Desktop/Adv_ML_Project/RF.ipynb#ch0000003?line=33'>34</a>\u001b[0m                      \u001b[39mf\u001b[39m\u001b[39m\"\u001b[39m\u001b[39m\\n\u001b[39;00m\u001b[39mX:\u001b[39m\u001b[39m\\n\u001b[39;00m\u001b[39m{\u001b[39;00mX\u001b[39m}\u001b[39;00m\u001b[39m\\n\u001b[39;00m\u001b[39my:\u001b[39m\u001b[39m\\n\u001b[39;00m\u001b[39m{\u001b[39;00my\u001b[39m}\u001b[39;00m\u001b[39m\\n\u001b[39;00m\u001b[39mcol_idx=\u001b[39m\u001b[39m{\u001b[39;00m\u001b[39mself\u001b[39m\u001b[39m.\u001b[39mcol_idx\u001b[39m}\u001b[39;00m\u001b[39m\\n\u001b[39;00m\u001b[39msplit_value=\u001b[39m\u001b[39m{\u001b[39;00m\u001b[39mself\u001b[39m\u001b[39m.\u001b[39mvalue\u001b[39m}\u001b[39;00m\u001b[39m\"\u001b[39m\n\u001b[0;32m     <a href='vscode-notebook-cell:/c%3A/Users/Ed/OneDrive%20-%20Johns%20Hopkins/Desktop/Adv_ML_Project/RF.ipynb#ch0000003?line=34'>35</a>\u001b[0m                      \u001b[39mf\u001b[39m\u001b[39m\"\u001b[39m\u001b[39m\\n\u001b[39;00m\u001b[39mfind_split_info=\u001b[39m\u001b[39m{\u001b[39;00mfind_split(X_proj, y)\u001b[39m}\u001b[39;00m\u001b[39m\"\u001b[39m\n\u001b[0;32m     <a href='vscode-notebook-cell:/c%3A/Users/Ed/OneDrive%20-%20Johns%20Hopkins/Desktop/Adv_ML_Project/RF.ipynb#ch0000003?line=35'>36</a>\u001b[0m                     )\n\u001b[0;32m     <a href='vscode-notebook-cell:/c%3A/Users/Ed/OneDrive%20-%20Johns%20Hopkins/Desktop/Adv_ML_Project/RF.ipynb#ch0000003?line=37'>38</a>\u001b[0m \u001b[39mif\u001b[39;00m left_value\u001b[39m.\u001b[39mmax() \u001b[39m==\u001b[39m \u001b[39m1\u001b[39m:\n\u001b[0;32m     <a href='vscode-notebook-cell:/c%3A/Users/Ed/OneDrive%20-%20Johns%20Hopkins/Desktop/Adv_ML_Project/RF.ipynb#ch0000003?line=38'>39</a>\u001b[0m     \u001b[39mself\u001b[39m\u001b[39m.\u001b[39mleft \u001b[39m=\u001b[39m left_value  \n",
      "\u001b[1;31mValueError\u001b[0m: One partition is entirely empty, returning diagnostic info\nX:\n[[4.6 3.4 1.4 0.3]\n [5.2 2.7 3.9 1.4]\n [4.7 3.2 1.6 0.2]\n [5.2 3.5 1.5 0.2]\n [5.  3.2 1.2 0.2]\n [5.7 2.8 4.1 1.3]\n [5.8 2.7 3.9 1.2]\n [4.4 3.2 1.3 0.2]\n [5.  3.5 1.6 0.6]\n [5.7 2.6 3.5 1. ]\n [5.  3.  1.6 0.2]\n [5.3 3.7 1.5 0.2]\n [5.8 2.6 4.  1.2]\n [4.8 3.4 1.6 0.2]\n [5.1 2.5 3.  1.1]\n [5.  3.5 1.3 0.3]\n [4.8 3.4 1.9 0.2]\n [4.4 2.9 1.4 0.2]\n [5.4 3.4 1.7 0.2]\n [4.6 3.6 1.  0.2]\n [5.  2.3 3.3 1. ]\n [5.5 3.5 1.3 0.2]\n [5.2 4.1 1.5 0.1]\n [4.9 3.1 1.5 0.1]\n [4.9 3.  1.4 0.2]\n [4.9 2.4 3.3 1. ]\n [5.6 2.9 3.6 1.3]\n [5.1 3.5 1.4 0.3]\n [5.1 3.4 1.5 0.2]\n [5.1 3.7 1.5 0.4]\n [5.5 4.2 1.4 0.2]\n [5.1 3.5 1.4 0.2]\n [6.  2.2 4.  1. ]\n [5.  3.6 1.4 0.2]\n [5.4 3.7 1.5 0.2]\n [5.7 4.4 1.5 0.4]\n [5.6 3.  4.1 1.3]\n [5.4 3.9 1.7 0.4]\n [5.8 2.7 4.1 1. ]\n [5.  3.4 1.5 0.2]\n [5.7 3.8 1.7 0.3]\n [5.  3.3 1.4 0.2]\n [5.1 3.8 1.9 0.4]\n [4.5 2.3 1.3 0.3]\n [5.4 3.9 1.3 0.4]\n [4.8 3.  1.4 0.3]\n [5.5 2.5 4.  1.3]\n [5.4 3.4 1.5 0.4]\n [4.3 3.  1.1 0.1]\n [5.2 3.4 1.4 0.2]\n [5.1 3.8 1.6 0.2]\n [5.  2.  3.5 1. ]\n [6.1 2.8 4.  1.3]\n [5.8 4.  1.2 0.2]\n [5.5 2.4 3.7 1. ]\n [4.8 3.  1.4 0.1]\n [5.1 3.8 1.5 0.3]\n [4.7 3.2 1.3 0.2]\n [4.6 3.1 1.5 0.2]\n [4.9 3.1 1.5 0.2]\n [4.9 3.6 1.4 0.1]\n [5.5 2.4 3.8 1.1]\n [5.6 2.5 3.9 1.1]\n [5.  3.4 1.6 0.4]\n [4.8 3.1 1.6 0.2]\n [5.1 3.3 1.7 0.5]\n [5.5 2.3 4.  1.3]\n [4.4 3.  1.3 0.2]\n [4.6 3.2 1.4 0.2]]\ny:\n[[1. 0. 0.]\n [0. 1. 0.]\n [1. 0. 0.]\n [1. 0. 0.]\n [1. 0. 0.]\n [0. 1. 0.]\n [0. 1. 0.]\n [1. 0. 0.]\n [1. 0. 0.]\n [0. 1. 0.]\n [1. 0. 0.]\n [1. 0. 0.]\n [0. 1. 0.]\n [1. 0. 0.]\n [0. 1. 0.]\n [1. 0. 0.]\n [1. 0. 0.]\n [1. 0. 0.]\n [1. 0. 0.]\n [1. 0. 0.]\n [0. 1. 0.]\n [1. 0. 0.]\n [1. 0. 0.]\n [1. 0. 0.]\n [1. 0. 0.]\n [0. 1. 0.]\n [0. 1. 0.]\n [1. 0. 0.]\n [1. 0. 0.]\n [1. 0. 0.]\n [1. 0. 0.]\n [1. 0. 0.]\n [0. 1. 0.]\n [1. 0. 0.]\n [1. 0. 0.]\n [1. 0. 0.]\n [0. 1. 0.]\n [1. 0. 0.]\n [0. 1. 0.]\n [1. 0. 0.]\n [1. 0. 0.]\n [1. 0. 0.]\n [1. 0. 0.]\n [1. 0. 0.]\n [1. 0. 0.]\n [1. 0. 0.]\n [0. 1. 0.]\n [1. 0. 0.]\n [1. 0. 0.]\n [1. 0. 0.]\n [1. 0. 0.]\n [0. 1. 0.]\n [0. 1. 0.]\n [1. 0. 0.]\n [0. 1. 0.]\n [1. 0. 0.]\n [1. 0. 0.]\n [1. 0. 0.]\n [1. 0. 0.]\n [1. 0. 0.]\n [1. 0. 0.]\n [0. 1. 0.]\n [0. 1. 0.]\n [1. 0. 0.]\n [1. 0. 0.]\n [1. 0. 0.]\n [0. 1. 0.]\n [1. 0. 0.]\n [1. 0. 0.]]\ncol_idx=2\nsplit_value=4.1\nfind_split_info=[[6.         0.17292957]\n [3.         0.20393694]\n [4.1        0.08315066]\n [1.3        0.08315066]]"
     ]
    }
   ],
   "source": [
    "%%time\n",
    "test = DecisionStump()\n",
    "test.fit(X, y)"
   ]
  },
  {
   "cell_type": "code",
   "execution_count": 8,
   "id": "12a0eaba",
   "metadata": {},
   "outputs": [
    {
     "ename": "AttributeError",
     "evalue": "'DecisionStump' object has no attribute 'left'",
     "output_type": "error",
     "traceback": [
      "\u001b[1;31m---------------------------------------------------------------------------\u001b[0m",
      "\u001b[1;31mAttributeError\u001b[0m                            Traceback (most recent call last)",
      "\u001b[1;32mc:\\Users\\Ed\\OneDrive - Johns Hopkins\\Desktop\\Adv_ML_Project\\RF.ipynb Cell 8'\u001b[0m in \u001b[0;36m<module>\u001b[1;34m\u001b[0m\n\u001b[1;32m----> <a href='vscode-notebook-cell:/c%3A/Users/Ed/OneDrive%20-%20Johns%20Hopkins/Desktop/Adv_ML_Project/RF.ipynb#ch0000011?line=0'>1</a>\u001b[0m test\u001b[39m.\u001b[39;49mleft\n",
      "\u001b[1;31mAttributeError\u001b[0m: 'DecisionStump' object has no attribute 'left'"
     ]
    }
   ],
   "source": [
    "test.left"
   ]
  }
 ],
 "metadata": {
  "kernelspec": {
   "display_name": "SPORF",
   "language": "python",
   "name": "sporf"
  },
  "language_info": {
   "codemirror_mode": {
    "name": "ipython",
    "version": 3
   },
   "file_extension": ".py",
   "mimetype": "text/x-python",
   "name": "python",
   "nbconvert_exporter": "python",
   "pygments_lexer": "ipython3",
   "version": "3.8.12"
  }
 },
 "nbformat": 4,
 "nbformat_minor": 5
}
