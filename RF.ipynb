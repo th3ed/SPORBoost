{
 "cells": [
  {
   "cell_type": "code",
   "execution_count": 1,
   "id": "3597138f-3be1-4461-a020-dba09287bb91",
   "metadata": {},
   "outputs": [],
   "source": [
    "from sporgboost.forests import *\n",
    "from sklearn.metrics import roc_auc_score\n",
    "from get_data import load\n",
    "from sklearn.metrics import roc_auc_score\n",
    "from sklearn.datasets import load_iris\n",
    "from sporgboost.preprocessing import onehot_encode\n",
    "# X, y = load(\"data/sparse_parity.parquet\")\n",
    "X, y = load_iris(return_X_y=True)\n",
    "y = onehot_encode(y)\n"
   ]
  },
  {
   "cell_type": "code",
   "execution_count": 21,
   "id": "d6d0c3fd",
   "metadata": {},
   "outputs": [],
   "source": [
    "# from sporgboost.trees import AxisAlignedDecisionTree\n",
    "\n",
    "aa = AxisAlignedDecisionTree()\n",
    "D = np.full(fill_value=1/X.shape[0], shape=(X.shape[0]))\n",
    "aa.fit(X, y)"
   ]
  },
  {
   "cell_type": "code",
   "execution_count": 9,
   "id": "e7019ba5",
   "metadata": {},
   "outputs": [
    {
     "data": {
      "text/plain": [
       "(3, 0.8)"
      ]
     },
     "execution_count": 9,
     "metadata": {},
     "output_type": "execute_result"
    }
   ],
   "source": [
    "from sporgboost.common._split import best_split\n",
    "t = best_split(X, y, D[:, np.newaxis])\n",
    "t"
   ]
  },
  {
   "cell_type": "code",
   "execution_count": 102,
   "id": "b9686872",
   "metadata": {},
   "outputs": [
    {
     "name": "stdout",
     "output_type": "stream",
     "text": [
      "[0.01 0.01 0.01 0.01 0.01]\n",
      "1.0000000000000002\n",
      "[0.01 0.01 0.01 0.01 0.01]\n",
      "0.9999999999999999\n",
      "[0.01470588 0.01470588 0.01470588 0.01470588 0.01470588]\n",
      "1.0\n"
     ]
    },
    {
     "data": {
      "text/plain": [
       "array([ 50.,   0., 100.])"
      ]
     },
     "execution_count": 102,
     "metadata": {},
     "output_type": "execute_result"
    }
   ],
   "source": [
    "from numba.experimental import jitclass\n",
    "from numba.types import uint32, int64, DictType\n",
    "from sporgboost.trees import *\n",
    "from sporgboost._forest_base import _predict_forest, _predict_proba_forest, _ada_alpha, _ada_eta, _ada_misclassified, _ada_weight_update\n",
    "import numpy as np\n",
    "from sporgboost._arrays import choice_replacement_weighted\n",
    "\n",
    "class AdaBoost():\n",
    "    def __init__(self, n_trees = 3, max_depth = 1, seed = 1234):\n",
    "        self.n_trees = n_trees\n",
    "        self.max_depth = max_depth\n",
    "        self.seed = seed\n",
    "        self.alpha = np.empty(shape=(self.n_trees))\n",
    "\n",
    "    def fit(self, X, y):\n",
    "        self.n_classes = y.shape[1]\n",
    "\n",
    "        # Initalize trees\n",
    "        forest = {}\n",
    "\n",
    "        # Boosted trees must be fit sequentially\n",
    "        # Give all samples equal weight initially\n",
    "        D = np.full(shape=(X.shape[0]), fill_value=1/X.shape[0])\n",
    "\n",
    "        for idx_forest in range(self.n_trees):\n",
    "            invalid_tree = True\n",
    "            while invalid_tree:\n",
    "                # Draw a sample\n",
    "                idx = np.random.choice(np.arange(X.shape[0]), size=X.shape[0], replace=True, p=D)\n",
    "                X_, y_ = X[idx, :], y[idx, : ]\n",
    "                # X_, y_ = choice_replacement_weighted(X, y, D)\n",
    "\n",
    "                # Init and train a tree\n",
    "                forest[idx_forest] = AxisAlignedDecisionTree(self.max_depth)\n",
    "                forest[idx_forest].fit(X_, y_)\n",
    "\n",
    "                # Update weights based on forest errors\n",
    "                y_pred = forest[idx_forest].predict(X)\n",
    "\n",
    "                # Perform a weight update\n",
    "                miss = _ada_misclassified(y, y_pred)\n",
    "                eta = _ada_eta(miss, D)\n",
    "\n",
    "                # Discard rules\n",
    "                # https://github.com/scikit-learn/scikit-learn/blob/37ac6788c95\n",
    "                # 04ee409b75e5e24ff7d86c90c2ffb/sklearn/ensemble/_weight_\n",
    "                # boosting.py#L637\n",
    "                if (eta <= 0.) or (eta >= 1. - (1.0 / y.shape[1])):\n",
    "                    # Tree is worse than random, or overfit, redraw\n",
    "                    continue\n",
    "                \n",
    "                # Tree is valid, we can update weights and break the loop\n",
    "                invalid_tree = False\n",
    "\n",
    "                # Save new weights and the alpha value for prediction\n",
    "                self.alpha[idx_forest] = _ada_alpha(eta)\n",
    "                D = _ada_weight_update(y, y_pred, D, eta, miss)\n",
    "                print(D[:5])\n",
    "                print(D.sum())\n",
    "\n",
    "        self.forest = forest\n",
    "\n",
    "    def predict(self, X):\n",
    "        return _predict_forest(X, self.forest, self.n_classes, weights=self.alpha)\n",
    "\n",
    "    def predict_proba(self, X):\n",
    "        return _predict_proba_forest(X, self.forest, self.n_classes, weights=self.alpha)\n",
    "\n",
    "ada = AdaBoost()\n",
    "ada.fit(X, y)\n",
    "ada.predict(X).sum(axis=0)"
   ]
  },
  {
   "cell_type": "code",
   "execution_count": 97,
   "id": "9f26cd2c",
   "metadata": {},
   "outputs": [
    {
     "data": {
      "text/plain": [
       "0.96"
      ]
     },
     "execution_count": 97,
     "metadata": {},
     "output_type": "execute_result"
    }
   ],
   "source": [
    "from sklearn.ensemble import AdaBoostClassifier\n",
    "\n",
    "ada_sk = AdaBoostClassifier(algorithm='SAMME', n_estimators=3)\n",
    "ada_sk.fit(X, y)\n",
    "np.sum(ada_sk.predict(X) == y) / 150"
   ]
  },
  {
   "cell_type": "code",
   "execution_count": null,
   "id": "953cfb6a",
   "metadata": {},
   "outputs": [],
   "source": []
  },
  {
   "cell_type": "code",
   "execution_count": 92,
   "id": "77667783",
   "metadata": {},
   "outputs": [
    {
     "data": {
      "text/plain": [
       "144"
      ]
     },
     "execution_count": 92,
     "metadata": {},
     "output_type": "execute_result"
    }
   ],
   "source": []
  },
  {
   "cell_type": "code",
   "execution_count": 74,
   "id": "4cdf1402",
   "metadata": {},
   "outputs": [
    {
     "data": {
      "text/plain": [
       "array([[  0.],\n",
       "       [  0.],\n",
       "       [  4.],\n",
       "       [996.]])"
      ]
     },
     "execution_count": 74,
     "metadata": {},
     "output_type": "execute_result"
    }
   ],
   "source": [
    "np.array([tree.tree_proj[1] for tree in ada.forest.values()]).sum(axis=0)"
   ]
  },
  {
   "cell_type": "code",
   "execution_count": 58,
   "id": "ef5952b9",
   "metadata": {},
   "outputs": [
    {
     "data": {
      "text/plain": [
       "{1: array([[0.],\n",
       "        [0.],\n",
       "        [0.],\n",
       "        [1.]])}"
      ]
     },
     "execution_count": 58,
     "metadata": {},
     "output_type": "execute_result"
    }
   ],
   "source": [
    "ada.forest[0].tree_proj"
   ]
  },
  {
   "cell_type": "code",
   "execution_count": 54,
   "id": "1fa04315",
   "metadata": {},
   "outputs": [
    {
     "data": {
      "text/plain": [
       "{1: 0.5}"
      ]
     },
     "execution_count": 54,
     "metadata": {},
     "output_type": "execute_result"
    }
   ],
   "source": [
    "ada.forest[1].tree_split"
   ]
  },
  {
   "cell_type": "code",
   "execution_count": 53,
   "id": "8224d3fd",
   "metadata": {},
   "outputs": [
    {
     "data": {
      "text/plain": [
       "{1: 0.5}"
      ]
     },
     "execution_count": 53,
     "metadata": {},
     "output_type": "execute_result"
    }
   ],
   "source": [
    "ada.forest[2].tree_split"
   ]
  },
  {
   "cell_type": "code",
   "execution_count": 57,
   "id": "0aaf1637",
   "metadata": {},
   "outputs": [
    {
     "data": {
      "text/plain": [
       "{1: array([[0.],\n",
       "        [0.],\n",
       "        [0.],\n",
       "        [1.]])}"
      ]
     },
     "execution_count": 57,
     "metadata": {},
     "output_type": "execute_result"
    }
   ],
   "source": [
    "ada.forest[3].tree_proj"
   ]
  },
  {
   "cell_type": "code",
   "execution_count": 31,
   "id": "4d16c4a5",
   "metadata": {},
   "outputs": [
    {
     "data": {
      "text/plain": [
       "array([77.90623028,  6.46907305, 65.62469667])"
      ]
     },
     "execution_count": 31,
     "metadata": {},
     "output_type": "execute_result"
    }
   ],
   "source": [
    "ada.predict_proba(X).sum(axis=0)"
   ]
  },
  {
   "cell_type": "code",
   "execution_count": 18,
   "id": "ad55fc9a",
   "metadata": {},
   "outputs": [
    {
     "data": {
      "text/plain": [
       "array([23., 91., 36.])"
      ]
     },
     "execution_count": 18,
     "metadata": {},
     "output_type": "execute_result"
    }
   ],
   "source": [
    "ada.predict(X).sum(axis=0)"
   ]
  },
  {
   "cell_type": "code",
   "execution_count": 19,
   "id": "3374282e",
   "metadata": {},
   "outputs": [
    {
     "data": {
      "text/plain": [
       "30"
      ]
     },
     "execution_count": 19,
     "metadata": {},
     "output_type": "execute_result"
    }
   ],
   "source": [
    "np.all(ada.predict(X) == y, axis=1).sum()"
   ]
  },
  {
   "cell_type": "code",
   "execution_count": 2,
   "id": "16cd73d5",
   "metadata": {},
   "outputs": [
    {
     "ename": "KeyboardInterrupt",
     "evalue": "",
     "output_type": "error",
     "traceback": [
      "\u001b[1;31m---------------------------------------------------------------------------\u001b[0m",
      "\u001b[1;31mKeyboardInterrupt\u001b[0m                         Traceback (most recent call last)",
      "File \u001b[1;32m<timed exec>:2\u001b[0m, in \u001b[0;36m<module>\u001b[1;34m\u001b[0m\n",
      "File \u001b[1;32mc:\\Users\\Ed\\OneDrive - Johns Hopkins\\Desktop\\Adv_ML_Project\\sporgboost\\forests.py:151\u001b[0m, in \u001b[0;36mAdaBoost.fit\u001b[1;34m(self, X, y)\u001b[0m\n\u001b[0;32m    <a href='file:///c%3A/Users/Ed/OneDrive%20-%20Johns%20Hopkins/Desktop/Adv_ML_Project/sporgboost/forests.py?line=147'>148</a>\u001b[0m forest[idx_forest]\u001b[39m.\u001b[39mfit(X_, y_)\n\u001b[0;32m    <a href='file:///c%3A/Users/Ed/OneDrive%20-%20Johns%20Hopkins/Desktop/Adv_ML_Project/sporgboost/forests.py?line=149'>150</a>\u001b[0m \u001b[39m# Update weights based on forest errors\u001b[39;00m\n\u001b[1;32m--> <a href='file:///c%3A/Users/Ed/OneDrive%20-%20Johns%20Hopkins/Desktop/Adv_ML_Project/sporgboost/forests.py?line=150'>151</a>\u001b[0m y_pred \u001b[39m=\u001b[39m forest[idx_forest]\u001b[39m.\u001b[39;49mpredict(X)\n\u001b[0;32m    <a href='file:///c%3A/Users/Ed/OneDrive%20-%20Johns%20Hopkins/Desktop/Adv_ML_Project/sporgboost/forests.py?line=152'>153</a>\u001b[0m \u001b[39m# Perform a weight update\u001b[39;00m\n\u001b[0;32m    <a href='file:///c%3A/Users/Ed/OneDrive%20-%20Johns%20Hopkins/Desktop/Adv_ML_Project/sporgboost/forests.py?line=153'>154</a>\u001b[0m miss \u001b[39m=\u001b[39m _ada_misclassified(y, y_pred)\n",
      "File \u001b[1;32mc:\\Users\\Ed\\OneDrive - Johns Hopkins\\Desktop\\Adv_ML_Project\\sporgboost\\trees.py:24\u001b[0m, in \u001b[0;36mAxisAlignedDecisionTree.predict\u001b[1;34m(self, X)\u001b[0m\n\u001b[0;32m     <a href='file:///c%3A/Users/Ed/OneDrive%20-%20Johns%20Hopkins/Desktop/Adv_ML_Project/sporgboost/trees.py?line=22'>23</a>\u001b[0m \u001b[39mdef\u001b[39;00m \u001b[39mpredict\u001b[39m(\u001b[39mself\u001b[39m, X):\n\u001b[1;32m---> <a href='file:///c%3A/Users/Ed/OneDrive%20-%20Johns%20Hopkins/Desktop/Adv_ML_Project/sporgboost/trees.py?line=23'>24</a>\u001b[0m     \u001b[39mreturn\u001b[39;00m _predict_tree(\u001b[39mself\u001b[39;49m\u001b[39m.\u001b[39;49mtree_value, \u001b[39mself\u001b[39;49m\u001b[39m.\u001b[39;49mtree_split, \u001b[39mself\u001b[39;49m\u001b[39m.\u001b[39;49mtree_proj, X, \u001b[39mself\u001b[39;49m\u001b[39m.\u001b[39;49mn_classes)\n",
      "File \u001b[1;32mc:\\Users\\Ed\\OneDrive - Johns Hopkins\\Desktop\\Adv_ML_Project\\sporgboost\\common\\_predict.py:13\u001b[0m, in \u001b[0;36m_predict_tree\u001b[1;34m(tree_value, tree_split, tree_proj, X, n_classes)\u001b[0m\n\u001b[0;32m     <a href='file:///c%3A/Users/Ed/OneDrive%20-%20Johns%20Hopkins/Desktop/Adv_ML_Project/sporgboost/common/_predict.py?line=10'>11</a>\u001b[0m \u001b[39mwhile\u001b[39;00m \u001b[39mlen\u001b[39m(node_eval) \u001b[39m>\u001b[39m \u001b[39m0\u001b[39m:\n\u001b[0;32m     <a href='file:///c%3A/Users/Ed/OneDrive%20-%20Johns%20Hopkins/Desktop/Adv_ML_Project/sporgboost/common/_predict.py?line=11'>12</a>\u001b[0m     idx_node, idx_rows \u001b[39m=\u001b[39m node_eval\u001b[39m.\u001b[39mpopitem()\n\u001b[1;32m---> <a href='file:///c%3A/Users/Ed/OneDrive%20-%20Johns%20Hopkins/Desktop/Adv_ML_Project/sporgboost/common/_predict.py?line=12'>13</a>\u001b[0m     X_ \u001b[39m=\u001b[39m X[idx_rows, :]\n\u001b[0;32m     <a href='file:///c%3A/Users/Ed/OneDrive%20-%20Johns%20Hopkins/Desktop/Adv_ML_Project/sporgboost/common/_predict.py?line=14'>15</a>\u001b[0m     \u001b[39m# Are we at a leaf?\u001b[39;00m\n\u001b[0;32m     <a href='file:///c%3A/Users/Ed/OneDrive%20-%20Johns%20Hopkins/Desktop/Adv_ML_Project/sporgboost/common/_predict.py?line=15'>16</a>\u001b[0m     \u001b[39mif\u001b[39;00m idx_node \u001b[39mnot\u001b[39;00m \u001b[39min\u001b[39;00m tree_split:\n\u001b[0;32m     <a href='file:///c%3A/Users/Ed/OneDrive%20-%20Johns%20Hopkins/Desktop/Adv_ML_Project/sporgboost/common/_predict.py?line=16'>17</a>\u001b[0m         \u001b[39m# Reached a leaf, set value\u001b[39;00m\n",
      "\u001b[1;31mKeyboardInterrupt\u001b[0m: "
     ]
    }
   ],
   "source": [
    "%%time\n",
    "ada.fit(X, y)"
   ]
  },
  {
   "cell_type": "code",
   "execution_count": 2,
   "id": "6c03051b",
   "metadata": {},
   "outputs": [],
   "source": [
    "from sporgboost.trees import RotationalDecisionTree\n",
    "rot = RotationalDecisionTree(K=2)\n",
    "rot.fit(X, y)"
   ]
  },
  {
   "cell_type": "code",
   "execution_count": 15,
   "id": "0f047c33",
   "metadata": {},
   "outputs": [
    {
     "name": "stdout",
     "output_type": "stream",
     "text": [
      "CPU times: total: 1min\n",
      "Wall time: 5.09 s\n"
     ]
    }
   ],
   "source": [
    "%%time\n",
    "from sporgboost.forests import *\n",
    "rf = RandomForest()\n",
    "rf.fit(X, y)"
   ]
  },
  {
   "cell_type": "code",
   "execution_count": 9,
   "id": "e5c4ed8d",
   "metadata": {},
   "outputs": [],
   "source": [
    "sporf = SPORF(d=2, s=3)\n",
    "sporf.fit(X, y)"
   ]
  },
  {
   "cell_type": "code",
   "execution_count": 5,
   "id": "08ac46bd",
   "metadata": {},
   "outputs": [],
   "source": [
    "rrf = RotationalForest(K=2)\n",
    "rrf.fit(X, y)"
   ]
  },
  {
   "cell_type": "code",
   "execution_count": 19,
   "id": "f8e5cedd",
   "metadata": {},
   "outputs": [
    {
     "name": "stdout",
     "output_type": "stream",
     "text": [
      "Fitting sporf\n",
      "Fitting sporgboost\n"
     ]
    }
   ],
   "source": [
    "# models = {\n",
    "#     # 'rf' : RandomForest(),\n",
    "#     # 'ab' : AdaBoost(),\n",
    "#     'sporf' : SPORF(d=2, s=3),\n",
    "#     'sporgboost' : SPORGBoost(d=2, s=3, max_depth=2),\n",
    "#     # 'rrf' : RotationalRandomForest(K=2),\n",
    "#     # 'rotboost' : RotBoost(K=2)\n",
    "# }\n",
    "\n",
    "# for k, m in models.items():\n",
    "#     print(f\"Fitting {k}\")\n",
    "#     m.fit(X_train, y_train)\n"
   ]
  },
  {
   "cell_type": "code",
   "execution_count": 6,
   "id": "32a7e82c",
   "metadata": {},
   "outputs": [
    {
     "data": {
      "text/plain": [
       "0.6357403228749623"
      ]
     },
     "execution_count": 6,
     "metadata": {},
     "output_type": "execute_result"
    }
   ],
   "source": [
    "roc_auc_score(y, rrf.predict(X), multi_class='ovo')"
   ]
  },
  {
   "cell_type": "code",
   "execution_count": 10,
   "id": "ac78810d",
   "metadata": {},
   "outputs": [
    {
     "data": {
      "text/plain": [
       "0.976297372398488"
      ]
     },
     "execution_count": 10,
     "metadata": {},
     "output_type": "execute_result"
    }
   ],
   "source": [
    "roc_auc_score(y, sporf.predict_proba(X), multi_class='ovo')"
   ]
  },
  {
   "cell_type": "code",
   "execution_count": 8,
   "id": "506f38ee",
   "metadata": {},
   "outputs": [
    {
     "data": {
      "text/plain": [
       "0.5819648490844376"
      ]
     },
     "execution_count": 8,
     "metadata": {},
     "output_type": "execute_result"
    }
   ],
   "source": [
    "roc_auc_score(y, rf.predict_proba(X), multi_class='ovo')"
   ]
  },
  {
   "cell_type": "code",
   "execution_count": 24,
   "id": "a4b5eee3",
   "metadata": {},
   "outputs": [],
   "source": [
    "from sklearn.metrics import accuracy_score\n",
    "# accuracy_score(y_test, rf.predict(X_test))"
   ]
  },
  {
   "cell_type": "code",
   "execution_count": 26,
   "id": "90b45409",
   "metadata": {},
   "outputs": [
    {
     "data": {
      "text/plain": [
       "{'sporf': 0.7630681818181818, 'sporgboost': 0.6098863636363636}"
      ]
     },
     "execution_count": 26,
     "metadata": {},
     "output_type": "execute_result"
    }
   ],
   "source": [
    "# Get AUC scores\n",
    "auc = {key : accuracy_score(y_test, model.predict(X_test)) for key, model in models.items() if key in {'sporf','sporgboost'}}\n",
    "auc"
   ]
  }
 ],
 "metadata": {
  "interpreter": {
   "hash": "19a6b89429cc42f8a39b8068be6b3b06345d41f5c5dc4b805d424edbd3c294cc"
  },
  "kernelspec": {
   "display_name": "SPORF",
   "language": "python",
   "name": "python3"
  },
  "language_info": {
   "codemirror_mode": {
    "name": "ipython",
    "version": 3
   },
   "file_extension": ".py",
   "mimetype": "text/x-python",
   "name": "python",
   "nbconvert_exporter": "python",
   "pygments_lexer": "ipython3",
   "version": "3.8.12"
  }
 },
 "nbformat": 4,
 "nbformat_minor": 5
}
