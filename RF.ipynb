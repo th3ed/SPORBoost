{
 "cells": [
  {
   "cell_type": "code",
   "execution_count": 1,
   "id": "3597138f-3be1-4461-a020-dba09287bb91",
   "metadata": {},
   "outputs": [],
   "source": [
    "import numpy as np\n",
    "from sklearn.datasets import load_iris\n",
    "from sporgboost.preprocessing import onehot_encode, shuffle\n",
    "from sporgboost.trees import AxisAlignedDecisionTree, SparseRandomDecisionTree as SPODT\n",
    "from sklearn.tree import DecisionTreeClassifier\n",
    "sktree = DecisionTreeClassifier()\n",
    "model = SPODT(d = 2, s = 3)"
   ]
  },
  {
   "cell_type": "code",
   "execution_count": 2,
   "id": "5c149194-7402-4486-90f2-f11a1d6323a6",
   "metadata": {},
   "outputs": [],
   "source": [
    "# Dataset for testing\n",
    "X, y = load_iris(return_X_y = True)\n",
    "\n",
    "# Set seed to be able to reproduce\n",
    "np.random.seed(1234)\n",
    "    \n",
    "# Preprocessing\n",
    "y = onehot_encode(y)\n",
    "X, y = shuffle(X, y)"
   ]
  },
  {
   "cell_type": "code",
   "execution_count": 13,
   "id": "d886dda3",
   "metadata": {},
   "outputs": [],
   "source": [
    "import numpy as np\n",
    "from sporgboost.common import best_split, gini_impurity\n",
    "from sporgboost.common._predict import _predict\n",
    "from sporgboost.utils import row_mean\n",
    "# from numba import njit\n",
    "from numba.types import uint32, float64, deferred_type, optional\n",
    "from numba.experimental import jitclass\n",
    "\n",
    "# np.random.choice is not supported in numba\n",
    "def sparse_random(X, d, s):\n",
    "    p = X.shape[1]\n",
    "    out =  np.random.choice(\n",
    "        [-1., 0., 1.],\n",
    "        size=(p, d),\n",
    "        p=[1 / (2 * s),\n",
    "        1 - (1 / s),\n",
    "        1 / (2 * s)\n",
    "        ]\n",
    "    )\n",
    "\n",
    "    # If any choices are all zeroes, redraw\n",
    "    while np.any(out.sum(axis=0) == 0.):\n",
    "        out = sparse_random(X, d, s)\n",
    "\n",
    "    return out\n",
    "\n",
    "# ////////////////////////////////////////////////////////////////\n",
    "# ////////////////////////////////////////////////////////////////\n",
    "# ////////////////////////////////////////////////////////////////\n",
    "node_type = deferred_type()\n",
    "\n",
    "class SparseRandomDecisionTree():\n",
    "    def __init__(self, d, s):\n",
    "        self.tree = None\n",
    "        self.n_classes = None\n",
    "        self.d = d\n",
    "        self.s = s\n",
    "        \n",
    "    def fit(self, X, y):\n",
    "        self.tree = None\n",
    "        self.n_classes = None\n",
    "        self.tree = _grow_tree_sr(X, y, self.d, self.s)\n",
    "        self.n_classes = y.shape[1]\n",
    "\n",
    "    def predict(self, X):\n",
    "        return _predict(self.tree, X)\n",
    "\n",
    "# Node needs to be explicitly included in each tree type for numba\n",
    "# to properly compile\n",
    "@jitclass([\n",
    "    ('value', optional(float64[:,:])),\n",
    "    ('left', optional(node_type)),\n",
    "    ('right', optional(node_type)),\n",
    "    ('proj', optional(float64[:,:])),\n",
    "    ('split', optional(float64)),\n",
    "    ('n_classes', uint32)\n",
    "])\n",
    "class Node():\n",
    "    def __init__(self, n_classes):\n",
    "        self.n_classes = n_classes\n",
    "        self.value = None\n",
    "        self.left = None\n",
    "        self.right = None\n",
    "        self.proj = None\n",
    "        self.split = None\n",
    "\n",
    "    def is_leaf(self):\n",
    "        return self.value is not None\n",
    "        \n",
    "node_type.define(Node.class_type.instance_type)\n",
    "\n",
    "def _grow_tree_sr(X, y, d, s):\n",
    "    # Identity projection\n",
    "    A = sparse_random(X, d, s)\n",
    "    X_ = X @ A\n",
    "\n",
    "    col, split = best_split(X_, y)\n",
    "    A_ = np.ascontiguousarray(A[:, col]).reshape((-1, 1))\n",
    "    out = Node(y.shape[1])\n",
    "\n",
    "    out.proj = A_\n",
    "    out.split = split\n",
    "    le = (X_[:, col] <= split)\n",
    "\n",
    "    # Compute new split predictions\n",
    "    pred_left = row_mean(y[le, :]).reshape((1, -1))\n",
    "    pred_right = row_mean(y[~le, :]).reshape((1, -1))\n",
    "\n",
    "    if gini_impurity(pred_left) == 0:\n",
    "        # Return leaf value\n",
    "        left = Node(out.n_classes)\n",
    "        left.value = pred_left\n",
    "        out.left = left\n",
    "    else:\n",
    "        # Grow another decision stump\n",
    "        out.left = _grow_tree_sr(X[le, :], y[le, :], d, s)\n",
    "\n",
    "    if gini_impurity(pred_right) == 0:\n",
    "        # Return leaf value\n",
    "        right = Node(out.n_classes)\n",
    "        right.value = pred_right\n",
    "        out.right = right\n",
    "    else:\n",
    "        out.right = _grow_tree_sr(X[~le, :], y[~le, :], d, s)\n",
    "    \n",
    "    return(out)\n",
    "\n",
    "model = SparseRandomDecisionTree(d = 2, s = 3)\n",
    "model.fit(X, y)"
   ]
  },
  {
   "cell_type": "code",
   "execution_count": 11,
   "id": "1357384f",
   "metadata": {},
   "outputs": [
    {
     "name": "stdout",
     "output_type": "stream",
     "text": [
      "CPU times: total: 0 ns\n",
      "Wall time: 1 ms\n"
     ]
    },
    {
     "data": {
      "text/plain": [
       "DecisionTreeClassifier()"
      ]
     },
     "execution_count": 11,
     "metadata": {},
     "output_type": "execute_result"
    }
   ],
   "source": [
    "%%time\n",
    "sktree.fit(X, y)"
   ]
  },
  {
   "cell_type": "code",
   "execution_count": 14,
   "id": "b64c7362",
   "metadata": {},
   "outputs": [
    {
     "ename": "SystemError",
     "evalue": "CPUDispatcher(<function best_split at 0x000002496BB9E3A0>) returned a result with an error set",
     "output_type": "error",
     "traceback": [
      "\u001b[1;31m---------------------------------------------------------------------------\u001b[0m",
      "\u001b[1;31mValueError\u001b[0m                                Traceback (most recent call last)",
      "File \u001b[1;32m~\\anaconda3\\envs\\sporf\\lib\\site-packages\\numba\\np\\arraymath.py:667\u001b[0m, in \u001b[0;36marray_argmin_impl_float\u001b[1;34m()\u001b[0m\n\u001b[0;32m    <a href='file:///c%3A/Users/Ed/anaconda3/envs/sporf/lib/site-packages/numba/np/arraymath.py?line=665'>666</a>\u001b[0m \u001b[39mif\u001b[39;00m arry\u001b[39m.\u001b[39msize \u001b[39m==\u001b[39m \u001b[39m0\u001b[39m:\n\u001b[1;32m--> <a href='file:///c%3A/Users/Ed/anaconda3/envs/sporf/lib/site-packages/numba/np/arraymath.py?line=666'>667</a>\u001b[0m     \u001b[39mraise\u001b[39;00m \u001b[39mValueError\u001b[39;00m(\u001b[39m\"\u001b[39m\u001b[39mattempt to get argmin of an empty sequence\u001b[39m\u001b[39m\"\u001b[39m)\n\u001b[0;32m    <a href='file:///c%3A/Users/Ed/anaconda3/envs/sporf/lib/site-packages/numba/np/arraymath.py?line=667'>668</a>\u001b[0m \u001b[39mfor\u001b[39;00m v \u001b[39min\u001b[39;00m arry\u001b[39m.\u001b[39mflat:\n",
      "\u001b[1;31mValueError\u001b[0m: attempt to get argmin of an empty sequence",
      "\nThe above exception was the direct cause of the following exception:\n",
      "\u001b[1;31mSystemError\u001b[0m                               Traceback (most recent call last)",
      "\u001b[1;32mc:\\Users\\Ed\\OneDrive - Johns Hopkins\\Desktop\\Adv_ML_Project\\RF.ipynb Cell 5'\u001b[0m in \u001b[0;36m<module>\u001b[1;34m\u001b[0m\n\u001b[1;32m----> <a href='vscode-notebook-cell:/c%3A/Users/Ed/OneDrive%20-%20Johns%20Hopkins/Desktop/Adv_ML_Project/RF.ipynb#ch0000002?line=0'>1</a>\u001b[0m get_ipython()\u001b[39m.\u001b[39;49mrun_line_magic(\u001b[39m'\u001b[39;49m\u001b[39mtimeit\u001b[39;49m\u001b[39m'\u001b[39;49m, \u001b[39m'\u001b[39;49m\u001b[39mmodel.fit(X, y)\u001b[39;49m\u001b[39m'\u001b[39;49m)\n",
      "File \u001b[1;32m~\\anaconda3\\envs\\sporf\\lib\\site-packages\\IPython\\core\\interactiveshell.py:2204\u001b[0m, in \u001b[0;36mInteractiveShell.run_line_magic\u001b[1;34m(self, magic_name, line, _stack_depth)\u001b[0m\n\u001b[0;32m   <a href='file:///c%3A/Users/Ed/anaconda3/envs/sporf/lib/site-packages/IPython/core/interactiveshell.py?line=2201'>2202</a>\u001b[0m     kwargs[\u001b[39m'\u001b[39m\u001b[39mlocal_ns\u001b[39m\u001b[39m'\u001b[39m] \u001b[39m=\u001b[39m \u001b[39mself\u001b[39m\u001b[39m.\u001b[39mget_local_scope(stack_depth)\n\u001b[0;32m   <a href='file:///c%3A/Users/Ed/anaconda3/envs/sporf/lib/site-packages/IPython/core/interactiveshell.py?line=2202'>2203</a>\u001b[0m \u001b[39mwith\u001b[39;00m \u001b[39mself\u001b[39m\u001b[39m.\u001b[39mbuiltin_trap:\n\u001b[1;32m-> <a href='file:///c%3A/Users/Ed/anaconda3/envs/sporf/lib/site-packages/IPython/core/interactiveshell.py?line=2203'>2204</a>\u001b[0m     result \u001b[39m=\u001b[39m fn(\u001b[39m*\u001b[39;49margs, \u001b[39m*\u001b[39;49m\u001b[39m*\u001b[39;49mkwargs)\n\u001b[0;32m   <a href='file:///c%3A/Users/Ed/anaconda3/envs/sporf/lib/site-packages/IPython/core/interactiveshell.py?line=2204'>2205</a>\u001b[0m \u001b[39mreturn\u001b[39;00m result\n",
      "File \u001b[1;32m~\\anaconda3\\envs\\sporf\\lib\\site-packages\\IPython\\core\\magics\\execution.py:1162\u001b[0m, in \u001b[0;36mExecutionMagics.timeit\u001b[1;34m(self, line, cell, local_ns)\u001b[0m\n\u001b[0;32m   <a href='file:///c%3A/Users/Ed/anaconda3/envs/sporf/lib/site-packages/IPython/core/magics/execution.py?line=1159'>1160</a>\u001b[0m \u001b[39mfor\u001b[39;00m index \u001b[39min\u001b[39;00m \u001b[39mrange\u001b[39m(\u001b[39m0\u001b[39m, \u001b[39m10\u001b[39m):\n\u001b[0;32m   <a href='file:///c%3A/Users/Ed/anaconda3/envs/sporf/lib/site-packages/IPython/core/magics/execution.py?line=1160'>1161</a>\u001b[0m     number \u001b[39m=\u001b[39m \u001b[39m10\u001b[39m \u001b[39m*\u001b[39m\u001b[39m*\u001b[39m index\n\u001b[1;32m-> <a href='file:///c%3A/Users/Ed/anaconda3/envs/sporf/lib/site-packages/IPython/core/magics/execution.py?line=1161'>1162</a>\u001b[0m     time_number \u001b[39m=\u001b[39m timer\u001b[39m.\u001b[39;49mtimeit(number)\n\u001b[0;32m   <a href='file:///c%3A/Users/Ed/anaconda3/envs/sporf/lib/site-packages/IPython/core/magics/execution.py?line=1162'>1163</a>\u001b[0m     \u001b[39mif\u001b[39;00m time_number \u001b[39m>\u001b[39m\u001b[39m=\u001b[39m \u001b[39m0.2\u001b[39m:\n\u001b[0;32m   <a href='file:///c%3A/Users/Ed/anaconda3/envs/sporf/lib/site-packages/IPython/core/magics/execution.py?line=1163'>1164</a>\u001b[0m         \u001b[39mbreak\u001b[39;00m\n",
      "File \u001b[1;32m~\\anaconda3\\envs\\sporf\\lib\\site-packages\\IPython\\core\\magics\\execution.py:156\u001b[0m, in \u001b[0;36mTimer.timeit\u001b[1;34m(self, number)\u001b[0m\n\u001b[0;32m    <a href='file:///c%3A/Users/Ed/anaconda3/envs/sporf/lib/site-packages/IPython/core/magics/execution.py?line=153'>154</a>\u001b[0m gc\u001b[39m.\u001b[39mdisable()\n\u001b[0;32m    <a href='file:///c%3A/Users/Ed/anaconda3/envs/sporf/lib/site-packages/IPython/core/magics/execution.py?line=154'>155</a>\u001b[0m \u001b[39mtry\u001b[39;00m:\n\u001b[1;32m--> <a href='file:///c%3A/Users/Ed/anaconda3/envs/sporf/lib/site-packages/IPython/core/magics/execution.py?line=155'>156</a>\u001b[0m     timing \u001b[39m=\u001b[39m \u001b[39mself\u001b[39;49m\u001b[39m.\u001b[39;49minner(it, \u001b[39mself\u001b[39;49m\u001b[39m.\u001b[39;49mtimer)\n\u001b[0;32m    <a href='file:///c%3A/Users/Ed/anaconda3/envs/sporf/lib/site-packages/IPython/core/magics/execution.py?line=156'>157</a>\u001b[0m \u001b[39mfinally\u001b[39;00m:\n\u001b[0;32m    <a href='file:///c%3A/Users/Ed/anaconda3/envs/sporf/lib/site-packages/IPython/core/magics/execution.py?line=157'>158</a>\u001b[0m     \u001b[39mif\u001b[39;00m gcold:\n",
      "File \u001b[1;32m<magic-timeit>:1\u001b[0m, in \u001b[0;36minner\u001b[1;34m(_it, _timer)\u001b[0m\n",
      "\u001b[1;32mc:\\Users\\Ed\\OneDrive - Johns Hopkins\\Desktop\\Adv_ML_Project\\RF.ipynb Cell 3'\u001b[0m in \u001b[0;36mSparseRandomDecisionTree.fit\u001b[1;34m(self, X, y)\u001b[0m\n\u001b[0;32m     <a href='vscode-notebook-cell:/c%3A/Users/Ed/OneDrive%20-%20Johns%20Hopkins/Desktop/Adv_ML_Project/RF.ipynb#ch0000009?line=38'>39</a>\u001b[0m \u001b[39mdef\u001b[39;00m \u001b[39mfit\u001b[39m(\u001b[39mself\u001b[39m, X, y):\n\u001b[1;32m---> <a href='vscode-notebook-cell:/c%3A/Users/Ed/OneDrive%20-%20Johns%20Hopkins/Desktop/Adv_ML_Project/RF.ipynb#ch0000009?line=39'>40</a>\u001b[0m     \u001b[39mself\u001b[39m\u001b[39m.\u001b[39mtree \u001b[39m=\u001b[39m _grow_tree_sr(X, y, \u001b[39mself\u001b[39;49m\u001b[39m.\u001b[39;49md, \u001b[39mself\u001b[39;49m\u001b[39m.\u001b[39;49ms)\n\u001b[0;32m     <a href='vscode-notebook-cell:/c%3A/Users/Ed/OneDrive%20-%20Johns%20Hopkins/Desktop/Adv_ML_Project/RF.ipynb#ch0000009?line=40'>41</a>\u001b[0m     \u001b[39mself\u001b[39m\u001b[39m.\u001b[39mn_classes \u001b[39m=\u001b[39m y\u001b[39m.\u001b[39mshape[\u001b[39m1\u001b[39m]\n",
      "\u001b[1;32mc:\\Users\\Ed\\OneDrive - Johns Hopkins\\Desktop\\Adv_ML_Project\\RF.ipynb Cell 3'\u001b[0m in \u001b[0;36m_grow_tree_sr\u001b[1;34m(X, y, d, s)\u001b[0m\n\u001b[0;32m    <a href='vscode-notebook-cell:/c%3A/Users/Ed/OneDrive%20-%20Johns%20Hopkins/Desktop/Adv_ML_Project/RF.ipynb#ch0000009?line=99'>100</a>\u001b[0m     out\u001b[39m.\u001b[39mright \u001b[39m=\u001b[39m right\n\u001b[0;32m    <a href='vscode-notebook-cell:/c%3A/Users/Ed/OneDrive%20-%20Johns%20Hopkins/Desktop/Adv_ML_Project/RF.ipynb#ch0000009?line=100'>101</a>\u001b[0m \u001b[39melse\u001b[39;00m:\n\u001b[1;32m--> <a href='vscode-notebook-cell:/c%3A/Users/Ed/OneDrive%20-%20Johns%20Hopkins/Desktop/Adv_ML_Project/RF.ipynb#ch0000009?line=101'>102</a>\u001b[0m     out\u001b[39m.\u001b[39mright \u001b[39m=\u001b[39m _grow_tree_sr(X[\u001b[39m~\u001b[39;49mle, :], y[\u001b[39m~\u001b[39;49mle, :], d, s)\n\u001b[0;32m    <a href='vscode-notebook-cell:/c%3A/Users/Ed/OneDrive%20-%20Johns%20Hopkins/Desktop/Adv_ML_Project/RF.ipynb#ch0000009?line=103'>104</a>\u001b[0m \u001b[39mreturn\u001b[39;00m(out)\n",
      "\u001b[1;32mc:\\Users\\Ed\\OneDrive - Johns Hopkins\\Desktop\\Adv_ML_Project\\RF.ipynb Cell 3'\u001b[0m in \u001b[0;36m_grow_tree_sr\u001b[1;34m(X, y, d, s)\u001b[0m\n\u001b[0;32m    <a href='vscode-notebook-cell:/c%3A/Users/Ed/OneDrive%20-%20Johns%20Hopkins/Desktop/Adv_ML_Project/RF.ipynb#ch0000009?line=99'>100</a>\u001b[0m     out\u001b[39m.\u001b[39mright \u001b[39m=\u001b[39m right\n\u001b[0;32m    <a href='vscode-notebook-cell:/c%3A/Users/Ed/OneDrive%20-%20Johns%20Hopkins/Desktop/Adv_ML_Project/RF.ipynb#ch0000009?line=100'>101</a>\u001b[0m \u001b[39melse\u001b[39;00m:\n\u001b[1;32m--> <a href='vscode-notebook-cell:/c%3A/Users/Ed/OneDrive%20-%20Johns%20Hopkins/Desktop/Adv_ML_Project/RF.ipynb#ch0000009?line=101'>102</a>\u001b[0m     out\u001b[39m.\u001b[39mright \u001b[39m=\u001b[39m _grow_tree_sr(X[\u001b[39m~\u001b[39;49mle, :], y[\u001b[39m~\u001b[39;49mle, :], d, s)\n\u001b[0;32m    <a href='vscode-notebook-cell:/c%3A/Users/Ed/OneDrive%20-%20Johns%20Hopkins/Desktop/Adv_ML_Project/RF.ipynb#ch0000009?line=103'>104</a>\u001b[0m \u001b[39mreturn\u001b[39;00m(out)\n",
      "\u001b[1;32mc:\\Users\\Ed\\OneDrive - Johns Hopkins\\Desktop\\Adv_ML_Project\\RF.ipynb Cell 3'\u001b[0m in \u001b[0;36m_grow_tree_sr\u001b[1;34m(X, y, d, s)\u001b[0m\n\u001b[0;32m     <a href='vscode-notebook-cell:/c%3A/Users/Ed/OneDrive%20-%20Johns%20Hopkins/Desktop/Adv_ML_Project/RF.ipynb#ch0000009?line=90'>91</a>\u001b[0m     out\u001b[39m.\u001b[39mleft \u001b[39m=\u001b[39m left\n\u001b[0;32m     <a href='vscode-notebook-cell:/c%3A/Users/Ed/OneDrive%20-%20Johns%20Hopkins/Desktop/Adv_ML_Project/RF.ipynb#ch0000009?line=91'>92</a>\u001b[0m \u001b[39melse\u001b[39;00m:\n\u001b[0;32m     <a href='vscode-notebook-cell:/c%3A/Users/Ed/OneDrive%20-%20Johns%20Hopkins/Desktop/Adv_ML_Project/RF.ipynb#ch0000009?line=92'>93</a>\u001b[0m     \u001b[39m# Grow another decision stump\u001b[39;00m\n\u001b[1;32m---> <a href='vscode-notebook-cell:/c%3A/Users/Ed/OneDrive%20-%20Johns%20Hopkins/Desktop/Adv_ML_Project/RF.ipynb#ch0000009?line=93'>94</a>\u001b[0m     out\u001b[39m.\u001b[39mleft \u001b[39m=\u001b[39m _grow_tree_sr(X[le, :], y[le, :], d, s)\n\u001b[0;32m     <a href='vscode-notebook-cell:/c%3A/Users/Ed/OneDrive%20-%20Johns%20Hopkins/Desktop/Adv_ML_Project/RF.ipynb#ch0000009?line=95'>96</a>\u001b[0m \u001b[39mif\u001b[39;00m gini_impurity(pred_right) \u001b[39m==\u001b[39m \u001b[39m0\u001b[39m:\n\u001b[0;32m     <a href='vscode-notebook-cell:/c%3A/Users/Ed/OneDrive%20-%20Johns%20Hopkins/Desktop/Adv_ML_Project/RF.ipynb#ch0000009?line=96'>97</a>\u001b[0m     \u001b[39m# Return leaf value\u001b[39;00m\n\u001b[0;32m     <a href='vscode-notebook-cell:/c%3A/Users/Ed/OneDrive%20-%20Johns%20Hopkins/Desktop/Adv_ML_Project/RF.ipynb#ch0000009?line=97'>98</a>\u001b[0m     right \u001b[39m=\u001b[39m Node(out\u001b[39m.\u001b[39mn_classes)\n",
      "\u001b[1;32mc:\\Users\\Ed\\OneDrive - Johns Hopkins\\Desktop\\Adv_ML_Project\\RF.ipynb Cell 3'\u001b[0m in \u001b[0;36m_grow_tree_sr\u001b[1;34m(X, y, d, s)\u001b[0m\n\u001b[0;32m     <a href='vscode-notebook-cell:/c%3A/Users/Ed/OneDrive%20-%20Johns%20Hopkins/Desktop/Adv_ML_Project/RF.ipynb#ch0000009?line=90'>91</a>\u001b[0m     out\u001b[39m.\u001b[39mleft \u001b[39m=\u001b[39m left\n\u001b[0;32m     <a href='vscode-notebook-cell:/c%3A/Users/Ed/OneDrive%20-%20Johns%20Hopkins/Desktop/Adv_ML_Project/RF.ipynb#ch0000009?line=91'>92</a>\u001b[0m \u001b[39melse\u001b[39;00m:\n\u001b[0;32m     <a href='vscode-notebook-cell:/c%3A/Users/Ed/OneDrive%20-%20Johns%20Hopkins/Desktop/Adv_ML_Project/RF.ipynb#ch0000009?line=92'>93</a>\u001b[0m     \u001b[39m# Grow another decision stump\u001b[39;00m\n\u001b[1;32m---> <a href='vscode-notebook-cell:/c%3A/Users/Ed/OneDrive%20-%20Johns%20Hopkins/Desktop/Adv_ML_Project/RF.ipynb#ch0000009?line=93'>94</a>\u001b[0m     out\u001b[39m.\u001b[39mleft \u001b[39m=\u001b[39m _grow_tree_sr(X[le, :], y[le, :], d, s)\n\u001b[0;32m     <a href='vscode-notebook-cell:/c%3A/Users/Ed/OneDrive%20-%20Johns%20Hopkins/Desktop/Adv_ML_Project/RF.ipynb#ch0000009?line=95'>96</a>\u001b[0m \u001b[39mif\u001b[39;00m gini_impurity(pred_right) \u001b[39m==\u001b[39m \u001b[39m0\u001b[39m:\n\u001b[0;32m     <a href='vscode-notebook-cell:/c%3A/Users/Ed/OneDrive%20-%20Johns%20Hopkins/Desktop/Adv_ML_Project/RF.ipynb#ch0000009?line=96'>97</a>\u001b[0m     \u001b[39m# Return leaf value\u001b[39;00m\n\u001b[0;32m     <a href='vscode-notebook-cell:/c%3A/Users/Ed/OneDrive%20-%20Johns%20Hopkins/Desktop/Adv_ML_Project/RF.ipynb#ch0000009?line=97'>98</a>\u001b[0m     right \u001b[39m=\u001b[39m Node(out\u001b[39m.\u001b[39mn_classes)\n",
      "\u001b[1;32mc:\\Users\\Ed\\OneDrive - Johns Hopkins\\Desktop\\Adv_ML_Project\\RF.ipynb Cell 3'\u001b[0m in \u001b[0;36m_grow_tree_sr\u001b[1;34m(X, y, d, s)\u001b[0m\n\u001b[0;32m     <a href='vscode-notebook-cell:/c%3A/Users/Ed/OneDrive%20-%20Johns%20Hopkins/Desktop/Adv_ML_Project/RF.ipynb#ch0000009?line=71'>72</a>\u001b[0m A \u001b[39m=\u001b[39m sparse_random(X, d, s)\n\u001b[0;32m     <a href='vscode-notebook-cell:/c%3A/Users/Ed/OneDrive%20-%20Johns%20Hopkins/Desktop/Adv_ML_Project/RF.ipynb#ch0000009?line=72'>73</a>\u001b[0m X_ \u001b[39m=\u001b[39m X \u001b[39m@\u001b[39m A\n\u001b[1;32m---> <a href='vscode-notebook-cell:/c%3A/Users/Ed/OneDrive%20-%20Johns%20Hopkins/Desktop/Adv_ML_Project/RF.ipynb#ch0000009?line=74'>75</a>\u001b[0m col, split \u001b[39m=\u001b[39m best_split(X_, y)\n\u001b[0;32m     <a href='vscode-notebook-cell:/c%3A/Users/Ed/OneDrive%20-%20Johns%20Hopkins/Desktop/Adv_ML_Project/RF.ipynb#ch0000009?line=75'>76</a>\u001b[0m A_ \u001b[39m=\u001b[39m np\u001b[39m.\u001b[39mascontiguousarray(A[:, col])\u001b[39m.\u001b[39mreshape((\u001b[39m-\u001b[39m\u001b[39m1\u001b[39m, \u001b[39m1\u001b[39m))\n\u001b[0;32m     <a href='vscode-notebook-cell:/c%3A/Users/Ed/OneDrive%20-%20Johns%20Hopkins/Desktop/Adv_ML_Project/RF.ipynb#ch0000009?line=76'>77</a>\u001b[0m out \u001b[39m=\u001b[39m Node(y\u001b[39m.\u001b[39mshape[\u001b[39m1\u001b[39m])\n",
      "\u001b[1;31mSystemError\u001b[0m: CPUDispatcher(<function best_split at 0x000002496BB9E3A0>) returned a result with an error set"
     ]
    }
   ],
   "source": [
    "%timeit model.fit(X, y)"
   ]
  },
  {
   "cell_type": "code",
   "execution_count": 16,
   "id": "69d26805",
   "metadata": {},
   "outputs": [
    {
     "name": "stdout",
     "output_type": "stream",
     "text": [
      "307 µs ± 5.26 µs per loop (mean ± std. dev. of 7 runs, 1,000 loops each)\n"
     ]
    }
   ],
   "source": [
    "%timeit sktree.fit(X, y)"
   ]
  },
  {
   "cell_type": "code",
   "execution_count": 15,
   "id": "c9b19dee",
   "metadata": {},
   "outputs": [
    {
     "name": "stderr",
     "output_type": "stream",
     "text": [
      "c:\\Users\\Ed\\OneDrive - Johns Hopkins\\Desktop\\Adv_ML_Project\\sporgboost\\common\\_predict.py:13: NumbaPerformanceWarning: \u001b[1m\u001b[1m\u001b[1mnp.dot() is faster on contiguous arrays, called on (array(float64, 2d, C), array(float64, 2d, A))\u001b[0m\u001b[0m\u001b[0m\n",
      "  X_ = np.dot(X, tree.proj)\n"
     ]
    },
    {
     "name": "stdout",
     "output_type": "stream",
     "text": [
      "The slowest run took 4.33 times longer than the fastest. This could mean that an intermediate result is being cached.\n",
      "37.7 µs ± 26.1 µs per loop (mean ± std. dev. of 7 runs, 1 loop each)\n"
     ]
    }
   ],
   "source": [
    "%timeit model.predict(X)"
   ]
  },
  {
   "cell_type": "code",
   "execution_count": 6,
   "id": "1fe313ee",
   "metadata": {},
   "outputs": [
    {
     "name": "stdout",
     "output_type": "stream",
     "text": [
      "71.3 µs ± 851 ns per loop (mean ± std. dev. of 7 runs, 10,000 loops each)\n"
     ]
    }
   ],
   "source": [
    "%timeit sktree.predict(X)"
   ]
  },
  {
   "cell_type": "code",
   "execution_count": 17,
   "id": "8590a2c6",
   "metadata": {},
   "outputs": [
    {
     "data": {
      "text/plain": [
       "True"
      ]
     },
     "execution_count": 17,
     "metadata": {},
     "output_type": "execute_result"
    }
   ],
   "source": [
    "np.all(model.predict(X) == sktree.predict(X))"
   ]
  }
 ],
 "metadata": {
  "kernelspec": {
   "display_name": "SPORF",
   "language": "python",
   "name": "sporf"
  },
  "language_info": {
   "codemirror_mode": {
    "name": "ipython",
    "version": 3
   },
   "file_extension": ".py",
   "mimetype": "text/x-python",
   "name": "python",
   "nbconvert_exporter": "python",
   "pygments_lexer": "ipython3",
   "version": "3.8.12"
  }
 },
 "nbformat": 4,
 "nbformat_minor": 5
}
