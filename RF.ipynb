{
 "cells": [
  {
   "cell_type": "code",
   "execution_count": 41,
   "id": "3597138f-3be1-4461-a020-dba09287bb91",
   "metadata": {},
   "outputs": [],
   "source": [
    "from functools import partial\n",
    "from sklearn.pipeline import Pipeline\n",
    "from sklearn.model_selection import GridSearchCV, StratifiedKFold\n",
    "from sklearn.datasets import load_iris, load_breast_cancer, load_wine\n",
    "from sporboost.forest import *\n",
    "import pandas as pd\n",
    "from time import time\n",
    "import os\n",
    "\n",
    "################################################################################\n",
    "################################################################################\n",
    "################################################################################\n",
    "# Data Load\n",
    "def load_simulated(path):\n",
    "    data = np.loadtxt(path, delimiter=\",\")\n",
    "    return data[:,:-1], data[:,-1].astype('int32')\n",
    "\n",
    "dfs = {\n",
    "    'iris' : load_iris(return_X_y = True),\n",
    "    'breast_cancer' : load_breast_cancer(return_X_y = True),\n",
    "    'wine' : load_wine(return_X_y = True),\n",
    "    'trunk' : load_simulated(\"source_data/simulated/Trunk_train.csv\"),\n",
    "    'orthant' : load_simulated(\"source_data/simulated/Orthant_train.csv\"),\n",
    "    'sparse_parity' : load_simulated(\"source_data/simulated/Sparse_parity_train.csv\")\n",
    "}\n"
   ]
  },
  {
   "cell_type": "code",
   "execution_count": 2,
   "id": "d9af06a5",
   "metadata": {},
   "outputs": [],
   "source": [
    "################################################################################\n",
    "################################################################################\n",
    "################################################################################\n",
    "# Hyperparameters across all estimators\n",
    "# Boosted Forest\n",
    "boosted_max_depth = (1,2)\n",
    "\n",
    "# Sparse Random Trees\n",
    "d_ratio = (0.5, 1)\n",
    "s = (3, 4)\n",
    "\n",
    "# Rotational Decision Trees\n",
    "K = (2, 3)\n"
   ]
  },
  {
   "cell_type": "code",
   "execution_count": 3,
   "id": "dae710b4",
   "metadata": {},
   "outputs": [],
   "source": [
    "################################################################################\n",
    "################################################################################\n",
    "################################################################################\n",
    "# Initalize cross-validation params\n",
    "pipe = Pipeline([\n",
    "    ('clf', RandomForest())\n",
    "])\n",
    "\n",
    "params = [\n",
    "    {\n",
    "        'clf' : (RandomForest(),),\n",
    "    },\n",
    "    {\n",
    "        'clf' : (AdaBoost(),),\n",
    "        'clf__max_depth' : boosted_max_depth\n",
    "    },\n",
    "    {\n",
    "        'clf' : (SPORF(),),\n",
    "        'clf__d_ratio' : d_ratio,\n",
    "        'clf__s' : s\n",
    "    },\n",
    "    {\n",
    "        'clf' : (SPORBoost(),),\n",
    "        'clf__max_depth' : boosted_max_depth,\n",
    "        'clf__d_ratio' : d_ratio,\n",
    "        'clf__s' : s\n",
    "    },\n",
    "    {\n",
    "        'clf' : (RotationalForest(),),\n",
    "        'clf__K' : K\n",
    "    },\n",
    "    {\n",
    "        'clf' : (RotBoost(),),\n",
    "        'clf__max_depth' : boosted_max_depth,\n",
    "        'clf__K' : K\n",
    "    }\n",
    "]\n",
    "\n",
    "kfold = StratifiedKFold(n_splits=10, shuffle=True, random_state=20220329)\n",
    "\n",
    "cv_base = GridSearchCV(estimator = pipe, param_grid = params,\n",
    "                       cv=kfold,\n",
    "                       verbose=3,\n",
    "                       n_jobs=-1,\n",
    "                       return_train_score=True\n",
    ")\n"
   ]
  },
  {
   "cell_type": "code",
   "execution_count": 4,
   "id": "852b9c0e",
   "metadata": {},
   "outputs": [],
   "source": [
    "################################################################################\n",
    "################################################################################\n",
    "################################################################################\n",
    "# Func to write results to disk\n",
    "def write_results(cv, label):\n",
    "    front_cols = ['param_clf', 'mean_test_score', 'std_test_score',\n",
    "                'mean_train_score', 'std_train_score',\n",
    "                'param_clf__max_depth',\n",
    "                'param_clf__d_ratio', 'param_clf__s',\n",
    "                'param_clf__K'\n",
    "                ]\n",
    "\n",
    "    results = pd.DataFrame(cv.cv_results_).drop(['params'], axis=1)\n",
    "    results['param_clf'] = results['param_clf'].apply(lambda c: type(c).__name__)\n",
    "    results = results.sort_values(['param_clf', 'mean_test_score'],\n",
    "                                ascending=False, ignore_index = True)\n",
    "            \n",
    "    results = results[front_cols + results.drop(front_cols, axis=1).columns.tolist()]\n",
    "    results.to_csv(f\"report/{label}.csv\", index=False)"
   ]
  },
  {
   "cell_type": "code",
   "execution_count": 42,
   "id": "aff77f29",
   "metadata": {},
   "outputs": [
    {
     "name": "stdout",
     "output_type": "stream",
     "text": [
      "Skipping iris as it has already been tested\n",
      "Skipping breast_cancer as it has already been tested\n",
      "Skipping wine as it has already been tested\n",
      "Testing trunk\n",
      "Fitting 10 folds for each of 21 candidates, totalling 210 fits\n"
     ]
    },
    {
     "name": "stderr",
     "output_type": "stream",
     "text": [
      "C:\\Users\\Ed\\anaconda3\\envs\\proj\\lib\\site-packages\\sklearn\\model_selection\\_search.py:969: UserWarning: One or more of the test scores are non-finite: [0.8  0.86 0.8  0.98 0.96 0.98 0.96 0.98 0.96 0.96 0.94 0.96 0.96 0.94\n",
      " 0.98 0.96 0.98 0.98  nan 0.92  nan]\n",
      "  warnings.warn(\n",
      "C:\\Users\\Ed\\anaconda3\\envs\\proj\\lib\\site-packages\\sklearn\\model_selection\\_search.py:969: UserWarning: One or more of the train scores are non-finite: [1.         1.         1.         1.         1.         1.\n",
      " 1.         1.         1.         1.         1.         1.\n",
      " 1.         1.         1.         1.         1.         0.99555775\n",
      "        nan 1.                nan]\n",
      "  warnings.warn(\n"
     ]
    },
    {
     "name": "stdout",
     "output_type": "stream",
     "text": [
      "Finished trunk in 2.5 mins\n",
      "Testing orthant\n",
      "Fitting 10 folds for each of 21 candidates, totalling 210 fits\n"
     ]
    },
    {
     "name": "stderr",
     "output_type": "stream",
     "text": [
      "<string>:3: NumbaPerformanceWarning: \u001b[1m\u001b[1m\u001b[1m\u001b[1m'@' is faster on contiguous arrays, called on (array(float64, 2d, C), array(float64, 2d, A))\u001b[0m\u001b[0m\u001b[0m\u001b[0m\n",
      "<string>:3: NumbaPerformanceWarning: \u001b[1m\u001b[1m\u001b[1m'@' is faster on contiguous arrays, called on (array(float64, 2d, C), array(float64, 2d, A))\u001b[0m\u001b[0m\u001b[0m\n"
     ]
    },
    {
     "name": "stdout",
     "output_type": "stream",
     "text": [
      "Finished orthant in 6.5 mins\n",
      "Testing sparse_parity\n",
      "Fitting 10 folds for each of 21 candidates, totalling 210 fits\n",
      "Finished sparse_parity in 2.1 mins\n"
     ]
    }
   ],
   "source": [
    "################################################################################\n",
    "################################################################################\n",
    "################################################################################\n",
    "# Fit the CVs\n",
    "for name, df in dfs.items():\n",
    "    if not os.path.exists(f\"report/{name}.csv\"):\n",
    "        start = time()\n",
    "        print(f\"Testing {name}\")\n",
    "        write_results(cv_base.fit(*df), name)\n",
    "        end = time()\n",
    "        print(f\"Finished {name} in {(end - start) / 60:.1f} mins\")\n",
    "    else:\n",
    "        print(f\"Skipping {name} as it has already been tested\")"
   ]
  }
 ],
 "metadata": {
  "interpreter": {
   "hash": "19a6b89429cc42f8a39b8068be6b3b06345d41f5c5dc4b805d424edbd3c294cc"
  },
  "kernelspec": {
   "display_name": "SPORF",
   "language": "python",
   "name": "python3"
  },
  "language_info": {
   "codemirror_mode": {
    "name": "ipython",
    "version": 3
   },
   "file_extension": ".py",
   "mimetype": "text/x-python",
   "name": "python",
   "nbconvert_exporter": "python",
   "pygments_lexer": "ipython3",
   "version": "3.8.12"
  }
 },
 "nbformat": 4,
 "nbformat_minor": 5
}
