{
 "cells": [
  {
   "cell_type": "code",
   "execution_count": 1,
   "id": "3597138f-3be1-4461-a020-dba09287bb91",
   "metadata": {},
   "outputs": [],
   "source": [
<<<<<<< HEAD
    "import numpy as np\n",
    "from sklearn.datasets import load_iris\n",
    "from sporgboost.preprocessing import onehot_encode, shuffle\n",
    "from sporgboost.forests import RandomForest\n",
    "from sklearn.metrics import roc_auc_score\n",
    "model_rf = RandomForest()\n",
    "# model_gb = BaseAdaBoost()"
   ]
  },
  {
   "cell_type": "code",
   "execution_count": 2,
   "id": "5c149194-7402-4486-90f2-f11a1d6323a6",
   "metadata": {},
   "outputs": [],
   "source": [
    "# Dataset for testing\n",
    "X, y = load_iris(return_X_y = True)\n",
    "\n",
    "# Set seed to be able to reproduce\n",
    "np.random.seed(1234)\n",
    "    \n",
    "# Preprocessing\n",
    "y = onehot_encode(y)\n",
    "X, y = shuffle(X, y)\n",
    "\n",
    "# Train and Test Splits\n",
    "X_train, y_train = X[:-50,:], y[:-50,:]\n",
    "X_test, y_test = X[-50:,:], y[-50:,:]\n"
   ]
  },
  {
   "cell_type": "code",
   "execution_count": 4,
   "id": "113e82a3",
   "metadata": {},
   "outputs": [],
   "source": [
    "model_rf.fit(X_train, y_train)"
   ]
  },
  {
   "cell_type": "code",
   "execution_count": 3,
   "id": "8590a2c6",
   "metadata": {},
   "outputs": [
    {
     "name": "stdout",
     "output_type": "stream",
     "text": [
      "285 ms ± 4.6 ms per loop (mean ± std. dev. of 7 runs, 1 loop each)\n"
     ]
    }
   ],
   "source": [
    "%timeit model_rf.fit(X_train, y_train)"
=======
    "from sporgboost.forests import *\n",
    "from sklearn.metrics import roc_auc_score\n",
    "from get_data import load\n",
    "from sklearn.metrics import roc_auc_score"
>>>>>>> data
   ]
  },
  {
   "cell_type": "code",
   "execution_count": 4,
   "id": "ee22695e",
   "metadata": {},
   "outputs": [],
   "source": [
    "X, y = load(\"data/sparse_parity.parquet\")"
   ]
  },
  {
   "cell_type": "code",
   "execution_count": 6,
   "id": "5bc55052",
   "metadata": {},
   "outputs": [],
   "source": [
    "from sklearn.model_selection import train_test_split\n",
    "X_train, X_test, y_train, y_test = train_test_split(X, y, train_size=0.2, random_state=1234)"
   ]
  },
  {
   "cell_type": "code",
   "execution_count": 10,
   "id": "f8e5cedd",
   "metadata": {},
   "outputs": [
    {
     "name": "stdout",
     "output_type": "stream",
     "text": [
      "Fitting ab\n",
      "Fitting sporf\n",
      "Fitting sporgboost\n"
     ]
    },
    {
     "ename": "KeyboardInterrupt",
     "evalue": "",
     "output_type": "error",
     "traceback": [
      "\u001b[1;31m---------------------------------------------------------------------------\u001b[0m",
      "\u001b[1;31mKeyboardInterrupt\u001b[0m                         Traceback (most recent call last)",
      "Input \u001b[1;32mIn [10]\u001b[0m, in \u001b[0;36m<module>\u001b[1;34m\u001b[0m\n\u001b[0;32m     10\u001b[0m \u001b[39mfor\u001b[39;00m k, m \u001b[39min\u001b[39;00m models\u001b[39m.\u001b[39mitems():\n\u001b[0;32m     11\u001b[0m     \u001b[39mprint\u001b[39m(\u001b[39mf\u001b[39m\u001b[39m\"\u001b[39m\u001b[39mFitting \u001b[39m\u001b[39m{\u001b[39;00mk\u001b[39m}\u001b[39;00m\u001b[39m\"\u001b[39m)\n\u001b[1;32m---> 12\u001b[0m     m\u001b[39m.\u001b[39;49mfit(X_train, y_train)\n",
      "File \u001b[1;32mc:\\Users\\Ed\\OneDrive - Johns Hopkins\\Desktop\\Adv_ML_Project\\sporgboost\\_forest_base.py:80\u001b[0m, in \u001b[0;36mBaseAdaBoost.fit\u001b[1;34m(self, X, y)\u001b[0m\n\u001b[0;32m     <a href='file:///c%3A/Users/Ed/OneDrive%20-%20Johns%20Hopkins/Desktop/Adv_ML_Project/sporgboost/_forest_base.py?line=77'>78</a>\u001b[0m \u001b[39m# Update weights based on forest errors\u001b[39;00m\n\u001b[0;32m     <a href='file:///c%3A/Users/Ed/OneDrive%20-%20Johns%20Hopkins/Desktop/Adv_ML_Project/sporgboost/_forest_base.py?line=78'>79</a>\u001b[0m \u001b[39mself\u001b[39m\u001b[39m.\u001b[39mn_trees \u001b[39m+\u001b[39m\u001b[39m=\u001b[39m \u001b[39m1\u001b[39m\n\u001b[1;32m---> <a href='file:///c%3A/Users/Ed/OneDrive%20-%20Johns%20Hopkins/Desktop/Adv_ML_Project/sporgboost/_forest_base.py?line=79'>80</a>\u001b[0m y_pred \u001b[39m=\u001b[39m \u001b[39mself\u001b[39;49m\u001b[39m.\u001b[39;49mpredict(X)\n\u001b[0;32m     <a href='file:///c%3A/Users/Ed/OneDrive%20-%20Johns%20Hopkins/Desktop/Adv_ML_Project/sporgboost/_forest_base.py?line=81'>82</a>\u001b[0m \u001b[39m# Terminate early if all predictions match actuals\u001b[39;00m\n\u001b[0;32m     <a href='file:///c%3A/Users/Ed/OneDrive%20-%20Johns%20Hopkins/Desktop/Adv_ML_Project/sporgboost/_forest_base.py?line=82'>83</a>\u001b[0m \u001b[39mif\u001b[39;00m np\u001b[39m.\u001b[39mall(y_pred \u001b[39m==\u001b[39m y):\n",
      "File \u001b[1;32mc:\\Users\\Ed\\OneDrive - Johns Hopkins\\Desktop\\Adv_ML_Project\\sporgboost\\_forest_base.py:40\u001b[0m, in \u001b[0;36mBaseForest.predict\u001b[1;34m(self, X)\u001b[0m\n\u001b[0;32m     <a href='file:///c%3A/Users/Ed/OneDrive%20-%20Johns%20Hopkins/Desktop/Adv_ML_Project/sporgboost/_forest_base.py?line=37'>38</a>\u001b[0m \u001b[39mdef\u001b[39;00m \u001b[39mpredict\u001b[39m(\u001b[39mself\u001b[39m, X):\n\u001b[0;32m     <a href='file:///c%3A/Users/Ed/OneDrive%20-%20Johns%20Hopkins/Desktop/Adv_ML_Project/sporgboost/_forest_base.py?line=38'>39</a>\u001b[0m     out \u001b[39m=\u001b[39m np\u001b[39m.\u001b[39mzeros(shape\u001b[39m=\u001b[39m(X\u001b[39m.\u001b[39mshape[\u001b[39m0\u001b[39m], \u001b[39mself\u001b[39m\u001b[39m.\u001b[39mn_classes))\n\u001b[1;32m---> <a href='file:///c%3A/Users/Ed/OneDrive%20-%20Johns%20Hopkins/Desktop/Adv_ML_Project/sporgboost/_forest_base.py?line=39'>40</a>\u001b[0m     probs \u001b[39m=\u001b[39m \u001b[39mself\u001b[39;49m\u001b[39m.\u001b[39;49mpredict_proba(X)\n\u001b[0;32m     <a href='file:///c%3A/Users/Ed/OneDrive%20-%20Johns%20Hopkins/Desktop/Adv_ML_Project/sporgboost/_forest_base.py?line=40'>41</a>\u001b[0m     \u001b[39mreturn\u001b[39;00m onehot_encode(np\u001b[39m.\u001b[39margmax(probs, axis\u001b[39m=\u001b[39m\u001b[39m1\u001b[39m), levels\u001b[39m=\u001b[39m\u001b[39mself\u001b[39m\u001b[39m.\u001b[39mn_classes)\n",
      "File \u001b[1;32mc:\\Users\\Ed\\OneDrive - Johns Hopkins\\Desktop\\Adv_ML_Project\\sporgboost\\_forest_base.py:31\u001b[0m, in \u001b[0;36mBaseForest.predict_proba\u001b[1;34m(self, X)\u001b[0m\n\u001b[0;32m     <a href='file:///c%3A/Users/Ed/OneDrive%20-%20Johns%20Hopkins/Desktop/Adv_ML_Project/sporgboost/_forest_base.py?line=28'>29</a>\u001b[0m out \u001b[39m=\u001b[39m np\u001b[39m.\u001b[39mzeros(shape\u001b[39m=\u001b[39m(X\u001b[39m.\u001b[39mshape[\u001b[39m0\u001b[39m], \u001b[39mself\u001b[39m\u001b[39m.\u001b[39mn_classes), dtype\u001b[39m=\u001b[39m\u001b[39m'\u001b[39m\u001b[39mfloat\u001b[39m\u001b[39m'\u001b[39m)\n\u001b[0;32m     <a href='file:///c%3A/Users/Ed/OneDrive%20-%20Johns%20Hopkins/Desktop/Adv_ML_Project/sporgboost/_forest_base.py?line=29'>30</a>\u001b[0m \u001b[39mfor\u001b[39;00m idx_tree \u001b[39min\u001b[39;00m prange(\u001b[39mself\u001b[39m\u001b[39m.\u001b[39mn_trees):\n\u001b[1;32m---> <a href='file:///c%3A/Users/Ed/OneDrive%20-%20Johns%20Hopkins/Desktop/Adv_ML_Project/sporgboost/_forest_base.py?line=30'>31</a>\u001b[0m     out \u001b[39m+\u001b[39m\u001b[39m=\u001b[39m \u001b[39mself\u001b[39;49m\u001b[39m.\u001b[39;49m_forest[idx_tree]\u001b[39m.\u001b[39;49mpredict(X)\n\u001b[0;32m     <a href='file:///c%3A/Users/Ed/OneDrive%20-%20Johns%20Hopkins/Desktop/Adv_ML_Project/sporgboost/_forest_base.py?line=32'>33</a>\u001b[0m \u001b[39m# Average prediction from all trees\u001b[39;00m\n\u001b[0;32m     <a href='file:///c%3A/Users/Ed/OneDrive%20-%20Johns%20Hopkins/Desktop/Adv_ML_Project/sporgboost/_forest_base.py?line=33'>34</a>\u001b[0m out \u001b[39m/\u001b[39m\u001b[39m=\u001b[39m \u001b[39mself\u001b[39m\u001b[39m.\u001b[39mn_trees\n",
      "File \u001b[1;32mc:\\Users\\Ed\\OneDrive - Johns Hopkins\\Desktop\\Adv_ML_Project\\sporgboost\\trees.py:15\u001b[0m, in \u001b[0;36mBaseDecisionTree.predict\u001b[1;34m(self, X)\u001b[0m\n\u001b[0;32m     <a href='file:///c%3A/Users/Ed/OneDrive%20-%20Johns%20Hopkins/Desktop/Adv_ML_Project/sporgboost/trees.py?line=13'>14</a>\u001b[0m \u001b[39mdef\u001b[39;00m \u001b[39mpredict\u001b[39m(\u001b[39mself\u001b[39m, X):\n\u001b[1;32m---> <a href='file:///c%3A/Users/Ed/OneDrive%20-%20Johns%20Hopkins/Desktop/Adv_ML_Project/sporgboost/trees.py?line=14'>15</a>\u001b[0m     \u001b[39mreturn\u001b[39;00m _predict_tree(\u001b[39mself\u001b[39;49m\u001b[39m.\u001b[39;49mtree, X, \u001b[39mself\u001b[39;49m\u001b[39m.\u001b[39;49mn_classes)\n",
      "File \u001b[1;32mc:\\Users\\Ed\\OneDrive - Johns Hopkins\\Desktop\\Adv_ML_Project\\sporgboost\\common\\_predict.py:16\u001b[0m, in \u001b[0;36m_predict_tree\u001b[1;34m(tree, X, n_classes)\u001b[0m\n\u001b[0;32m     <a href='file:///c%3A/Users/Ed/OneDrive%20-%20Johns%20Hopkins/Desktop/Adv_ML_Project/sporgboost/common/_predict.py?line=13'>14</a>\u001b[0m     X_ \u001b[39m=\u001b[39m np\u001b[39m.\u001b[39mdot(X, tree\u001b[39m.\u001b[39mproj)\n\u001b[0;32m     <a href='file:///c%3A/Users/Ed/OneDrive%20-%20Johns%20Hopkins/Desktop/Adv_ML_Project/sporgboost/common/_predict.py?line=14'>15</a>\u001b[0m     le \u001b[39m=\u001b[39m X_\u001b[39m.\u001b[39mflatten() \u001b[39m<\u001b[39m\u001b[39m=\u001b[39m tree\u001b[39m.\u001b[39msplit\n\u001b[1;32m---> <a href='file:///c%3A/Users/Ed/OneDrive%20-%20Johns%20Hopkins/Desktop/Adv_ML_Project/sporgboost/common/_predict.py?line=15'>16</a>\u001b[0m     out[le, :] \u001b[39m=\u001b[39m _predict_tree(tree\u001b[39m.\u001b[39;49mleft, X[le], n_classes)\n\u001b[0;32m     <a href='file:///c%3A/Users/Ed/OneDrive%20-%20Johns%20Hopkins/Desktop/Adv_ML_Project/sporgboost/common/_predict.py?line=16'>17</a>\u001b[0m     out[\u001b[39m~\u001b[39mle, :] \u001b[39m=\u001b[39m _predict_tree(tree\u001b[39m.\u001b[39mright, X[\u001b[39m~\u001b[39mle], n_classes)\n\u001b[0;32m     <a href='file:///c%3A/Users/Ed/OneDrive%20-%20Johns%20Hopkins/Desktop/Adv_ML_Project/sporgboost/common/_predict.py?line=17'>18</a>\u001b[0m \u001b[39mreturn\u001b[39;00m out\n",
      "File \u001b[1;32mc:\\Users\\Ed\\OneDrive - Johns Hopkins\\Desktop\\Adv_ML_Project\\sporgboost\\common\\_predict.py:16\u001b[0m, in \u001b[0;36m_predict_tree\u001b[1;34m(tree, X, n_classes)\u001b[0m\n\u001b[0;32m     <a href='file:///c%3A/Users/Ed/OneDrive%20-%20Johns%20Hopkins/Desktop/Adv_ML_Project/sporgboost/common/_predict.py?line=13'>14</a>\u001b[0m     X_ \u001b[39m=\u001b[39m np\u001b[39m.\u001b[39mdot(X, tree\u001b[39m.\u001b[39mproj)\n\u001b[0;32m     <a href='file:///c%3A/Users/Ed/OneDrive%20-%20Johns%20Hopkins/Desktop/Adv_ML_Project/sporgboost/common/_predict.py?line=14'>15</a>\u001b[0m     le \u001b[39m=\u001b[39m X_\u001b[39m.\u001b[39mflatten() \u001b[39m<\u001b[39m\u001b[39m=\u001b[39m tree\u001b[39m.\u001b[39msplit\n\u001b[1;32m---> <a href='file:///c%3A/Users/Ed/OneDrive%20-%20Johns%20Hopkins/Desktop/Adv_ML_Project/sporgboost/common/_predict.py?line=15'>16</a>\u001b[0m     out[le, :] \u001b[39m=\u001b[39m _predict_tree(tree\u001b[39m.\u001b[39;49mleft, X[le], n_classes)\n\u001b[0;32m     <a href='file:///c%3A/Users/Ed/OneDrive%20-%20Johns%20Hopkins/Desktop/Adv_ML_Project/sporgboost/common/_predict.py?line=16'>17</a>\u001b[0m     out[\u001b[39m~\u001b[39mle, :] \u001b[39m=\u001b[39m _predict_tree(tree\u001b[39m.\u001b[39mright, X[\u001b[39m~\u001b[39mle], n_classes)\n\u001b[0;32m     <a href='file:///c%3A/Users/Ed/OneDrive%20-%20Johns%20Hopkins/Desktop/Adv_ML_Project/sporgboost/common/_predict.py?line=17'>18</a>\u001b[0m \u001b[39mreturn\u001b[39;00m out\n",
      "    \u001b[1;31m[... skipping similar frames: _predict_tree at line 16 (4 times)]\u001b[0m\n",
      "File \u001b[1;32mc:\\Users\\Ed\\OneDrive - Johns Hopkins\\Desktop\\Adv_ML_Project\\sporgboost\\common\\_predict.py:16\u001b[0m, in \u001b[0;36m_predict_tree\u001b[1;34m(tree, X, n_classes)\u001b[0m\n\u001b[0;32m     <a href='file:///c%3A/Users/Ed/OneDrive%20-%20Johns%20Hopkins/Desktop/Adv_ML_Project/sporgboost/common/_predict.py?line=13'>14</a>\u001b[0m     X_ \u001b[39m=\u001b[39m np\u001b[39m.\u001b[39mdot(X, tree\u001b[39m.\u001b[39mproj)\n\u001b[0;32m     <a href='file:///c%3A/Users/Ed/OneDrive%20-%20Johns%20Hopkins/Desktop/Adv_ML_Project/sporgboost/common/_predict.py?line=14'>15</a>\u001b[0m     le \u001b[39m=\u001b[39m X_\u001b[39m.\u001b[39mflatten() \u001b[39m<\u001b[39m\u001b[39m=\u001b[39m tree\u001b[39m.\u001b[39msplit\n\u001b[1;32m---> <a href='file:///c%3A/Users/Ed/OneDrive%20-%20Johns%20Hopkins/Desktop/Adv_ML_Project/sporgboost/common/_predict.py?line=15'>16</a>\u001b[0m     out[le, :] \u001b[39m=\u001b[39m _predict_tree(tree\u001b[39m.\u001b[39;49mleft, X[le], n_classes)\n\u001b[0;32m     <a href='file:///c%3A/Users/Ed/OneDrive%20-%20Johns%20Hopkins/Desktop/Adv_ML_Project/sporgboost/common/_predict.py?line=16'>17</a>\u001b[0m     out[\u001b[39m~\u001b[39mle, :] \u001b[39m=\u001b[39m _predict_tree(tree\u001b[39m.\u001b[39mright, X[\u001b[39m~\u001b[39mle], n_classes)\n\u001b[0;32m     <a href='file:///c%3A/Users/Ed/OneDrive%20-%20Johns%20Hopkins/Desktop/Adv_ML_Project/sporgboost/common/_predict.py?line=17'>18</a>\u001b[0m \u001b[39mreturn\u001b[39;00m out\n",
      "File \u001b[1;32mc:\\Users\\Ed\\OneDrive - Johns Hopkins\\Desktop\\Adv_ML_Project\\sporgboost\\common\\_predict.py:17\u001b[0m, in \u001b[0;36m_predict_tree\u001b[1;34m(tree, X, n_classes)\u001b[0m\n\u001b[0;32m     <a href='file:///c%3A/Users/Ed/OneDrive%20-%20Johns%20Hopkins/Desktop/Adv_ML_Project/sporgboost/common/_predict.py?line=14'>15</a>\u001b[0m     le \u001b[39m=\u001b[39m X_\u001b[39m.\u001b[39mflatten() \u001b[39m<\u001b[39m\u001b[39m=\u001b[39m tree\u001b[39m.\u001b[39msplit\n\u001b[0;32m     <a href='file:///c%3A/Users/Ed/OneDrive%20-%20Johns%20Hopkins/Desktop/Adv_ML_Project/sporgboost/common/_predict.py?line=15'>16</a>\u001b[0m     out[le, :] \u001b[39m=\u001b[39m _predict_tree(tree\u001b[39m.\u001b[39mleft, X[le], n_classes)\n\u001b[1;32m---> <a href='file:///c%3A/Users/Ed/OneDrive%20-%20Johns%20Hopkins/Desktop/Adv_ML_Project/sporgboost/common/_predict.py?line=16'>17</a>\u001b[0m     out[\u001b[39m~\u001b[39mle, :] \u001b[39m=\u001b[39m _predict_tree(tree\u001b[39m.\u001b[39;49mright, X[\u001b[39m~\u001b[39;49mle], n_classes)\n\u001b[0;32m     <a href='file:///c%3A/Users/Ed/OneDrive%20-%20Johns%20Hopkins/Desktop/Adv_ML_Project/sporgboost/common/_predict.py?line=17'>18</a>\u001b[0m \u001b[39mreturn\u001b[39;00m out\n",
      "File \u001b[1;32mc:\\Users\\Ed\\OneDrive - Johns Hopkins\\Desktop\\Adv_ML_Project\\sporgboost\\common\\_predict.py:16\u001b[0m, in \u001b[0;36m_predict_tree\u001b[1;34m(tree, X, n_classes)\u001b[0m\n\u001b[0;32m     <a href='file:///c%3A/Users/Ed/OneDrive%20-%20Johns%20Hopkins/Desktop/Adv_ML_Project/sporgboost/common/_predict.py?line=13'>14</a>\u001b[0m     X_ \u001b[39m=\u001b[39m np\u001b[39m.\u001b[39mdot(X, tree\u001b[39m.\u001b[39mproj)\n\u001b[0;32m     <a href='file:///c%3A/Users/Ed/OneDrive%20-%20Johns%20Hopkins/Desktop/Adv_ML_Project/sporgboost/common/_predict.py?line=14'>15</a>\u001b[0m     le \u001b[39m=\u001b[39m X_\u001b[39m.\u001b[39mflatten() \u001b[39m<\u001b[39m\u001b[39m=\u001b[39m tree\u001b[39m.\u001b[39msplit\n\u001b[1;32m---> <a href='file:///c%3A/Users/Ed/OneDrive%20-%20Johns%20Hopkins/Desktop/Adv_ML_Project/sporgboost/common/_predict.py?line=15'>16</a>\u001b[0m     out[le, :] \u001b[39m=\u001b[39m _predict_tree(tree\u001b[39m.\u001b[39;49mleft, X[le], n_classes)\n\u001b[0;32m     <a href='file:///c%3A/Users/Ed/OneDrive%20-%20Johns%20Hopkins/Desktop/Adv_ML_Project/sporgboost/common/_predict.py?line=16'>17</a>\u001b[0m     out[\u001b[39m~\u001b[39mle, :] \u001b[39m=\u001b[39m _predict_tree(tree\u001b[39m.\u001b[39mright, X[\u001b[39m~\u001b[39mle], n_classes)\n\u001b[0;32m     <a href='file:///c%3A/Users/Ed/OneDrive%20-%20Johns%20Hopkins/Desktop/Adv_ML_Project/sporgboost/common/_predict.py?line=17'>18</a>\u001b[0m \u001b[39mreturn\u001b[39;00m out\n",
      "File \u001b[1;32mc:\\Users\\Ed\\OneDrive - Johns Hopkins\\Desktop\\Adv_ML_Project\\sporgboost\\common\\_predict.py:16\u001b[0m, in \u001b[0;36m_predict_tree\u001b[1;34m(tree, X, n_classes)\u001b[0m\n\u001b[0;32m     <a href='file:///c%3A/Users/Ed/OneDrive%20-%20Johns%20Hopkins/Desktop/Adv_ML_Project/sporgboost/common/_predict.py?line=13'>14</a>\u001b[0m     X_ \u001b[39m=\u001b[39m np\u001b[39m.\u001b[39mdot(X, tree\u001b[39m.\u001b[39mproj)\n\u001b[0;32m     <a href='file:///c%3A/Users/Ed/OneDrive%20-%20Johns%20Hopkins/Desktop/Adv_ML_Project/sporgboost/common/_predict.py?line=14'>15</a>\u001b[0m     le \u001b[39m=\u001b[39m X_\u001b[39m.\u001b[39mflatten() \u001b[39m<\u001b[39m\u001b[39m=\u001b[39m tree\u001b[39m.\u001b[39msplit\n\u001b[1;32m---> <a href='file:///c%3A/Users/Ed/OneDrive%20-%20Johns%20Hopkins/Desktop/Adv_ML_Project/sporgboost/common/_predict.py?line=15'>16</a>\u001b[0m     out[le, :] \u001b[39m=\u001b[39m _predict_tree(tree\u001b[39m.\u001b[39;49mleft, X[le], n_classes)\n\u001b[0;32m     <a href='file:///c%3A/Users/Ed/OneDrive%20-%20Johns%20Hopkins/Desktop/Adv_ML_Project/sporgboost/common/_predict.py?line=16'>17</a>\u001b[0m     out[\u001b[39m~\u001b[39mle, :] \u001b[39m=\u001b[39m _predict_tree(tree\u001b[39m.\u001b[39mright, X[\u001b[39m~\u001b[39mle], n_classes)\n\u001b[0;32m     <a href='file:///c%3A/Users/Ed/OneDrive%20-%20Johns%20Hopkins/Desktop/Adv_ML_Project/sporgboost/common/_predict.py?line=17'>18</a>\u001b[0m \u001b[39mreturn\u001b[39;00m out\n",
      "File \u001b[1;32mc:\\Users\\Ed\\OneDrive - Johns Hopkins\\Desktop\\Adv_ML_Project\\sporgboost\\common\\_predict.py:14\u001b[0m, in \u001b[0;36m_predict_tree\u001b[1;34m(tree, X, n_classes)\u001b[0m\n\u001b[0;32m     <a href='file:///c%3A/Users/Ed/OneDrive%20-%20Johns%20Hopkins/Desktop/Adv_ML_Project/sporgboost/common/_predict.py?line=9'>10</a>\u001b[0m     out[:,:] \u001b[39m=\u001b[39m tree\u001b[39m.\u001b[39mvalue\n\u001b[0;32m     <a href='file:///c%3A/Users/Ed/OneDrive%20-%20Johns%20Hopkins/Desktop/Adv_ML_Project/sporgboost/common/_predict.py?line=10'>11</a>\u001b[0m \u001b[39melse\u001b[39;00m:\n\u001b[0;32m     <a href='file:///c%3A/Users/Ed/OneDrive%20-%20Johns%20Hopkins/Desktop/Adv_ML_Project/sporgboost/common/_predict.py?line=11'>12</a>\u001b[0m     \u001b[39m# Decision Stump, keep parsing\u001b[39;00m\n\u001b[0;32m     <a href='file:///c%3A/Users/Ed/OneDrive%20-%20Johns%20Hopkins/Desktop/Adv_ML_Project/sporgboost/common/_predict.py?line=12'>13</a>\u001b[0m     \u001b[39m# Project X, then compare against split value\u001b[39;00m\n\u001b[1;32m---> <a href='file:///c%3A/Users/Ed/OneDrive%20-%20Johns%20Hopkins/Desktop/Adv_ML_Project/sporgboost/common/_predict.py?line=13'>14</a>\u001b[0m     X_ \u001b[39m=\u001b[39m np\u001b[39m.\u001b[39;49mdot(X, tree\u001b[39m.\u001b[39;49mproj)\n\u001b[0;32m     <a href='file:///c%3A/Users/Ed/OneDrive%20-%20Johns%20Hopkins/Desktop/Adv_ML_Project/sporgboost/common/_predict.py?line=14'>15</a>\u001b[0m     le \u001b[39m=\u001b[39m X_\u001b[39m.\u001b[39mflatten() \u001b[39m<\u001b[39m\u001b[39m=\u001b[39m tree\u001b[39m.\u001b[39msplit\n\u001b[0;32m     <a href='file:///c%3A/Users/Ed/OneDrive%20-%20Johns%20Hopkins/Desktop/Adv_ML_Project/sporgboost/common/_predict.py?line=15'>16</a>\u001b[0m     out[le, :] \u001b[39m=\u001b[39m _predict_tree(tree\u001b[39m.\u001b[39mleft, X[le], n_classes)\n",
      "File \u001b[1;32m<__array_function__ internals>:5\u001b[0m, in \u001b[0;36mdot\u001b[1;34m(*args, **kwargs)\u001b[0m\n",
      "\u001b[1;31mKeyboardInterrupt\u001b[0m: "
     ]
    }
   ],
   "source": [
    "models = {\n",
    "    # 'rf' : RandomForest(),\n",
    "    'ab' : AdaBoost(),\n",
    "    'sporf' : SPORF(d=2, s=3),\n",
    "    'sporgboost' : SPORGBoost(d=2, s=3),\n",
    "    'rrf' : RotationalRandomForest(K=2),\n",
    "    'rotboost' : RotBoost(K=2)\n",
    "}\n",
    "\n",
    "for k, m in models.items():\n",
    "    print(f\"Fitting {k}\")\n",
    "    m.fit(X_train, y_train)\n"
   ]
  },
  {
   "cell_type": "code",
   "execution_count": 18,
   "id": "3219ab49",
   "metadata": {},
   "outputs": [
    {
     "data": {
      "text/plain": [
       "-0.8264503479003906"
      ]
     },
     "execution_count": 18,
     "metadata": {},
     "output_type": "execute_result"
    }
   ],
   "source": [
    "models['ab']._forest[0].tree.split"
   ]
  },
  {
   "cell_type": "code",
   "execution_count": 7,
   "id": "b6c682ce",
   "metadata": {},
   "outputs": [
    {
     "name": "stdout",
     "output_type": "stream",
     "text": [
      "CPU times: total: 594 ms\n",
      "Wall time: 597 ms\n"
     ]
    },
    {
     "data": {
      "text/plain": [
       "RandomForestClassifier()"
      ]
     },
     "execution_count": 7,
     "metadata": {},
     "output_type": "execute_result"
    }
   ],
   "source": [
    "%%time\n",
    "from sklearn.ensemble import RandomForestClassifier\n",
    "rf = RandomForestClassifier()\n",
    "rf.fit(X_train, y_train)"
   ]
  },
  {
   "cell_type": "code",
   "execution_count": 13,
   "id": "13373da9",
   "metadata": {},
   "outputs": [
    {
     "data": {
      "text/plain": [
       "[array([[0.31, 0.69],\n",
       "        [0.21, 0.79],\n",
       "        [0.37, 0.63],\n",
       "        ...,\n",
       "        [0.33, 0.67],\n",
       "        [0.32, 0.68],\n",
       "        [0.51, 0.49]]),\n",
       " array([[0.69, 0.31],\n",
       "        [0.79, 0.21],\n",
       "        [0.63, 0.37],\n",
       "        ...,\n",
       "        [0.67, 0.33],\n",
       "        [0.68, 0.32],\n",
       "        [0.49, 0.51]])]"
      ]
     },
     "execution_count": 13,
     "metadata": {},
     "output_type": "execute_result"
    }
   ],
   "source": [
    "rf.predict_proba(X_test)"
   ]
  },
  {
   "cell_type": "code",
   "execution_count": 14,
   "id": "32a7e82c",
   "metadata": {},
   "outputs": [
    {
     "data": {
      "text/plain": [
       "0.9192514784504009"
      ]
     },
     "execution_count": 14,
     "metadata": {},
     "output_type": "execute_result"
    }
   ],
   "source": [
    "roc_auc_score(y_test, rf.predict_proba(X_test)[1], multi_class='ovo')"
   ]
  },
  {
   "cell_type": "code",
   "execution_count": 18,
   "id": "a4b5eee3",
   "metadata": {},
   "outputs": [
    {
     "data": {
      "text/plain": [
       "0.8286363636363636"
      ]
     },
     "execution_count": 18,
     "metadata": {},
     "output_type": "execute_result"
    }
   ],
   "source": [
    "from sklearn.metrics import accuracy_score\n",
    "accuracy_score(y_test, rf.predict(X_test))"
   ]
  },
  {
   "cell_type": "code",
   "execution_count": 15,
   "id": "90b45409",
   "metadata": {},
   "outputs": [
    {
     "ename": "NameError",
     "evalue": "name 'models' is not defined",
     "output_type": "error",
     "traceback": [
      "\u001b[1;31m---------------------------------------------------------------------------\u001b[0m",
      "\u001b[1;31mNameError\u001b[0m                                 Traceback (most recent call last)",
      "\u001b[1;32mc:\\Users\\Ed\\OneDrive - Johns Hopkins\\Desktop\\Adv_ML_Project\\RF.ipynb Cell 10'\u001b[0m in \u001b[0;36m<module>\u001b[1;34m\u001b[0m\n\u001b[0;32m      <a href='vscode-notebook-cell:/c%3A/Users/Ed/OneDrive%20-%20Johns%20Hopkins/Desktop/Adv_ML_Project/RF.ipynb#ch0000004?line=0'>1</a>\u001b[0m \u001b[39m# Get AUC scores\u001b[39;00m\n\u001b[1;32m----> <a href='vscode-notebook-cell:/c%3A/Users/Ed/OneDrive%20-%20Johns%20Hopkins/Desktop/Adv_ML_Project/RF.ipynb#ch0000004?line=1'>2</a>\u001b[0m auc \u001b[39m=\u001b[39m {key : accuracy_score(y_test, model\u001b[39m.\u001b[39mpredict(X_test), multi_class\u001b[39m=\u001b[39m\u001b[39m'\u001b[39m\u001b[39movo\u001b[39m\u001b[39m'\u001b[39m) \u001b[39mfor\u001b[39;00m key, model \u001b[39min\u001b[39;00m models\u001b[39m.\u001b[39mitems() \u001b[39mif\u001b[39;00m key \u001b[39min\u001b[39;00m {\u001b[39m'\u001b[39m\u001b[39mab\u001b[39m\u001b[39m'\u001b[39m,\u001b[39m'\u001b[39m\u001b[39msporf\u001b[39m\u001b[39m'\u001b[39m}}\n\u001b[0;32m      <a href='vscode-notebook-cell:/c%3A/Users/Ed/OneDrive%20-%20Johns%20Hopkins/Desktop/Adv_ML_Project/RF.ipynb#ch0000004?line=2'>3</a>\u001b[0m auc\n",
      "\u001b[1;31mNameError\u001b[0m: name 'models' is not defined"
     ]
    }
   ],
   "source": [
    "# Get AUC scores\n",
    "auc = {key : roc_auc_score(y_test, model.predict_proba(X_test), multi_class='ovo') for key, model in models.items() if key in {'ab','sporf'}}\n",
    "auc"
   ]
  }
 ],
 "metadata": {
  "kernelspec": {
   "display_name": "SPORF",
   "language": "python",
   "name": "sporf"
  },
  "language_info": {
   "codemirror_mode": {
    "name": "ipython",
    "version": 3
   },
   "file_extension": ".py",
   "mimetype": "text/x-python",
   "name": "python",
   "nbconvert_exporter": "python",
   "pygments_lexer": "ipython3",
   "version": "3.8.12"
  }
 },
 "nbformat": 4,
 "nbformat_minor": 5
}
