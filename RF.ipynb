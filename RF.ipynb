{
 "cells": [
  {
   "cell_type": "code",
   "execution_count": 2,
   "id": "3597138f-3be1-4461-a020-dba09287bb91",
   "metadata": {},
   "outputs": [],
   "source": [
    "import numpy as np\n",
    "from sklearn.datasets import load_iris\n",
    "from sporgboost.preprocessing import onehot_encode, shuffle\n",
    "from sporgboost.common import best_split"
   ]
  },
  {
   "cell_type": "code",
   "execution_count": 3,
   "id": "5c149194-7402-4486-90f2-f11a1d6323a6",
   "metadata": {},
   "outputs": [],
   "source": [
    "# Dataset for testing\n",
    "X, y = load_iris(return_X_y = True)\n",
    "\n",
    "# Set seed to be able to reproduce\n",
    "np.random.seed(1234)\n",
    "    \n",
    "# Preprocessing\n",
    "y = onehot_encode(y)\n",
    "X, y = shuffle(X, y)"
   ]
  },
  {
   "cell_type": "code",
   "execution_count": 18,
   "id": "895d185a",
   "metadata": {},
   "outputs": [
    {
     "ename": "AttributeError",
     "evalue": "'Identity' object has no attribute 'fit_map'",
     "output_type": "error",
     "traceback": [
      "\u001b[1;31m---------------------------------------------------------------------------\u001b[0m",
      "\u001b[1;31mAttributeError\u001b[0m                            Traceback (most recent call last)",
      "Input \u001b[1;32mIn [18]\u001b[0m, in \u001b[0;36m<module>\u001b[1;34m\u001b[0m\n\u001b[0;32m     53\u001b[0m     \u001b[39mreturn\u001b[39;00m out\n\u001b[0;32m     55\u001b[0m model \u001b[39m=\u001b[39m DecisionTree()\n\u001b[1;32m---> 56\u001b[0m model\u001b[39m.\u001b[39;49mfit(X, y)\n",
      "Input \u001b[1;32mIn [18]\u001b[0m, in \u001b[0;36mDecisionTree.fit\u001b[1;34m(self, X, y, proj)\u001b[0m\n\u001b[0;32m      6\u001b[0m \u001b[39mdef\u001b[39;00m \u001b[39mfit\u001b[39m(\u001b[39mself\u001b[39m, X, y, proj \u001b[39m=\u001b[39m Identity):\n\u001b[1;32m----> 7\u001b[0m     \u001b[39mself\u001b[39m\u001b[39m.\u001b[39mtree \u001b[39m=\u001b[39m _grow_tree(X, y, proj)\n\u001b[0;32m      8\u001b[0m     \u001b[39mself\u001b[39m\u001b[39m.\u001b[39mn_classes \u001b[39m=\u001b[39m y\u001b[39m.\u001b[39mshape[\u001b[39m1\u001b[39m]\n",
      "Input \u001b[1;32mIn [18]\u001b[0m, in \u001b[0;36m_grow_tree\u001b[1;34m(X, y, proj)\u001b[0m\n\u001b[0;32m     13\u001b[0m \u001b[39mdef\u001b[39;00m \u001b[39m_grow_tree\u001b[39m(X, y, proj):\n\u001b[1;32m---> 14\u001b[0m     X_, mapping \u001b[39m=\u001b[39m proj()\u001b[39m.\u001b[39;49mfit_map(X, y)\n\u001b[0;32m     16\u001b[0m     col, split \u001b[39m=\u001b[39m best_split(X_, y)\n\u001b[0;32m     17\u001b[0m     out \u001b[39m=\u001b[39m {\u001b[39m'\u001b[39m\u001b[39mproj\u001b[39m\u001b[39m'\u001b[39m : mapping[col, :], \u001b[39m'\u001b[39m\u001b[39msplit\u001b[39m\u001b[39m'\u001b[39m : split}\n",
      "\u001b[1;31mAttributeError\u001b[0m: 'Identity' object has no attribute 'fit_map'"
     ]
    }
   ],
   "source": [
    "from sporgboost.common import gini_impurity\n",
    "from sporgboost.utils import row_mean\n",
    "from sporgboost.projections import Identity\n",
    "\n",
    "class DecisionTree():\n",
    "    def fit(self, X, y, proj = Identity):\n",
    "        self.tree = _grow_tree(X, y, proj)\n",
    "        self.n_classes = y.shape[1]\n",
    "\n",
    "    def predict(self, X):\n",
    "        return _predict(self.tree, X, self.n_classes)\n",
    "\n",
    "def _grow_tree(X, y, proj):\n",
    "    X_, mapping = proj().fit_map(X, y)\n",
    "\n",
    "    col, split = best_split(X_, y)\n",
    "    out = {'proj' : mapping[col, :], 'split' : split}\n",
    "    le = (X_ <= split)\n",
    "\n",
    "    # Compute new split predictions\n",
    "    pred_left = row_mean(y[le, :]).reshape((1, -1))\n",
    "    pred_right = row_mean(y[~le, :]).reshape((1, -1))\n",
    "\n",
    "    if gini_impurity(pred_left) == 0:\n",
    "        # Return leaf value\n",
    "        out['left'] = pred_left\n",
    "    else:\n",
    "        # Grow another decision stump\n",
    "        out['left'] = _grow_tree(X[le, :], y[le, :])\n",
    "\n",
    "    if gini_impurity(pred_right) <= .01:\n",
    "        # Return leaf value\n",
    "        out['right'] = pred_right\n",
    "    else:\n",
    "        pass\n",
    "        out['right'] = _grow_tree(X[~le, :], y[~le, :])\n",
    "    \n",
    "    return(out)\n",
    "\n",
    "def _predict(tree, X, n_classes):\n",
    "    # If we are at a leaf, return the value\n",
    "    if isinstance(tree, np.ndarray):\n",
    "        return tree\n",
    "\n",
    "    # Decision Stump, keep parsing\n",
    "    # Project X, then compare against split value\n",
    "    X_ = X @ tree['proj']\n",
    "    le = X_ <= tree['split']\n",
    "    out = np.empty(shape=(X.shape[0], n_classes))\n",
    "    out[le, :] = _predict(tree['left'], X[le], n_classes)\n",
    "    out[~le, :] = _predict(tree['right'], X[~le], n_classes)\n",
    "    \n",
    "    return out\n",
    "\n",
    "model = DecisionTree()\n",
    "model.fit(X, y)"
   ]
  },
  {
   "cell_type": "code",
   "execution_count": 14,
   "id": "d0bf4b12",
   "metadata": {},
   "outputs": [
    {
     "name": "stdout",
     "output_type": "stream",
     "text": [
      "1.57 ms ± 10.2 µs per loop (mean ± std. dev. of 7 runs, 1,000 loops each)\n"
     ]
    }
   ],
   "source": [
    "%timeit model.fit(X, y)"
   ]
  },
  {
   "cell_type": "code",
   "execution_count": 15,
   "id": "550e200e",
   "metadata": {},
   "outputs": [
    {
     "name": "stdout",
     "output_type": "stream",
     "text": [
      "89.6 µs ± 535 ns per loop (mean ± std. dev. of 7 runs, 10,000 loops each)\n"
     ]
    }
   ],
   "source": [
    "%timeit model.predict(X)"
   ]
  },
  {
   "cell_type": "code",
   "execution_count": 8,
   "id": "e64e25e2",
   "metadata": {},
   "outputs": [
    {
     "name": "stdout",
     "output_type": "stream",
     "text": [
      "306 µs ± 2.37 µs per loop (mean ± std. dev. of 7 runs, 1,000 loops each)\n"
     ]
    }
   ],
   "source": [
    "%timeit sktree.fit(X, y)"
   ]
  },
  {
   "cell_type": "code",
   "execution_count": 9,
   "id": "872c44bc",
   "metadata": {},
   "outputs": [
    {
     "name": "stdout",
     "output_type": "stream",
     "text": [
      "70.7 µs ± 335 ns per loop (mean ± std. dev. of 7 runs, 10,000 loops each)\n"
     ]
    }
   ],
   "source": [
    "%timeit sktree.predict(X)"
   ]
  },
  {
   "cell_type": "code",
   "execution_count": 7,
   "id": "c8bf01b2",
   "metadata": {},
   "outputs": [
    {
     "data": {
      "text/plain": [
       "DecisionTreeClassifier()"
      ]
     },
     "execution_count": 7,
     "metadata": {},
     "output_type": "execute_result"
    }
   ],
   "source": [
    "from sklearn.tree import DecisionTreeClassifier\n",
    "sktree = DecisionTreeClassifier(\n",
    "    \n",
    ")\n",
    "sktree.fit(X, y)"
   ]
  },
  {
   "cell_type": "code",
   "execution_count": 118,
   "id": "e05b1035",
   "metadata": {},
   "outputs": [
    {
     "data": {
      "text/plain": [
       "[Text(0.5, 0.9166666666666666, 'X[2] <= 2.45\\ngini = 0.444\\nsamples = 150\\nvalue = [[100, 50]\\n[100, 50]\\n[100, 50]]'),\n",
       " Text(0.4230769230769231, 0.75, 'gini = 0.0\\nsamples = 50\\nvalue = [[0, 50]\\n[50, 0]\\n[50, 0]]'),\n",
       " Text(0.5769230769230769, 0.75, 'X[3] <= 1.75\\ngini = 0.333\\nsamples = 100\\nvalue = [[100, 0]\\n[50, 50]\\n[50, 50]]'),\n",
       " Text(0.3076923076923077, 0.5833333333333334, 'X[2] <= 4.95\\ngini = 0.112\\nsamples = 54\\nvalue = [[54, 0]\\n[5, 49]\\n[49, 5]]'),\n",
       " Text(0.15384615384615385, 0.4166666666666667, 'X[3] <= 1.65\\ngini = 0.027\\nsamples = 48\\nvalue = [[48, 0]\\n[1, 47]\\n[47, 1]]'),\n",
       " Text(0.07692307692307693, 0.25, 'gini = 0.0\\nsamples = 47\\nvalue = [[47, 0]\\n[0, 47]\\n[47, 0]]'),\n",
       " Text(0.23076923076923078, 0.25, 'gini = 0.0\\nsamples = 1\\nvalue = [[1, 0]\\n[1, 0]\\n[0, 1]]'),\n",
       " Text(0.46153846153846156, 0.4166666666666667, 'X[3] <= 1.55\\ngini = 0.296\\nsamples = 6\\nvalue = [[6, 0]\\n[4, 2]\\n[2, 4]]'),\n",
       " Text(0.38461538461538464, 0.25, 'gini = 0.0\\nsamples = 3\\nvalue = [[3, 0]\\n[3, 0]\\n[0, 3]]'),\n",
       " Text(0.5384615384615384, 0.25, 'X[0] <= 6.95\\ngini = 0.296\\nsamples = 3\\nvalue = [[3, 0]\\n[1, 2]\\n[2, 1]]'),\n",
       " Text(0.46153846153846156, 0.08333333333333333, 'gini = 0.0\\nsamples = 2\\nvalue = [[2, 0]\\n[0, 2]\\n[2, 0]]'),\n",
       " Text(0.6153846153846154, 0.08333333333333333, 'gini = 0.0\\nsamples = 1\\nvalue = [[1, 0]\\n[1, 0]\\n[0, 1]]'),\n",
       " Text(0.8461538461538461, 0.5833333333333334, 'X[2] <= 4.85\\ngini = 0.028\\nsamples = 46\\nvalue = [[46, 0]\\n[45, 1]\\n[1, 45]]'),\n",
       " Text(0.7692307692307693, 0.4166666666666667, 'X[1] <= 3.1\\ngini = 0.296\\nsamples = 3\\nvalue = [[3, 0]\\n[2, 1]\\n[1, 2]]'),\n",
       " Text(0.6923076923076923, 0.25, 'gini = 0.0\\nsamples = 2\\nvalue = [[2, 0]\\n[2, 0]\\n[0, 2]]'),\n",
       " Text(0.8461538461538461, 0.25, 'gini = 0.0\\nsamples = 1\\nvalue = [[1, 0]\\n[0, 1]\\n[1, 0]]'),\n",
       " Text(0.9230769230769231, 0.4166666666666667, 'gini = 0.0\\nsamples = 43\\nvalue = [[43, 0]\\n[43, 0]\\n[0, 43]]')]"
      ]
     },
     "execution_count": 118,
     "metadata": {},
     "output_type": "execute_result"
    },
    {
     "data": {
      "image/png": "[encoded data removed]",
      "text/plain": [
       "<Figure size 432x288 with 1 Axes>"
      ]
     },
     "metadata": {
      "needs_background": "light"
     },
     "output_type": "display_data"
    }
   ],
   "source": [
    "from sklearn.tree import plot_tree\n",
    "plot_tree(sktree)"
   ]
  },
  {
   "cell_type": "code",
   "execution_count": 203,
   "id": "ea08dc8f",
   "metadata": {},
   "outputs": [
    {
     "data": {
      "text/plain": [
       "(array([-4, 31, 33, 42, 49, 50, 54, 55, 56]),\n",
       " array([0.44444444, 0.375     , 0.47619048, 0.5       , 0.48      ,\n",
       "        0.5       , 0.47619048, 0.5       , 0.44444444]))"
      ]
     },
     "execution_count": 203,
     "metadata": {},
     "output_type": "execute_result"
    }
   ],
   "source": [
    "y_ = onehot_encode(np.array([0,0,0,0,0,1,1,1,1,1]))\n",
    "X_ = np.array([\n",
    "    [0,33],\n",
    "    [0,54],\n",
    "    [0,56],\n",
    "    [0,42],\n",
    "    [1,50],\n",
    "    [1,55],\n",
    "    [1,31],\n",
    "    [0,-4],\n",
    "    [1,77],\n",
    "    [0,49]\n",
    "    ])\n",
    "\n",
    "\n",
    "find_split_feat(X_[:,1], y_)"
   ]
  },
  {
   "cell_type": "code",
   "execution_count": 9,
   "id": "077c7d6b",
   "metadata": {},
   "outputs": [],
   "source": [
    "# from numba.experimental import jitclass\n",
    "# from numba import float32, int16\n",
    "# from sporgboost.projections import Identity\n",
    "# from sporgboost.common import gini_impunity\n",
    "# from sporgboost.utils import row_mean\n",
    "\n",
    "# class DecisionStump():\n",
    "#     def __init__(self,\n",
    "#                  base_proj = Identity,\n",
    "#                  **kwargs\n",
    "#                 ):\n",
    "#         self.base_proj = base_proj\n",
    "#         self.proj = base_proj()\n",
    "    \n",
    "#     def fit(self, X, y):\n",
    "#         # General info\n",
    "#         self.n_classes = y.shape[1]\n",
    "        \n",
    "#         # Project the data onto a new hyperplane\n",
    "#         self.proj.fit(X, y)\n",
    "#         X_proj = self.proj.transform(X)\n",
    "        \n",
    "#         # Set the split col and value\n",
    "#         self.col_idx, self.value = best_split(X_proj, y)\n",
    "#         self.proj.select(self.col_idx)\n",
    "        \n",
    "#         # Check partitions for impunity and decide if we are adding a leaf or another stump\n",
    "#         le = (X_proj[:, self.col_idx] <= self.value)\n",
    "#         left_value = row_mean(y[le])\n",
    "#         right_value = row_mean(y[~le])\n",
    "\n",
    "#         if (le.sum() == X.shape[0]) or (le.sum() == 0):\n",
    "#             raise ValueError(f\"One partition is entirely empty, returning diagnostic info\"\n",
    "#                              f\"\\nX:\\n{X}\\ny:\\n{y}\\ncol_idx={self.col_idx}\\nsplit_value={self.value}\"\n",
    "#                              f\"\\nfind_split_info={find_split(X_proj, y)}\"\n",
    "#                             )\n",
    "            \n",
    "#         if left_value.max() == 1:\n",
    "#             self.left = left_value  \n",
    "#         else:\n",
    "#             self.left = DecisionStump(proj = self.proj).fit(X[le], y[le])\n",
    "            \n",
    "#         if right_value.max() == 1:\n",
    "#             self.right = right_value \n",
    "#         else:\n",
    "#             self.right = DecisionStump(proj = self.proj).fit(X[~le], y[~le])\n",
    "\n",
    "#         return self\n",
    "    \n",
    "#     def predict(self, X):\n",
    "#         X_proj = self.proj.transform(X)\n",
    "#         y_pred = np.empty((X.shape[0], self.n_classes), 'float32')\n",
    "        \n",
    "#         le = (X_proj <= self.value).flatten()\n",
    "#         if isinstance(self.left, DecisionStump):\n",
    "#             y_pred[le, :] = self.left.predict(X[le])\n",
    "#         else:\n",
    "#             y_pred[le, :] = self.left\n",
    "        \n",
    "#         if isinstance(self.right, DecisionStump):\n",
    "#             y_pred[~le, :] = self.right.predict(X[~le])\n",
    "#         else:\n",
    "#             y_pred[~le, :] = self.right\n",
    "            \n",
    "#         y_pred[X_proj > self.value] = self.right.predict(X[X_proj > self.value])\n",
    "#         return(y_pred)"
   ]
  },
  {
   "cell_type": "code",
   "execution_count": 39,
   "id": "672eb10a",
   "metadata": {},
   "outputs": [],
   "source": [
    "# %%time\n",
    "# test = DecisionStump()\n",
    "# test.fit(X, y)"
   ]
  }
 ],
 "metadata": {
  "kernelspec": {
   "display_name": "SPORF",
   "language": "python",
   "name": "sporf"
  },
  "language_info": {
   "codemirror_mode": {
    "name": "ipython",
    "version": 3
   },
   "file_extension": ".py",
   "mimetype": "text/x-python",
   "name": "python",
   "nbconvert_exporter": "python",
   "pygments_lexer": "ipython3",
   "version": "3.8.12"
  }
 },
 "nbformat": 4,
 "nbformat_minor": 5
}
