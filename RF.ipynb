{
 "cells": [
  {
   "cell_type": "code",
   "execution_count": 1,
   "id": "3597138f-3be1-4461-a020-dba09287bb91",
   "metadata": {},
   "outputs": [],
   "source": [
    "from sklearn.pipeline import Pipeline\n",
    "from sklearn.model_selection import GridSearchCV, StratifiedKFold\n",
    "from sklearn.datasets import load_iris, load_breast_cancer, load_wine\n",
    "from sporboost.forest import *\n",
    "import pandas as pd\n",
    "from time import time\n",
    "import os\n",
    "from sklearn.metrics import make_scorer\n",
    "from xgboost import XGBClassifier\n",
    "\n",
    "################################################################################\n",
    "################################################################################\n",
    "################################################################################\n",
    "# Data Load\n",
    "def load_simulated(path):\n",
    "    data = np.loadtxt(path, delimiter=\",\")\n",
    "    return data[:,:-1], data[:,-1].astype('int32')\n",
    "\n",
    "dfs = {\n",
    "    'iris' : load_iris(return_X_y = True),\n",
    "    # 'breast_cancer' : load_breast_cancer(return_X_y = True),\n",
    "    # 'wine' : load_wine(return_X_y = True),\n",
    "    # 'trunk' : load_simulated(\"source_data/simulated/Trunk_train.csv\"),\n",
    "    # 'orthant' : load_simulated(\"source_data/simulated/Orthant_train.csv\"),\n",
    "    # 'sparse_parity' : load_simulated(\"source_data/simulated/Sparse_parity_train.csv\")\n",
    "}\n"
   ]
  },
  {
   "cell_type": "code",
   "execution_count": 2,
   "id": "9514c86a",
   "metadata": {},
   "outputs": [],
   "source": [
    "# clf = AdaBoost(max_depth=2)\n",
    "# clf.fit(*dfs['iris'])"
   ]
  },
  {
   "cell_type": "code",
   "execution_count": 3,
   "id": "45a798f8",
   "metadata": {},
   "outputs": [],
   "source": [
    "# clf.predict(dfs['iris'][0])"
   ]
  },
  {
   "cell_type": "code",
   "execution_count": 4,
   "id": "d9af06a5",
   "metadata": {},
   "outputs": [],
   "source": [
    "################################################################################\n",
    "################################################################################\n",
    "################################################################################\n",
    "# Hyperparameters across all estimators\n",
    "# Boosted Forest\n",
    "boosted_max_depth = (1, 2, 3)\n",
    "\n",
    "# Sparse Random Trees\n",
    "d_ratio = (0.25, 0.5, 0.75, 1)\n",
    "s_ratio = (1., 2., 3., 4., 5.)\n",
    "\n",
    "# Rotational Decision Trees\n",
    "K = (2, 3)\n"
   ]
  },
  {
   "cell_type": "code",
   "execution_count": 5,
   "id": "209a0702",
   "metadata": {},
   "outputs": [],
   "source": [
    "################################################################################\n",
    "################################################################################\n",
    "################################################################################\n",
    "# Scoring Functions\n",
    "scoring = {\n",
    "    \"cohens_kappa\" : make_scorer(cohen_kappa_score),\n",
    "    \"accuracy\" : 'accuracy'\n",
    "}"
   ]
  },
  {
   "cell_type": "code",
   "execution_count": 6,
   "id": "dae710b4",
   "metadata": {},
   "outputs": [],
   "source": [
    "################################################################################\n",
    "################################################################################\n",
    "################################################################################\n",
    "# Initalize cross-validation params\n",
    "pipe = Pipeline([\n",
    "    ('clf', RandomForest())\n",
    "])\n",
    "\n",
    "params = [\n",
    "    {\n",
    "        'clf' : (RandomForest(),),\n",
    "    },\n",
    "    {\n",
    "        'clf' : (AdaBoost(),),\n",
    "        'clf__max_depth' : boosted_max_depth\n",
    "    },\n",
    "    {\n",
    "        'clf' : (SPORF(),),\n",
    "        'clf__d_ratio' : d_ratio,\n",
    "        'clf__s_ratio' : s_ratio\n",
    "    },\n",
    "    {\n",
    "        'clf' : (SPORBoost(),),\n",
    "        'clf__max_depth' : boosted_max_depth,\n",
    "        'clf__d_ratio' : d_ratio,\n",
    "        'clf__s_ratio' : s_ratio\n",
    "    },\n",
    "    {\n",
    "        'clf' : (RotationalForest(),),\n",
    "        'clf__K' : K\n",
    "    },\n",
    "    {\n",
    "        'clf' : (RotBoost(),),\n",
    "        'clf__max_depth' : boosted_max_depth,\n",
    "        'clf__K' : K\n",
    "    },\n",
    "    {\n",
    "        'clf' : (XGBClassifier(nthread = 1, use_label_encoder=False), )\n",
    "    }\n",
    "]\n",
    "\n",
    "kfold = StratifiedKFold(n_splits=10, shuffle=True, random_state=20220329)\n",
    "\n",
    "cv_base = GridSearchCV(estimator = pipe,\n",
    "                       param_grid = params,\n",
    "                       cv=kfold,\n",
    "                       n_jobs=-1,\n",
    "                       verbose=3,\n",
    "                       refit=False,\n",
    "                       scoring=scoring\n",
    ")\n"
   ]
  },
  {
   "cell_type": "code",
   "execution_count": 12,
   "id": "852b9c0e",
   "metadata": {},
   "outputs": [],
   "source": [
    "################################################################################\n",
    "################################################################################\n",
    "################################################################################\n",
    "# Func to write results to disk\n",
    "def write_results(cv, label):\n",
    "    front_cols = ['param_clf',\n",
    "                  'mean_test_cohens_kappa', 'std_test_cohens_kappa',\n",
    "                  'mean_test_accuracy', 'std_test_accuracy',\n",
    "                  'param_clf__max_depth',\n",
    "                  'param_clf__d_ratio', 'param_clf__s_ratio',\n",
    "                  'param_clf__K'\n",
    "                ]\n",
    "\n",
    "    results = pd.DataFrame(cv.cv_results_).drop(['params'], axis=1)\n",
    "    results['param_clf'] = results['param_clf'].apply(lambda c: type(c).__name__)\n",
    "    results = results.sort_values(['param_clf', 'mean_test_cohens_kappa'],\n",
    "                                ascending=False, ignore_index = True)\n",
    "            \n",
    "    results = results[front_cols + results.drop(front_cols, axis=1).columns.tolist()]\n",
    "\n",
    "    # All Results\n",
    "    results.to_csv(f\"report/{label}_all.csv\", index=False)\n",
    "\n",
    "    # Best Results\n",
    "    results.groupby(\"param_clf\").nth(0).reset_index(drop=False).to_csv(f\"report/{label}_best.csv\", index=False)"
   ]
  },
  {
   "cell_type": "code",
   "execution_count": 8,
   "id": "aff77f29",
   "metadata": {},
   "outputs": [
    {
     "name": "stdout",
     "output_type": "stream",
     "text": [
      "Testing iris\n",
      "Fitting 10 folds for each of 69 candidates, totalling 690 fits\n"
     ]
    },
    {
     "name": "stderr",
     "output_type": "stream",
     "text": [
      "C:\\Users\\Ed\\anaconda3\\envs\\proj\\lib\\site-packages\\sklearn\\model_selection\\_search.py:969: UserWarning: One or more of the test scores are non-finite: [0.88 0.94 0.92 0.8  0.8  0.94 0.93 0.95 0.78 0.78 0.94 0.94 0.95 0.77\n",
      " 0.77 0.95 0.94 0.96 0.8  0.8  0.94 0.97 0.94 0.78 0.78 0.95 0.96 0.95\n",
      " 0.77 0.77 0.95 0.96 0.94 0.8  0.8  0.93 0.96 0.96 0.78 0.78 0.95 0.95\n",
      " 0.94 0.77 0.77 0.94 0.94 0.94 0.8  0.8  0.95 0.96 0.94 0.78 0.78 0.95\n",
      " 0.95 0.95 0.77 0.77 0.95  nan 0.95 0.95 0.95 0.93 0.94 0.95 0.93]\n",
      "  warnings.warn(\n",
      "C:\\Users\\Ed\\anaconda3\\envs\\proj\\lib\\site-packages\\sklearn\\model_selection\\_search.py:969: UserWarning: One or more of the test scores are non-finite: [0.92       0.96       0.94666667 0.86666667 0.86666667 0.96\n",
      " 0.95333333 0.96666667 0.85333333 0.85333333 0.96       0.96\n",
      " 0.96666667 0.84666667 0.84666667 0.96666667 0.96       0.97333333\n",
      " 0.86666667 0.86666667 0.96       0.98       0.96       0.85333333\n",
      " 0.85333333 0.96666667 0.97333333 0.96666667 0.84666667 0.84666667\n",
      " 0.96666667 0.97333333 0.96       0.86666667 0.86666667 0.95333333\n",
      " 0.97333333 0.97333333 0.85333333 0.85333333 0.96666667 0.96666667\n",
      " 0.96       0.84666667 0.84666667 0.96       0.96       0.96\n",
      " 0.86666667 0.86666667 0.96666667 0.97333333 0.96       0.85333333\n",
      " 0.85333333 0.96666667 0.96666667 0.96666667 0.84666667 0.84666667\n",
      " 0.96666667        nan 0.96666667 0.96666667 0.96666667 0.95333333\n",
      " 0.96       0.96666667 0.95333333]\n",
      "  warnings.warn(\n"
     ]
    },
    {
     "name": "stdout",
     "output_type": "stream",
     "text": [
      "Fitting 10 folds for each of 69 candidates, totalling 690 fits\n"
     ]
    },
    {
     "name": "stderr",
     "output_type": "stream",
     "text": [
      "C:\\Users\\Ed\\anaconda3\\envs\\proj\\lib\\site-packages\\sklearn\\model_selection\\_search.py:969: UserWarning: One or more of the test scores are non-finite: [0.88 0.94 0.92 0.8  0.8  0.92 0.94 0.96 0.78 0.78 0.94 0.94 0.95 0.77\n",
      " 0.77 0.95 0.94 0.97 0.8  0.8  0.95 0.95 0.95 0.78 0.78 0.95 0.95 0.95\n",
      " 0.77 0.77 0.96 0.94 0.95 0.8  0.8  0.94 0.95 0.95 0.78 0.78 0.95 0.95\n",
      " 0.95 0.77 0.77 0.95 0.95 0.95 0.8  0.8  0.94 0.95 0.95 0.78 0.78 0.95\n",
      " 0.95 0.95 0.77 0.77 0.94 0.95  nan 0.94 0.95 0.95 0.95 0.95 0.94]\n",
      "  warnings.warn(\n",
      "C:\\Users\\Ed\\anaconda3\\envs\\proj\\lib\\site-packages\\sklearn\\model_selection\\_search.py:969: UserWarning: One or more of the test scores are non-finite: [0.92       0.96       0.94666667 0.86666667 0.86666667 0.94666667\n",
      " 0.96       0.97333333 0.85333333 0.85333333 0.96       0.96\n",
      " 0.96666667 0.84666667 0.84666667 0.96666667 0.96       0.98\n",
      " 0.86666667 0.86666667 0.96666667 0.96666667 0.96666667 0.85333333\n",
      " 0.85333333 0.96666667 0.96666667 0.96666667 0.84666667 0.84666667\n",
      " 0.97333333 0.96       0.96666667 0.86666667 0.86666667 0.96\n",
      " 0.96666667 0.96666667 0.85333333 0.85333333 0.96666667 0.96666667\n",
      " 0.96666667 0.84666667 0.84666667 0.96666667 0.96666667 0.96666667\n",
      " 0.86666667 0.86666667 0.96       0.96666667 0.96666667 0.85333333\n",
      " 0.85333333 0.96666667 0.96666667 0.96666667 0.84666667 0.84666667\n",
      " 0.96       0.96666667        nan 0.96       0.96666667 0.96666667\n",
      " 0.96666667 0.96666667 0.96      ]\n",
      "  warnings.warn(\n"
     ]
    },
    {
     "ename": "KeyError",
     "evalue": "\"['param_clf__s'] not found in axis\"",
     "output_type": "error",
     "traceback": [
      "\u001b[1;31m---------------------------------------------------------------------------\u001b[0m",
      "\u001b[1;31mKeyError\u001b[0m                                  Traceback (most recent call last)",
      "\u001b[1;32mc:\\Users\\Ed\\OneDrive - Johns Hopkins\\Desktop\\Adv_ML_Project\\RF.ipynb Cell 8'\u001b[0m in \u001b[0;36m<cell line: 5>\u001b[1;34m()\u001b[0m\n\u001b[0;32m      <a href='vscode-notebook-cell:/c%3A/Users/Ed/OneDrive%20-%20Johns%20Hopkins/Desktop/Adv_ML_Project/RF.ipynb#ch0000008?line=7'>8</a>\u001b[0m \u001b[39mprint\u001b[39m(\u001b[39mf\u001b[39m\u001b[39m\"\u001b[39m\u001b[39mTesting \u001b[39m\u001b[39m{\u001b[39;00mname\u001b[39m}\u001b[39;00m\u001b[39m\"\u001b[39m)\n\u001b[0;32m      <a href='vscode-notebook-cell:/c%3A/Users/Ed/OneDrive%20-%20Johns%20Hopkins/Desktop/Adv_ML_Project/RF.ipynb#ch0000008?line=8'>9</a>\u001b[0m res \u001b[39m=\u001b[39m cv_base\u001b[39m.\u001b[39mfit(\u001b[39m*\u001b[39mdf)\n\u001b[1;32m---> <a href='vscode-notebook-cell:/c%3A/Users/Ed/OneDrive%20-%20Johns%20Hopkins/Desktop/Adv_ML_Project/RF.ipynb#ch0000008?line=9'>10</a>\u001b[0m write_results(cv_base\u001b[39m.\u001b[39;49mfit(\u001b[39m*\u001b[39;49mdf), name)\n\u001b[0;32m     <a href='vscode-notebook-cell:/c%3A/Users/Ed/OneDrive%20-%20Johns%20Hopkins/Desktop/Adv_ML_Project/RF.ipynb#ch0000008?line=10'>11</a>\u001b[0m end \u001b[39m=\u001b[39m time()\n\u001b[0;32m     <a href='vscode-notebook-cell:/c%3A/Users/Ed/OneDrive%20-%20Johns%20Hopkins/Desktop/Adv_ML_Project/RF.ipynb#ch0000008?line=11'>12</a>\u001b[0m \u001b[39mprint\u001b[39m(\u001b[39mf\u001b[39m\u001b[39m\"\u001b[39m\u001b[39mFinished \u001b[39m\u001b[39m{\u001b[39;00mname\u001b[39m}\u001b[39;00m\u001b[39m in \u001b[39m\u001b[39m{\u001b[39;00m(end \u001b[39m-\u001b[39m start) \u001b[39m/\u001b[39m \u001b[39m60\u001b[39m\u001b[39m:\u001b[39;00m\u001b[39m.1f\u001b[39m\u001b[39m}\u001b[39;00m\u001b[39m mins\u001b[39m\u001b[39m\"\u001b[39m)\n",
      "\u001b[1;32mc:\\Users\\Ed\\OneDrive - Johns Hopkins\\Desktop\\Adv_ML_Project\\RF.ipynb Cell 7'\u001b[0m in \u001b[0;36mwrite_results\u001b[1;34m(cv, label)\u001b[0m\n\u001b[0;32m     <a href='vscode-notebook-cell:/c%3A/Users/Ed/OneDrive%20-%20Johns%20Hopkins/Desktop/Adv_ML_Project/RF.ipynb#ch0000007?line=14'>15</a>\u001b[0m results[\u001b[39m'\u001b[39m\u001b[39mparam_clf\u001b[39m\u001b[39m'\u001b[39m] \u001b[39m=\u001b[39m results[\u001b[39m'\u001b[39m\u001b[39mparam_clf\u001b[39m\u001b[39m'\u001b[39m]\u001b[39m.\u001b[39mapply(\u001b[39mlambda\u001b[39;00m c: \u001b[39mtype\u001b[39m(c)\u001b[39m.\u001b[39m\u001b[39m__name__\u001b[39m)\n\u001b[0;32m     <a href='vscode-notebook-cell:/c%3A/Users/Ed/OneDrive%20-%20Johns%20Hopkins/Desktop/Adv_ML_Project/RF.ipynb#ch0000007?line=15'>16</a>\u001b[0m results \u001b[39m=\u001b[39m results\u001b[39m.\u001b[39msort_values([\u001b[39m'\u001b[39m\u001b[39mparam_clf\u001b[39m\u001b[39m'\u001b[39m, \u001b[39m'\u001b[39m\u001b[39mmean_test_cohens_kappa\u001b[39m\u001b[39m'\u001b[39m],\n\u001b[0;32m     <a href='vscode-notebook-cell:/c%3A/Users/Ed/OneDrive%20-%20Johns%20Hopkins/Desktop/Adv_ML_Project/RF.ipynb#ch0000007?line=16'>17</a>\u001b[0m                             ascending\u001b[39m=\u001b[39m\u001b[39mFalse\u001b[39;00m, ignore_index \u001b[39m=\u001b[39m \u001b[39mTrue\u001b[39;00m)\n\u001b[1;32m---> <a href='vscode-notebook-cell:/c%3A/Users/Ed/OneDrive%20-%20Johns%20Hopkins/Desktop/Adv_ML_Project/RF.ipynb#ch0000007?line=18'>19</a>\u001b[0m results \u001b[39m=\u001b[39m results[front_cols \u001b[39m+\u001b[39m results\u001b[39m.\u001b[39;49mdrop(front_cols, axis\u001b[39m=\u001b[39;49m\u001b[39m1\u001b[39;49m)\u001b[39m.\u001b[39mcolumns\u001b[39m.\u001b[39mtolist()]\n\u001b[0;32m     <a href='vscode-notebook-cell:/c%3A/Users/Ed/OneDrive%20-%20Johns%20Hopkins/Desktop/Adv_ML_Project/RF.ipynb#ch0000007?line=20'>21</a>\u001b[0m \u001b[39m# All Results\u001b[39;00m\n\u001b[0;32m     <a href='vscode-notebook-cell:/c%3A/Users/Ed/OneDrive%20-%20Johns%20Hopkins/Desktop/Adv_ML_Project/RF.ipynb#ch0000007?line=21'>22</a>\u001b[0m results\u001b[39m.\u001b[39mto_csv(\u001b[39mf\u001b[39m\u001b[39m\"\u001b[39m\u001b[39mreport/\u001b[39m\u001b[39m{\u001b[39;00mlabel\u001b[39m}\u001b[39;00m\u001b[39m_all.csv\u001b[39m\u001b[39m\"\u001b[39m, index\u001b[39m=\u001b[39m\u001b[39mFalse\u001b[39;00m)\n",
      "File \u001b[1;32m~\\anaconda3\\envs\\proj\\lib\\site-packages\\pandas\\util\\_decorators.py:311\u001b[0m, in \u001b[0;36mdeprecate_nonkeyword_arguments.<locals>.decorate.<locals>.wrapper\u001b[1;34m(*args, **kwargs)\u001b[0m\n\u001b[0;32m    <a href='file:///c%3A/Users/Ed/anaconda3/envs/proj/lib/site-packages/pandas/util/_decorators.py?line=304'>305</a>\u001b[0m \u001b[39mif\u001b[39;00m \u001b[39mlen\u001b[39m(args) \u001b[39m>\u001b[39m num_allow_args:\n\u001b[0;32m    <a href='file:///c%3A/Users/Ed/anaconda3/envs/proj/lib/site-packages/pandas/util/_decorators.py?line=305'>306</a>\u001b[0m     warnings\u001b[39m.\u001b[39mwarn(\n\u001b[0;32m    <a href='file:///c%3A/Users/Ed/anaconda3/envs/proj/lib/site-packages/pandas/util/_decorators.py?line=306'>307</a>\u001b[0m         msg\u001b[39m.\u001b[39mformat(arguments\u001b[39m=\u001b[39marguments),\n\u001b[0;32m    <a href='file:///c%3A/Users/Ed/anaconda3/envs/proj/lib/site-packages/pandas/util/_decorators.py?line=307'>308</a>\u001b[0m         \u001b[39mFutureWarning\u001b[39;00m,\n\u001b[0;32m    <a href='file:///c%3A/Users/Ed/anaconda3/envs/proj/lib/site-packages/pandas/util/_decorators.py?line=308'>309</a>\u001b[0m         stacklevel\u001b[39m=\u001b[39mstacklevel,\n\u001b[0;32m    <a href='file:///c%3A/Users/Ed/anaconda3/envs/proj/lib/site-packages/pandas/util/_decorators.py?line=309'>310</a>\u001b[0m     )\n\u001b[1;32m--> <a href='file:///c%3A/Users/Ed/anaconda3/envs/proj/lib/site-packages/pandas/util/_decorators.py?line=310'>311</a>\u001b[0m \u001b[39mreturn\u001b[39;00m func(\u001b[39m*\u001b[39;49margs, \u001b[39m*\u001b[39;49m\u001b[39m*\u001b[39;49mkwargs)\n",
      "File \u001b[1;32m~\\anaconda3\\envs\\proj\\lib\\site-packages\\pandas\\core\\frame.py:4948\u001b[0m, in \u001b[0;36mDataFrame.drop\u001b[1;34m(self, labels, axis, index, columns, level, inplace, errors)\u001b[0m\n\u001b[0;32m   <a href='file:///c%3A/Users/Ed/anaconda3/envs/proj/lib/site-packages/pandas/core/frame.py?line=4799'>4800</a>\u001b[0m \u001b[39m@deprecate_nonkeyword_arguments\u001b[39m(version\u001b[39m=\u001b[39m\u001b[39mNone\u001b[39;00m, allowed_args\u001b[39m=\u001b[39m[\u001b[39m\"\u001b[39m\u001b[39mself\u001b[39m\u001b[39m\"\u001b[39m, \u001b[39m\"\u001b[39m\u001b[39mlabels\u001b[39m\u001b[39m\"\u001b[39m])\n\u001b[0;32m   <a href='file:///c%3A/Users/Ed/anaconda3/envs/proj/lib/site-packages/pandas/core/frame.py?line=4800'>4801</a>\u001b[0m \u001b[39mdef\u001b[39;00m \u001b[39mdrop\u001b[39m(\n\u001b[0;32m   <a href='file:///c%3A/Users/Ed/anaconda3/envs/proj/lib/site-packages/pandas/core/frame.py?line=4801'>4802</a>\u001b[0m     \u001b[39mself\u001b[39m,\n\u001b[1;32m   (...)\u001b[0m\n\u001b[0;32m   <a href='file:///c%3A/Users/Ed/anaconda3/envs/proj/lib/site-packages/pandas/core/frame.py?line=4808'>4809</a>\u001b[0m     errors: \u001b[39mstr\u001b[39m \u001b[39m=\u001b[39m \u001b[39m\"\u001b[39m\u001b[39mraise\u001b[39m\u001b[39m\"\u001b[39m,\n\u001b[0;32m   <a href='file:///c%3A/Users/Ed/anaconda3/envs/proj/lib/site-packages/pandas/core/frame.py?line=4809'>4810</a>\u001b[0m ):\n\u001b[0;32m   <a href='file:///c%3A/Users/Ed/anaconda3/envs/proj/lib/site-packages/pandas/core/frame.py?line=4810'>4811</a>\u001b[0m     \u001b[39m\"\"\"\u001b[39;00m\n\u001b[0;32m   <a href='file:///c%3A/Users/Ed/anaconda3/envs/proj/lib/site-packages/pandas/core/frame.py?line=4811'>4812</a>\u001b[0m \u001b[39m    Drop specified labels from rows or columns.\u001b[39;00m\n\u001b[0;32m   <a href='file:///c%3A/Users/Ed/anaconda3/envs/proj/lib/site-packages/pandas/core/frame.py?line=4812'>4813</a>\u001b[0m \n\u001b[1;32m   (...)\u001b[0m\n\u001b[0;32m   <a href='file:///c%3A/Users/Ed/anaconda3/envs/proj/lib/site-packages/pandas/core/frame.py?line=4945'>4946</a>\u001b[0m \u001b[39m            weight  1.0     0.8\u001b[39;00m\n\u001b[0;32m   <a href='file:///c%3A/Users/Ed/anaconda3/envs/proj/lib/site-packages/pandas/core/frame.py?line=4946'>4947</a>\u001b[0m \u001b[39m    \"\"\"\u001b[39;00m\n\u001b[1;32m-> <a href='file:///c%3A/Users/Ed/anaconda3/envs/proj/lib/site-packages/pandas/core/frame.py?line=4947'>4948</a>\u001b[0m     \u001b[39mreturn\u001b[39;00m \u001b[39msuper\u001b[39;49m()\u001b[39m.\u001b[39;49mdrop(\n\u001b[0;32m   <a href='file:///c%3A/Users/Ed/anaconda3/envs/proj/lib/site-packages/pandas/core/frame.py?line=4948'>4949</a>\u001b[0m         labels\u001b[39m=\u001b[39;49mlabels,\n\u001b[0;32m   <a href='file:///c%3A/Users/Ed/anaconda3/envs/proj/lib/site-packages/pandas/core/frame.py?line=4949'>4950</a>\u001b[0m         axis\u001b[39m=\u001b[39;49maxis,\n\u001b[0;32m   <a href='file:///c%3A/Users/Ed/anaconda3/envs/proj/lib/site-packages/pandas/core/frame.py?line=4950'>4951</a>\u001b[0m         index\u001b[39m=\u001b[39;49mindex,\n\u001b[0;32m   <a href='file:///c%3A/Users/Ed/anaconda3/envs/proj/lib/site-packages/pandas/core/frame.py?line=4951'>4952</a>\u001b[0m         columns\u001b[39m=\u001b[39;49mcolumns,\n\u001b[0;32m   <a href='file:///c%3A/Users/Ed/anaconda3/envs/proj/lib/site-packages/pandas/core/frame.py?line=4952'>4953</a>\u001b[0m         level\u001b[39m=\u001b[39;49mlevel,\n\u001b[0;32m   <a href='file:///c%3A/Users/Ed/anaconda3/envs/proj/lib/site-packages/pandas/core/frame.py?line=4953'>4954</a>\u001b[0m         inplace\u001b[39m=\u001b[39;49minplace,\n\u001b[0;32m   <a href='file:///c%3A/Users/Ed/anaconda3/envs/proj/lib/site-packages/pandas/core/frame.py?line=4954'>4955</a>\u001b[0m         errors\u001b[39m=\u001b[39;49merrors,\n\u001b[0;32m   <a href='file:///c%3A/Users/Ed/anaconda3/envs/proj/lib/site-packages/pandas/core/frame.py?line=4955'>4956</a>\u001b[0m     )\n",
      "File \u001b[1;32m~\\anaconda3\\envs\\proj\\lib\\site-packages\\pandas\\core\\generic.py:4279\u001b[0m, in \u001b[0;36mNDFrame.drop\u001b[1;34m(self, labels, axis, index, columns, level, inplace, errors)\u001b[0m\n\u001b[0;32m   <a href='file:///c%3A/Users/Ed/anaconda3/envs/proj/lib/site-packages/pandas/core/generic.py?line=4276'>4277</a>\u001b[0m \u001b[39mfor\u001b[39;00m axis, labels \u001b[39min\u001b[39;00m axes\u001b[39m.\u001b[39mitems():\n\u001b[0;32m   <a href='file:///c%3A/Users/Ed/anaconda3/envs/proj/lib/site-packages/pandas/core/generic.py?line=4277'>4278</a>\u001b[0m     \u001b[39mif\u001b[39;00m labels \u001b[39mis\u001b[39;00m \u001b[39mnot\u001b[39;00m \u001b[39mNone\u001b[39;00m:\n\u001b[1;32m-> <a href='file:///c%3A/Users/Ed/anaconda3/envs/proj/lib/site-packages/pandas/core/generic.py?line=4278'>4279</a>\u001b[0m         obj \u001b[39m=\u001b[39m obj\u001b[39m.\u001b[39;49m_drop_axis(labels, axis, level\u001b[39m=\u001b[39;49mlevel, errors\u001b[39m=\u001b[39;49merrors)\n\u001b[0;32m   <a href='file:///c%3A/Users/Ed/anaconda3/envs/proj/lib/site-packages/pandas/core/generic.py?line=4280'>4281</a>\u001b[0m \u001b[39mif\u001b[39;00m inplace:\n\u001b[0;32m   <a href='file:///c%3A/Users/Ed/anaconda3/envs/proj/lib/site-packages/pandas/core/generic.py?line=4281'>4282</a>\u001b[0m     \u001b[39mself\u001b[39m\u001b[39m.\u001b[39m_update_inplace(obj)\n",
      "File \u001b[1;32m~\\anaconda3\\envs\\proj\\lib\\site-packages\\pandas\\core\\generic.py:4323\u001b[0m, in \u001b[0;36mNDFrame._drop_axis\u001b[1;34m(self, labels, axis, level, errors, consolidate, only_slice)\u001b[0m\n\u001b[0;32m   <a href='file:///c%3A/Users/Ed/anaconda3/envs/proj/lib/site-packages/pandas/core/generic.py?line=4320'>4321</a>\u001b[0m         new_axis \u001b[39m=\u001b[39m axis\u001b[39m.\u001b[39mdrop(labels, level\u001b[39m=\u001b[39mlevel, errors\u001b[39m=\u001b[39merrors)\n\u001b[0;32m   <a href='file:///c%3A/Users/Ed/anaconda3/envs/proj/lib/site-packages/pandas/core/generic.py?line=4321'>4322</a>\u001b[0m     \u001b[39melse\u001b[39;00m:\n\u001b[1;32m-> <a href='file:///c%3A/Users/Ed/anaconda3/envs/proj/lib/site-packages/pandas/core/generic.py?line=4322'>4323</a>\u001b[0m         new_axis \u001b[39m=\u001b[39m axis\u001b[39m.\u001b[39;49mdrop(labels, errors\u001b[39m=\u001b[39;49merrors)\n\u001b[0;32m   <a href='file:///c%3A/Users/Ed/anaconda3/envs/proj/lib/site-packages/pandas/core/generic.py?line=4323'>4324</a>\u001b[0m     indexer \u001b[39m=\u001b[39m axis\u001b[39m.\u001b[39mget_indexer(new_axis)\n\u001b[0;32m   <a href='file:///c%3A/Users/Ed/anaconda3/envs/proj/lib/site-packages/pandas/core/generic.py?line=4325'>4326</a>\u001b[0m \u001b[39m# Case for non-unique axis\u001b[39;00m\n\u001b[0;32m   <a href='file:///c%3A/Users/Ed/anaconda3/envs/proj/lib/site-packages/pandas/core/generic.py?line=4326'>4327</a>\u001b[0m \u001b[39melse\u001b[39;00m:\n",
      "File \u001b[1;32m~\\anaconda3\\envs\\proj\\lib\\site-packages\\pandas\\core\\indexes\\base.py:6644\u001b[0m, in \u001b[0;36mIndex.drop\u001b[1;34m(self, labels, errors)\u001b[0m\n\u001b[0;32m   <a href='file:///c%3A/Users/Ed/anaconda3/envs/proj/lib/site-packages/pandas/core/indexes/base.py?line=6641'>6642</a>\u001b[0m \u001b[39mif\u001b[39;00m mask\u001b[39m.\u001b[39many():\n\u001b[0;32m   <a href='file:///c%3A/Users/Ed/anaconda3/envs/proj/lib/site-packages/pandas/core/indexes/base.py?line=6642'>6643</a>\u001b[0m     \u001b[39mif\u001b[39;00m errors \u001b[39m!=\u001b[39m \u001b[39m\"\u001b[39m\u001b[39mignore\u001b[39m\u001b[39m\"\u001b[39m:\n\u001b[1;32m-> <a href='file:///c%3A/Users/Ed/anaconda3/envs/proj/lib/site-packages/pandas/core/indexes/base.py?line=6643'>6644</a>\u001b[0m         \u001b[39mraise\u001b[39;00m \u001b[39mKeyError\u001b[39;00m(\u001b[39mf\u001b[39m\u001b[39m\"\u001b[39m\u001b[39m{\u001b[39;00m\u001b[39mlist\u001b[39m(labels[mask])\u001b[39m}\u001b[39;00m\u001b[39m not found in axis\u001b[39m\u001b[39m\"\u001b[39m)\n\u001b[0;32m   <a href='file:///c%3A/Users/Ed/anaconda3/envs/proj/lib/site-packages/pandas/core/indexes/base.py?line=6644'>6645</a>\u001b[0m     indexer \u001b[39m=\u001b[39m indexer[\u001b[39m~\u001b[39mmask]\n\u001b[0;32m   <a href='file:///c%3A/Users/Ed/anaconda3/envs/proj/lib/site-packages/pandas/core/indexes/base.py?line=6645'>6646</a>\u001b[0m \u001b[39mreturn\u001b[39;00m \u001b[39mself\u001b[39m\u001b[39m.\u001b[39mdelete(indexer)\n",
      "\u001b[1;31mKeyError\u001b[0m: \"['param_clf__s'] not found in axis\""
     ]
    }
   ],
   "source": [
    "################################################################################\n",
    "################################################################################\n",
    "################################################################################\n",
    "# Fit the CVs\n",
    "for name, df in dfs.items():\n",
    "    if not os.path.exists(f\"report/{name}_all.csv\"):\n",
    "        start = time()\n",
    "        print(f\"Testing {name}\")\n",
    "        res = cv_base.fit(*df)\n",
    "        write_results(cv_base.fit(*df), name)\n",
    "        end = time()\n",
    "        print(f\"Finished {name} in {(end - start) / 60:.1f} mins\")\n",
    "    else:\n",
    "        print(f\"Skipping {name} as it has already been tested\")"
   ]
  }
 ],
 "metadata": {
  "interpreter": {
   "hash": "19a6b89429cc42f8a39b8068be6b3b06345d41f5c5dc4b805d424edbd3c294cc"
  },
  "kernelspec": {
   "display_name": "SPORF",
   "language": "python",
   "name": "python3"
  },
  "language_info": {
   "codemirror_mode": {
    "name": "ipython",
    "version": 3
   },
   "file_extension": ".py",
   "mimetype": "text/x-python",
   "name": "python",
   "nbconvert_exporter": "python",
   "pygments_lexer": "ipython3",
   "version": "3.8.12"
  }
 },
 "nbformat": 4,
 "nbformat_minor": 5
}
