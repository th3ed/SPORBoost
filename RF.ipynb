{
 "cells": [
  {
   "cell_type": "code",
   "execution_count": 1,
   "id": "3597138f-3be1-4461-a020-dba09287bb91",
   "metadata": {},
   "outputs": [],
   "source": [
    "import numpy as np\n",
    "from sklearn.datasets import load_iris\n",
    "from sporgboost.preprocessing import onehot_encode, shuffle\n",
    "from sporgboost.trees import AxisAlignedDecisionTree, SparseRandomDecisionTree as SPODT\n",
    "from sklearn.tree import DecisionTreeClassifier\n",
    "sktree = DecisionTreeClassifier()\n",
    "model = SPODT(d = 2, s = 3)"
   ]
  },
  {
   "cell_type": "code",
   "execution_count": 2,
   "id": "5c149194-7402-4486-90f2-f11a1d6323a6",
   "metadata": {},
   "outputs": [],
   "source": [
    "# Dataset for testing\n",
    "X, y = load_iris(return_X_y = True)\n",
    "\n",
    "# Set seed to be able to reproduce\n",
    "np.random.seed(1234)\n",
    "    \n",
    "# Preprocessing\n",
    "y = onehot_encode(y)\n",
    "X, y = shuffle(X, y)"
   ]
  },
  {
   "cell_type": "code",
   "execution_count": 7,
   "id": "4bf30d7a",
   "metadata": {},
   "outputs": [],
   "source": [
    "model.fit(X, y)"
   ]
  },
  {
   "cell_type": "code",
   "execution_count": 5,
   "id": "1357384f",
   "metadata": {},
   "outputs": [
    {
     "name": "stdout",
     "output_type": "stream",
     "text": [
      "CPU times: total: 31.2 ms\n",
      "Wall time: 1 ms\n"
     ]
    },
    {
     "data": {
      "text/plain": [
       "DecisionTreeClassifier()"
      ]
     },
     "execution_count": 5,
     "metadata": {},
     "output_type": "execute_result"
    }
   ],
   "source": [
    "%%time\n",
    "sktree.fit(X, y)"
   ]
  },
  {
   "cell_type": "code",
   "execution_count": 16,
   "id": "69d26805",
   "metadata": {},
   "outputs": [
    {
     "name": "stdout",
     "output_type": "stream",
     "text": [
      "307 µs ± 5.26 µs per loop (mean ± std. dev. of 7 runs, 1,000 loops each)\n"
     ]
    }
   ],
   "source": [
    "%timeit sktree.fit(X, y)"
   ]
  },
  {
   "cell_type": "code",
   "execution_count": 15,
   "id": "c9b19dee",
   "metadata": {},
   "outputs": [
    {
     "name": "stderr",
     "output_type": "stream",
     "text": [
      "c:\\Users\\Ed\\OneDrive - Johns Hopkins\\Desktop\\Adv_ML_Project\\sporgboost\\common\\_predict.py:13: NumbaPerformanceWarning: \u001b[1m\u001b[1m\u001b[1mnp.dot() is faster on contiguous arrays, called on (array(float64, 2d, C), array(float64, 2d, A))\u001b[0m\u001b[0m\u001b[0m\n",
      "  X_ = np.dot(X, tree.proj)\n"
     ]
    },
    {
     "name": "stdout",
     "output_type": "stream",
     "text": [
      "The slowest run took 4.33 times longer than the fastest. This could mean that an intermediate result is being cached.\n",
      "37.7 µs ± 26.1 µs per loop (mean ± std. dev. of 7 runs, 1 loop each)\n"
     ]
    }
   ],
   "source": [
    "%timeit model.predict(X)"
   ]
  },
  {
   "cell_type": "code",
   "execution_count": 6,
   "id": "1fe313ee",
   "metadata": {},
   "outputs": [
    {
     "name": "stdout",
     "output_type": "stream",
     "text": [
      "71.3 µs ± 851 ns per loop (mean ± std. dev. of 7 runs, 10,000 loops each)\n"
     ]
    }
   ],
   "source": [
    "%timeit sktree.predict(X)"
   ]
  },
  {
   "cell_type": "code",
   "execution_count": 8,
   "id": "8590a2c6",
   "metadata": {},
   "outputs": [
    {
     "name": "stderr",
     "output_type": "stream",
     "text": [
      "c:\\Users\\Ed\\OneDrive - Johns Hopkins\\Desktop\\Adv_ML_Project\\sporgboost\\common\\_predict.py:13: NumbaPerformanceWarning: \u001b[1m\u001b[1m\u001b[1mnp.dot() is faster on contiguous arrays, called on (array(float64, 2d, C), array(float64, 2d, A))\u001b[0m\u001b[0m\u001b[0m\n",
      "  X_ = np.dot(X, tree.proj)\n"
     ]
    },
    {
     "data": {
      "text/plain": [
       "True"
      ]
     },
     "execution_count": 8,
     "metadata": {},
     "output_type": "execute_result"
    }
   ],
   "source": [
    "np.all(model.predict(X) == sktree.predict(X))"
   ]
  }
 ],
 "metadata": {
  "kernelspec": {
   "display_name": "SPORF",
   "language": "python",
   "name": "sporf"
  },
  "language_info": {
   "codemirror_mode": {
    "name": "ipython",
    "version": 3
   },
   "file_extension": ".py",
   "mimetype": "text/x-python",
   "name": "python",
   "nbconvert_exporter": "python",
   "pygments_lexer": "ipython3",
   "version": "3.8.12"
  }
 },
 "nbformat": 4,
 "nbformat_minor": 5
}
