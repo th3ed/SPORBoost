{
 "cells": [
  {
   "cell_type": "code",
   "execution_count": 282,
   "id": "3597138f-3be1-4461-a020-dba09287bb91",
   "metadata": {},
   "outputs": [],
   "source": [
    "import numpy as np\n",
    "from sklearn.datasets import load_iris\n",
    "from sporgboost.preprocessing import onehot_encode, shuffle\n",
    "from sporgboost.forests import *\n",
    "from sklearn.metrics import roc_auc_score\n",
    "from get_data import load\n",
    "from sklearn.metrics import roc_auc_score"
   ]
  },
  {
   "cell_type": "code",
   "execution_count": 273,
   "id": "ee22695e",
   "metadata": {},
   "outputs": [],
   "source": [
    "X, y = load(\"data/statlog_shuttle.parquet\")"
   ]
  },
  {
   "cell_type": "code",
   "execution_count": 277,
   "id": "5bc55052",
   "metadata": {},
   "outputs": [],
   "source": [
    "from sklearn.model_selection import train_test_split\n",
    "X_train, X_test, y_train, y_test = train_test_split(X, y, train_size=0.2, random_state=1234)"
   ]
  },
  {
   "cell_type": "code",
   "execution_count": 287,
   "id": "f8e5cedd",
   "metadata": {},
   "outputs": [],
   "source": [
    "models = {\n",
    "    'rf' : RandomForest(),\n",
    "    'ab' : AdaBoost(),\n",
    "    'sporf' : SPORF(d=2, s=3),\n",
    "    'sporgboost' : SPORGBoost(d=2, s=3),\n",
    "    'rrf' : RotationalRandomForest(K=2),\n",
    "    'rotboost' : RotBoost(K=2)\n",
    "}\n",
    "\n",
    "# _ = [m.fit(X_train, y_train) for m in models.values()]\n",
    "models['rf'].fit(X_train, y_train)\n"
   ]
  },
  {
   "cell_type": "code",
   "execution_count": 291,
   "id": "7801e626",
   "metadata": {},
   "outputs": [],
   "source": [
    "models['sporgboost'].fit(X_train, y_train)"
   ]
  },
  {
   "cell_type": "code",
   "execution_count": 288,
   "id": "6ce4bcc6",
   "metadata": {},
   "outputs": [
    {
     "data": {
      "text/plain": [
       "0.9441125371674879"
      ]
     },
     "execution_count": 288,
     "metadata": {},
     "output_type": "execute_result"
    }
   ],
   "source": [
    "roc_auc_score(y_test, models['rf'].predict_proba(X_test), multi_class='ovo')"
   ]
  },
  {
   "cell_type": "code",
   "execution_count": 290,
   "id": "1e6be43b",
   "metadata": {},
   "outputs": [
    {
     "data": {
      "text/plain": [
       "0.9997504144314829"
      ]
     },
     "execution_count": 290,
     "metadata": {},
     "output_type": "execute_result"
    }
   ],
   "source": [
    "roc_auc_score(y_test, models['ab'].predict_proba(X_test), multi_class='ovo')"
   ]
  },
  {
   "cell_type": "code",
   "execution_count": 292,
   "id": "421daa1e",
   "metadata": {},
   "outputs": [
    {
     "data": {
      "text/plain": [
       "0.9995113272916554"
      ]
     },
     "execution_count": 292,
     "metadata": {},
     "output_type": "execute_result"
    }
   ],
   "source": [
    "roc_auc_score(y_test, models['sporgboost'].predict_proba(X_test), multi_class='ovo')"
   ]
  },
  {
   "cell_type": "code",
   "execution_count": 15,
   "id": "9a9cba46",
   "metadata": {},
   "outputs": [
    {
     "name": "stdout",
     "output_type": "stream",
     "text": [
      "1.03 s ± 4.84 ms per loop (mean ± std. dev. of 7 runs, 1 loop each)\n"
     ]
    }
   ],
   "source": [
    "%timeit _ = [m.fit(X_train, y_train) for m in models.values()]"
   ]
  },
  {
   "cell_type": "code",
   "execution_count": 13,
   "id": "90b45409",
   "metadata": {},
   "outputs": [
    {
     "data": {
      "text/plain": [
       "{'rf': 0.998799148408656,\n",
       " 'ab': 0.978074217802571,\n",
       " 'sporf': 1.0,\n",
       " 'sporgboost': 1.0,\n",
       " 'rrf': 1.0,\n",
       " 'rotboost': 0.9915940388605923}"
      ]
     },
     "execution_count": 13,
     "metadata": {},
     "output_type": "execute_result"
    }
   ],
   "source": [
    "# Get AUC scores\n",
    "auc = {key : roc_auc_score(y_test, model.predict_proba(X_test), multi_class='ovo') for key, model in models.items()}\n",
    "auc"
   ]
  }
 ],
 "metadata": {
  "kernelspec": {
   "display_name": "SPORF",
   "language": "python",
   "name": "sporf"
  },
  "language_info": {
   "codemirror_mode": {
    "name": "ipython",
    "version": 3
   },
   "file_extension": ".py",
   "mimetype": "text/x-python",
   "name": "python",
   "nbconvert_exporter": "python",
   "pygments_lexer": "ipython3",
   "version": "3.8.12"
  }
 },
 "nbformat": 4,
 "nbformat_minor": 5
}
