{
 "cells": [
  {
   "cell_type": "code",
   "execution_count": 1,
   "id": "3597138f-3be1-4461-a020-dba09287bb91",
   "metadata": {},
   "outputs": [],
   "source": [
    "import numpy as np\n",
    "from sklearn.datasets import load_iris\n",
    "from sporgboost.preprocessing import onehot_encode, shuffle\n",
    "from sporgboost.trees import AxisAlignedDecisionTree, SparseRandomDecisionTree as SPODT\n",
    "from sklearn.tree import DecisionTreeClassifier\n",
    "sktree = DecisionTreeClassifier()\n",
    "model = SPODT(d = 2, s = 3)"
   ]
  },
  {
   "cell_type": "code",
   "execution_count": 2,
   "id": "5c149194-7402-4486-90f2-f11a1d6323a6",
   "metadata": {},
   "outputs": [],
   "source": [
    "# Dataset for testing\n",
    "X, y = load_iris(return_X_y = True)\n",
    "\n",
    "# Set seed to be able to reproduce\n",
    "np.random.seed(1234)\n",
    "    \n",
    "# Preprocessing\n",
    "y = onehot_encode(y)\n",
    "X, y = shuffle(X, y)"
   ]
  },
  {
   "cell_type": "code",
   "execution_count": 201,
   "id": "91689ba1",
   "metadata": {},
   "outputs": [
    {
     "data": {
      "text/plain": [
       "<numba.experimental.jitclass.boxing.Node at 0x1e53b73e940>"
      ]
     },
     "execution_count": 201,
     "metadata": {},
     "output_type": "execute_result"
    }
   ],
   "source": [
    "from sporgboost.projections import identity, sparse_random\n",
    "from numba import njit, prange, deferred_type, optional, uint32, float64\n",
    "from numba.experimental import jitclass\n",
    "from sporgboost.common import best_split, gini_impurity\n",
    "from sporgboost.utils import row_mean\n",
    "\n",
    "node_type = deferred_type()\n",
    "\n",
    "# Node needs to be explicitly included in each tree type for numba\n",
    "# to properly compile\n",
    "@jitclass([\n",
    "    ('value', optional(float64[:,:])),\n",
    "    ('left', optional(node_type)),\n",
    "    ('right', optional(node_type)),\n",
    "    ('proj', optional(float64[:,:])),\n",
    "    ('split', optional(float64))\n",
    "])\n",
    "class Node():\n",
    "    def __init__(self):\n",
    "        self.value = None\n",
    "        self.left = None\n",
    "        self.right = None\n",
    "        self.proj = None\n",
    "        self.split = None\n",
    "\n",
    "    def is_leaf(self):\n",
    "        return self.left is None and self.right is None\n",
    "\n",
    "    def init_children(self):\n",
    "        self.left = Node()\n",
    "        self.right = Node()\n",
    "        \n",
    "node_type.define(Node.class_type.instance_type)\n",
    "\n",
    "# @njit(parallel = False)\n",
    "def fit(X, y, max_depth = 8):\n",
    "    # Initialize root of tree\n",
    "    root = Node()\n",
    "\n",
    "    # Each piece of work contains a pointer to \n",
    "    # the node being processed and the index positions\n",
    "    # of obs at that node\n",
    "    nodes = [(root, np.arange(0, X.shape[0]))]\n",
    "\n",
    "    depth = 0\n",
    "    start = 0\n",
    "    end = 1\n",
    "    while (depth < max_depth) and ((end - start) > 0):\n",
    "        # Parallel loop over all nodes to be processed\n",
    "        for node_idx in prange(start, end):\n",
    "            # Get node and asociated obs\n",
    "            node, idx = nodes[node_idx]\n",
    "            X_, y_ = X[idx, :], y[idx, :]\n",
    "\n",
    "            # Step 1: Check if node is a leaf\n",
    "            node.value = row_mean(y_).reshape((1, -1))\n",
    "            if gini_impurity(node.value) == 0:\n",
    "                continue\n",
    "\n",
    "            # Step 2: If node is not a leaf, find a split\n",
    "            # Project data based on function\n",
    "            A = identity(X)\n",
    "            X_proj = X_ @ A\n",
    "\n",
    "            # Evaluate each col and candidate split\n",
    "            col, node.split = best_split(X_proj, y_)\n",
    "            node.proj = A[col, :].reshape((-1, 1))\n",
    "\n",
    "            # Initalize children and add to the next iteration to be processed\n",
    "            node.init_children()\n",
    "\n",
    "            # Get idx arrays for the split\n",
    "            le = X_proj[:, col] <= node.split\n",
    "\n",
    "            nodes.append((node.left, idx[le]))\n",
    "            nodes.append((node.right, idx[~le]))\n",
    "        \n",
    "        # Once new nodes have been added, increment the index and continue adding nodes if needed\n",
    "        nodes_processed_in_round = end - start\n",
    "        start += nodes_processed_in_round\n",
    "        end += nodes_processed_in_round\n",
    "        depth += 1\n",
    "    return root\n",
    "\n",
    "t = fit(X, y)\n",
    "t"
   ]
  },
  {
   "cell_type": "code",
   "execution_count": 202,
   "id": "fa2e6d23",
   "metadata": {},
   "outputs": [
    {
     "name": "stdout",
     "output_type": "stream",
     "text": [
      "1.57 ms ± 17.7 µs per loop (mean ± std. dev. of 7 runs, 1,000 loops each)\n"
     ]
    }
   ],
   "source": [
    "%timeit fit(X, y)"
   ]
  },
  {
   "cell_type": "code",
   "execution_count": 191,
   "id": "1357384f",
   "metadata": {},
   "outputs": [
    {
     "name": "stdout",
     "output_type": "stream",
     "text": [
      "333 µs ± 8.34 µs per loop (mean ± std. dev. of 7 runs, 1,000 loops each)\n"
     ]
    }
   ],
   "source": [
    "%timeit sktree.fit(X, y)"
   ]
  },
  {
   "cell_type": "code",
   "execution_count": 16,
   "id": "69d26805",
   "metadata": {},
   "outputs": [
    {
     "name": "stdout",
     "output_type": "stream",
     "text": [
      "307 µs ± 5.26 µs per loop (mean ± std. dev. of 7 runs, 1,000 loops each)\n"
     ]
    }
   ],
   "source": [
    "%timeit sktree.fit(X, y)"
   ]
  },
  {
   "cell_type": "code",
   "execution_count": 15,
   "id": "c9b19dee",
   "metadata": {},
   "outputs": [
    {
     "name": "stderr",
     "output_type": "stream",
     "text": [
      "c:\\Users\\Ed\\OneDrive - Johns Hopkins\\Desktop\\Adv_ML_Project\\sporgboost\\common\\_predict.py:13: NumbaPerformanceWarning: \u001b[1m\u001b[1m\u001b[1mnp.dot() is faster on contiguous arrays, called on (array(float64, 2d, C), array(float64, 2d, A))\u001b[0m\u001b[0m\u001b[0m\n",
      "  X_ = np.dot(X, tree.proj)\n"
     ]
    },
    {
     "name": "stdout",
     "output_type": "stream",
     "text": [
      "The slowest run took 4.33 times longer than the fastest. This could mean that an intermediate result is being cached.\n",
      "37.7 µs ± 26.1 µs per loop (mean ± std. dev. of 7 runs, 1 loop each)\n"
     ]
    }
   ],
   "source": [
    "%timeit model.predict(X)"
   ]
  },
  {
   "cell_type": "code",
   "execution_count": 6,
   "id": "1fe313ee",
   "metadata": {},
   "outputs": [
    {
     "name": "stdout",
     "output_type": "stream",
     "text": [
      "71.3 µs ± 851 ns per loop (mean ± std. dev. of 7 runs, 10,000 loops each)\n"
     ]
    }
   ],
   "source": [
    "%timeit sktree.predict(X)"
   ]
  },
  {
   "cell_type": "code",
   "execution_count": 8,
   "id": "8590a2c6",
   "metadata": {},
   "outputs": [
    {
     "name": "stderr",
     "output_type": "stream",
     "text": [
      "c:\\Users\\Ed\\OneDrive - Johns Hopkins\\Desktop\\Adv_ML_Project\\sporgboost\\common\\_predict.py:13: NumbaPerformanceWarning: \u001b[1m\u001b[1m\u001b[1mnp.dot() is faster on contiguous arrays, called on (array(float64, 2d, C), array(float64, 2d, A))\u001b[0m\u001b[0m\u001b[0m\n",
      "  X_ = np.dot(X, tree.proj)\n"
     ]
    },
    {
     "data": {
      "text/plain": [
       "True"
      ]
     },
     "execution_count": 8,
     "metadata": {},
     "output_type": "execute_result"
    }
   ],
   "source": [
    "np.all(model.predict(X) == sktree.predict(X))"
   ]
  }
 ],
 "metadata": {
  "kernelspec": {
   "display_name": "SPORF",
   "language": "python",
   "name": "sporf"
  },
  "language_info": {
   "codemirror_mode": {
    "name": "ipython",
    "version": 3
   },
   "file_extension": ".py",
   "mimetype": "text/x-python",
   "name": "python",
   "nbconvert_exporter": "python",
   "pygments_lexer": "ipython3",
   "version": "3.8.12"
  }
 },
 "nbformat": 4,
 "nbformat_minor": 5
}
