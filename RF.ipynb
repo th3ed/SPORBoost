{
 "cells": [
  {
   "cell_type": "code",
   "execution_count": 1,
   "id": "3ca80c99-f3b1-48cf-8b01-c7544605905f",
   "metadata": {},
   "outputs": [],
   "source": [
    "import numpy as np\n",
    "from sklearn.datasets import load_iris"
   ]
  },
  {
   "cell_type": "code",
   "execution_count": 2,
   "id": "3597138f-3be1-4461-a020-dba09287bb91",
   "metadata": {},
   "outputs": [],
   "source": [
    "from sporgboost.preprocessing import onehot_encode, shuffle\n",
    "from sporgboost.common import find_split"
   ]
  },
  {
   "cell_type": "code",
   "execution_count": 3,
   "id": "5c149194-7402-4486-90f2-f11a1d6323a6",
   "metadata": {},
   "outputs": [],
   "source": [
    "# Dataset for testing\n",
    "X, y = load_iris(return_X_y = True)\n",
    "\n",
    "# Set seed to be able to reproduce\n",
    "np.random.seed(1234)\n",
    "    \n",
    "# Preprocessing\n",
    "y = onehot_encode(y)\n",
    "X, y = shuffle(X, y)"
   ]
  },
  {
   "cell_type": "code",
   "execution_count": 4,
   "id": "9905bda2",
   "metadata": {},
   "outputs": [],
   "source": [
    "from sporgboost.projections import Identity\n",
    "from sklearn.base import BaseEstimator\n",
    "class DecisionTree(BaseEstimator):\n",
    "    def __init__(self, base_projection = Identity):\n",
    "        self.base_projection = base_projection\n",
    "    \n",
    "    def fit(self, X, y):\n",
    "        pass"
   ]
  },
  {
   "cell_type": "code",
   "execution_count": 5,
   "id": "929a687c",
   "metadata": {},
   "outputs": [],
   "source": [
    "from sporgboost.projections import SparseRandom\n",
    "sr = SparseRandom(p = 4, d = 4)\n",
    "\n",
    "sr.select(2)"
   ]
  },
  {
   "cell_type": "code",
   "execution_count": 12,
   "id": "cba091cb",
   "metadata": {},
   "outputs": [
    {
     "data": {
      "text/plain": [
       "array([4.6, 4.7, 5.6, 1.4, 3.9, 1.6, 1.5, 1.2, 4.1, 6.7, 3.9, 1.3, 6.7,\n",
       "       4.2, 1.6, 3.5, 6. , 1.6, 5.8, 4.2, 4.3, 4.6, 4.5, 4.7, 6.1, 1.5,\n",
       "       4.9, 4. , 5.9, 1.6, 3. , 4.8, 1.3, 5.1, 5. , 1.9, 1.4, 1.7, 1. ,\n",
       "       3.3, 1.3, 4.5, 1.5, 5.1, 6. , 1.5, 5.1, 5.2, 6.1, 5.6, 1.4, 5.2,\n",
       "       6.6, 4.3, 3.3, 3.6, 4.5, 4.9, 4.6, 1.4, 1.5, 6.1, 5. , 5.1, 1.5,\n",
       "       1.4, 1.4, 5. , 4. , 5.6, 5.7, 4.5, 1.4, 5.3, 1.5, 6.4, 1.5, 4.5,\n",
       "       4.1, 1.7, 4.1, 1.5, 5.4, 5.6, 4.8, 4.5, 1.7, 1.4, 5.1, 5.1, 4.4,\n",
       "       1.9, 4.7, 5.8, 4.8, 4.7, 4.9, 1.3, 1.3, 1.4, 4.5, 4. , 1.5, 5.1,\n",
       "       4.2, 5.5, 5.1, 4.2, 1.1, 4.4, 5. , 1.4, 1.6, 5.4, 4.5, 3.5, 4. ,\n",
       "       4.9, 1.2, 3.7, 6.3, 5.3, 5.8, 4.4, 1.4, 1.5, 1.3, 1.5, 5.6, 4.4,\n",
       "       5.6, 1.5, 1.4, 4.8, 4.7, 4.9, 3.8, 3.9, 5.5, 5.7, 6.9, 1.6, 5.7,\n",
       "       1.6, 1.7, 5.9, 5.5, 4. , 1.3, 1.4])"
      ]
     },
     "execution_count": 12,
     "metadata": {},
     "output_type": "execute_result"
    }
   ],
   "source": [
    "i = Identity()\n",
    "i.select(2)\n",
    "i.transform(X)"
   ]
  },
  {
   "cell_type": "code",
   "execution_count": 7,
   "id": "c5da8447",
   "metadata": {},
   "outputs": [
    {
     "data": {
      "text/plain": [
       "(150,)"
      ]
     },
     "execution_count": 7,
     "metadata": {},
     "output_type": "execute_result"
    }
   ],
   "source": [
    "sr.transform(X).shape"
   ]
  },
  {
   "cell_type": "code",
   "execution_count": 8,
   "id": "ef18e9c3-a75a-43ad-9bdb-a305425e5bb0",
   "metadata": {},
   "outputs": [
    {
     "name": "stdout",
     "output_type": "stream",
     "text": [
      "(5.4, 0.4389063317634746)\n",
      "(3.3, 0.5330513784461153)\n",
      "(1.9, 0.33333333333333337)\n",
      "(0.6, 0.33333333333333337)\n"
     ]
    }
   ],
   "source": [
    "for i in range(0, 4):\n",
    "    print(find_split(X[:, i], y))"
   ]
  }
 ],
 "metadata": {
  "kernelspec": {
   "display_name": "Python 3 (ipykernel)",
   "language": "python",
   "name": "python3"
  },
  "language_info": {
   "codemirror_mode": {
    "name": "ipython",
    "version": 3
   },
   "file_extension": ".py",
   "mimetype": "text/x-python",
   "name": "python",
   "nbconvert_exporter": "python",
   "pygments_lexer": "ipython3",
   "version": "3.8.8"
  }
 },
 "nbformat": 4,
 "nbformat_minor": 5
}
