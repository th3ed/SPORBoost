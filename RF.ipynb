{
 "cells": [
  {
   "cell_type": "code",
   "execution_count": 282,
   "id": "3597138f-3be1-4461-a020-dba09287bb91",
   "metadata": {},
   "outputs": [],
   "source": [
    "import numpy as np\n",
    "from sklearn.datasets import load_iris\n",
    "from sporgboost.preprocessing import onehot_encode, shuffle\n",
    "from sporgboost.forests import *\n",
    "from sklearn.metrics import roc_auc_score\n",
    "from get_data import load\n",
    "from sklearn.metrics import roc_auc_score"
   ]
  },
  {
   "cell_type": "code",
   "execution_count": 293,
   "id": "ee22695e",
   "metadata": {},
   "outputs": [],
   "source": [
    "X, y = load(\"data/iris.parquet\")"
   ]
  },
  {
   "cell_type": "code",
   "execution_count": 294,
   "id": "5bc55052",
   "metadata": {},
   "outputs": [],
   "source": [
    "from sklearn.model_selection import train_test_split\n",
    "X_train, X_test, y_train, y_test = train_test_split(X, y, train_size=0.2, random_state=1234)"
   ]
  },
  {
   "cell_type": "code",
   "execution_count": 295,
   "id": "f8e5cedd",
   "metadata": {},
   "outputs": [],
   "source": [
    "models = {\n",
    "    'rf' : RandomForest(),\n",
    "    'ab' : AdaBoost(),\n",
    "    'sporf' : SPORF(d=2, s=3),\n",
    "    'sporgboost' : SPORGBoost(d=2, s=3),\n",
    "    'rrf' : RotationalRandomForest(K=2),\n",
    "    'rotboost' : RotBoost(K=2)\n",
    "}\n",
    "\n",
    "_ = [m.fit(X_train, y_train) for m in models.values()]\n"
   ]
  },
  {
   "cell_type": "code",
   "execution_count": 296,
   "id": "90b45409",
   "metadata": {},
   "outputs": [
    {
     "data": {
      "text/plain": [
       "{'rf': 0.9852475804837212,\n",
       " 'ab': 0.9472484096592225,\n",
       " 'sporf': 0.9961490380930927,\n",
       " 'sporgboost': 0.9730151094489692,\n",
       " 'rrf': 0.9951296924309433,\n",
       " 'rotboost': 0.9461816183836067}"
      ]
     },
     "execution_count": 296,
     "metadata": {},
     "output_type": "execute_result"
    }
   ],
   "source": [
    "# Get AUC scores\n",
    "auc = {key : roc_auc_score(y_test, model.predict_proba(X_test), multi_class='ovo') for key, model in models.items()}\n",
    "auc"
   ]
  }
 ],
 "metadata": {
  "kernelspec": {
   "display_name": "SPORF",
   "language": "python",
   "name": "sporf"
  },
  "language_info": {
   "codemirror_mode": {
    "name": "ipython",
    "version": 3
   },
   "file_extension": ".py",
   "mimetype": "text/x-python",
   "name": "python",
   "nbconvert_exporter": "python",
   "pygments_lexer": "ipython3",
   "version": "3.8.12"
  }
 },
 "nbformat": 4,
 "nbformat_minor": 5
}
