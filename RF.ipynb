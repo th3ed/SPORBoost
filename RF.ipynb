{
 "cells": [
  {
   "cell_type": "code",
   "execution_count": 1,
   "id": "3597138f-3be1-4461-a020-dba09287bb91",
   "metadata": {},
   "outputs": [],
   "source": [
    "from sporboost.forest import *\n",
    "from get_data import load\n",
    "from sklearn.metrics import roc_auc_score\n",
    "from sklearn.datasets import load_iris\n",
    "# X, y = load(\"data/sparse_parity.parquet\")\n",
    "X, y = load_iris(return_X_y=True)\n",
    "# y_ = y\n",
    "# y = onehot_encode(y)"
   ]
  },
  {
   "cell_type": "code",
   "execution_count": 2,
   "id": "8af275e9",
   "metadata": {},
   "outputs": [],
   "source": [
    "from sklearn.model_selection import GridSearchCV, StratifiedKFold\n",
    "from functools import partial\n",
    "import pandas as pd\n",
    "\n",
    "# indicies for kfold validation\n",
    "kfold = StratifiedKFold(n_splits=10, shuffle=True, random_state=20220329)\n",
    "\n",
    "cv_func = partial(GridSearchCV, cv=kfold, verbose=3, n_jobs=-1, return_train_score=True)\n",
    "\n",
    "# Hyperparameter searches\n",
    "p = X.shape[1]\n",
    "cv = {\n",
    "    'rf' : cv_func(estimator = RandomForest(), param_grid={'max_depth' : [10]}),\n",
    "    'ada' : cv_func(estimator = AdaBoost(), param_grid={'max_depth' : [1, 2]}),\n",
    "    'sporf' : cv_func(estimator = SPORF(), param_grid={'max_depth' : [10],\n",
    "                                                       'd' : [p // 2, p],\n",
    "                                                       's' : [3, 4]\n",
    "                                                       }),\n",
    "    'sporboost' : cv_func(estimator = SPORBoost(),\n",
    "                          param_grid={'max_depth' : [1, 2],\n",
    "                                      'd' : [p // 2, p],\n",
    "                                      's' : [3, 4]\n",
    "                                      }),\n",
    "    'rrf' : cv_func(estimator = RotationalForest(),\n",
    "                    param_grid={'max_depth' : [10], 'K' : [2, 3]\n",
    "                    }),\n",
    "    'rotboost' : cv_func(estimator = RotationalForest(),\n",
    "                         param_grid={'max_depth' : [1, 2],\n",
    "                                     'K' : [2, 3]\n",
    "                         }),       \n",
    "}"
   ]
  },
  {
   "cell_type": "code",
   "execution_count": 3,
   "id": "31f61781",
   "metadata": {},
   "outputs": [
    {
     "name": "stdout",
     "output_type": "stream",
     "text": [
      "Fitting 10 folds for each of 1 candidates, totalling 10 fits\n",
      "Fitting 10 folds for each of 2 candidates, totalling 20 fits\n",
      "Fitting 10 folds for each of 4 candidates, totalling 40 fits\n",
      "Fitting 10 folds for each of 8 candidates, totalling 80 fits\n",
      "Fitting 10 folds for each of 2 candidates, totalling 20 fits\n",
      "Fitting 10 folds for each of 4 candidates, totalling 40 fits\n"
     ]
    }
   ],
   "source": [
    "# Perform fitting and evaluation\n",
    "_ = {k : m.fit(X, y) for k, m in cv.items()}"
   ]
  },
  {
   "cell_type": "code",
   "execution_count": 47,
   "id": "53048c77",
   "metadata": {},
   "outputs": [],
   "source": [
    "# Combine results into a single dataframe\n",
    "results = pd.concat({k : pd.DataFrame(m.cv_results_) for k, m in cv.items()})\n",
    "\n",
    "# Sort results within each group\n",
    "results = results.reset_index(drop=False) \\\n",
    ".rename(columns={'level_0' : 'classifier'}) \\\n",
    ".drop(['level_1'], axis=1) \\\n",
    ".sort_values(['classifier', 'mean_test_score'], ascending=False) \\\n",
    ".reset_index(drop=True)\n",
    "results.to_csv(\"report/iris.csv\")"
   ]
  }
 ],
 "metadata": {
  "interpreter": {
   "hash": "19a6b89429cc42f8a39b8068be6b3b06345d41f5c5dc4b805d424edbd3c294cc"
  },
  "kernelspec": {
   "display_name": "SPORF",
   "language": "python",
   "name": "python3"
  },
  "language_info": {
   "codemirror_mode": {
    "name": "ipython",
    "version": 3
   },
   "file_extension": ".py",
   "mimetype": "text/x-python",
   "name": "python",
   "nbconvert_exporter": "python",
   "pygments_lexer": "ipython3",
   "version": "3.8.12"
  }
 },
 "nbformat": 4,
 "nbformat_minor": 5
}
