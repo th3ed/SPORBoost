{
 "cells": [
  {
   "cell_type": "code",
   "execution_count": 1,
   "id": "3597138f-3be1-4461-a020-dba09287bb91",
   "metadata": {},
   "outputs": [
    {
     "name": "stdout",
     "output_type": "stream",
     "text": [
      "The Zen of Python, by Tim Peters\n",
      "\n",
      "Beautiful is better than ugly.\n",
      "Explicit is better than implicit.\n",
      "Simple is better than complex.\n",
      "Complex is better than complicated.\n",
      "Flat is better than nested.\n",
      "Sparse is better than dense.\n",
      "Readability counts.\n",
      "Special cases aren't special enough to break the rules.\n",
      "Although practicality beats purity.\n",
      "Errors should never pass silently.\n",
      "Unless explicitly silenced.\n",
      "In the face of ambiguity, refuse the temptation to guess.\n",
      "There should be one-- and preferably only one --obvious way to do it.\n",
      "Although that way may not be obvious at first unless you're Dutch.\n",
      "Now is better than never.\n",
      "Although never is often better than *right* now.\n",
      "If the implementation is hard to explain, it's a bad idea.\n",
      "If the implementation is easy to explain, it may be a good idea.\n",
      "Namespaces are one honking great idea -- let's do more of those!\n"
     ]
    }
   ],
   "source": [
    "import numpy as np\n",
    "from sklearn.datasets import load_iris\n",
    "from sporgboost.preprocessing import onehot_encode, shuffle\n",
    "from sporgboost.trees import AxisAlignedDecisionTree, SparseRandomDecisionTree\n",
    "from sklearn.tree import DecisionTreeClassifier\n",
    "from sporgboost.projections import identity\n",
    "sktree = DecisionTreeClassifier()\n",
    "model_aa = AxisAlignedDecisionTree()\n",
    "model_sr = SparseRandomDecisionTree(d = 2, s = 3)\n"
   ]
  },
  {
   "cell_type": "code",
   "execution_count": 1,
   "id": "ba8a0c36",
   "metadata": {},
   "outputs": [
    {
     "name": "stdout",
     "output_type": "stream",
     "text": [
      "The Zen of Python, by Tim Peters\n",
      "\n",
      "Beautiful is better than ugly.\n",
      "Explicit is better than implicit.\n",
      "Simple is better than complex.\n",
      "Complex is better than complicated.\n",
      "Flat is better than nested.\n",
      "Sparse is better than dense.\n",
      "Readability counts.\n",
      "Special cases aren't special enough to break the rules.\n",
      "Although practicality beats purity.\n",
      "Errors should never pass silently.\n",
      "Unless explicitly silenced.\n",
      "In the face of ambiguity, refuse the temptation to guess.\n",
      "There should be one-- and preferably only one --obvious way to do it.\n",
      "Although that way may not be obvious at first unless you're Dutch.\n",
      "Now is better than never.\n",
      "Although never is often better than *right* now.\n",
      "If the implementation is hard to explain, it's a bad idea.\n",
      "If the implementation is easy to explain, it may be a good idea.\n",
      "Namespaces are one honking great idea -- let's do more of those!\n"
     ]
    },
    {
     "ename": "ImportError",
     "evalue": "cannot import name 'predict' from 'sporgboost.trees._predict' (c:\\Users\\Ed\\OneDrive - Johns Hopkins\\Desktop\\Adv_ML_Project\\sporgboost\\trees\\_predict.py)",
     "output_type": "error",
     "traceback": [
      "\u001b[1;31m---------------------------------------------------------------------------\u001b[0m",
      "\u001b[1;31mImportError\u001b[0m                               Traceback (most recent call last)",
      "\u001b[1;32mc:\\Users\\Ed\\OneDrive - Johns Hopkins\\Desktop\\Adv_ML_Project\\RF.ipynb Cell 2'\u001b[0m in \u001b[0;36m<module>\u001b[1;34m\u001b[0m\n\u001b[0;32m      <a href='vscode-notebook-cell:/c%3A/Users/Ed/OneDrive%20-%20Johns%20Hopkins/Desktop/Adv_ML_Project/RF.ipynb#ch0000036?line=0'>1</a>\u001b[0m \u001b[39mfrom\u001b[39;00m \u001b[39msporgboost\u001b[39;00m\u001b[39m.\u001b[39;00m\u001b[39mprojections\u001b[39;00m \u001b[39mimport\u001b[39;00m identity\n\u001b[1;32m----> <a href='vscode-notebook-cell:/c%3A/Users/Ed/OneDrive%20-%20Johns%20Hopkins/Desktop/Adv_ML_Project/RF.ipynb#ch0000036?line=1'>2</a>\u001b[0m \u001b[39mfrom\u001b[39;00m \u001b[39msporgboost\u001b[39;00m\u001b[39m.\u001b[39;00m\u001b[39mtrees\u001b[39;00m\u001b[39m.\u001b[39;00m\u001b[39m_predict\u001b[39;00m \u001b[39mimport\u001b[39;00m predict\n\u001b[0;32m      <a href='vscode-notebook-cell:/c%3A/Users/Ed/OneDrive%20-%20Johns%20Hopkins/Desktop/Adv_ML_Project/RF.ipynb#ch0000036?line=2'>3</a>\u001b[0m \u001b[39m# from sporgboost.trees._growtree import _grow_tree\u001b[39;00m\n\u001b[0;32m      <a href='vscode-notebook-cell:/c%3A/Users/Ed/OneDrive%20-%20Johns%20Hopkins/Desktop/Adv_ML_Project/RF.ipynb#ch0000036?line=4'>5</a>\u001b[0m \u001b[39mclass\u001b[39;00m \u001b[39mAxisAlignedDecisionTree\u001b[39;00m():\n",
      "\u001b[1;31mImportError\u001b[0m: cannot import name 'predict' from 'sporgboost.trees._predict' (c:\\Users\\Ed\\OneDrive - Johns Hopkins\\Desktop\\Adv_ML_Project\\sporgboost\\trees\\_predict.py)"
     ]
    }
   ],
   "source": [
    "from sporgboost.projections import identity\n",
    "from sporgboost.trees._predict import _predict\n",
    "# from sporgboost.trees._growtree import _grow_tree\n",
    "\n",
    "class AxisAlignedDecisionTree():\n",
    "    def __init__(self):\n",
    "        self.tree = None\n",
    "        self.n_classes = None\n",
    "        \n",
    "    def fit(self, X, y):\n",
    "        self.tree = _grow_tree(X, y, identity)\n",
    "        self.n_classes = y.shape[1]\n",
    "\n",
    "    def predict(self, X):\n",
    "        return _predict(self.tree, X, self.n_classes)"
   ]
  },
  {
   "cell_type": "code",
   "execution_count": 5,
   "id": "5c149194-7402-4486-90f2-f11a1d6323a6",
   "metadata": {},
   "outputs": [],
   "source": [
    "# Dataset for testing\n",
    "X, y = load_iris(return_X_y = True)\n",
    "\n",
    "# Set seed to be able to reproduce\n",
    "np.random.seed(1234)\n",
    "    \n",
    "# Preprocessing\n",
    "y = onehot_encode(y)\n",
    "X, y = shuffle(X, y)"
   ]
  },
  {
   "cell_type": "code",
   "execution_count": 6,
   "id": "591ec955",
   "metadata": {},
   "outputs": [],
   "source": [
    "model_sr.fit(X, y)"
   ]
  },
  {
   "cell_type": "code",
   "execution_count": 7,
   "id": "947a2504",
   "metadata": {},
   "outputs": [],
   "source": [
    "model_aa.fit(X, y)"
   ]
  },
  {
   "cell_type": "code",
   "execution_count": 6,
   "id": "d9d616b4",
   "metadata": {},
   "outputs": [
    {
     "data": {
      "text/plain": [
       "DecisionTreeClassifier()"
      ]
     },
     "execution_count": 6,
     "metadata": {},
     "output_type": "execute_result"
    }
   ],
   "source": [
    "sktree.fit(X, y)"
   ]
  },
  {
   "cell_type": "code",
   "execution_count": 5,
   "id": "1357384f",
   "metadata": {},
   "outputs": [
    {
     "name": "stdout",
     "output_type": "stream",
     "text": [
      "1.92 ms ± 9.04 µs per loop (mean ± std. dev. of 7 runs, 1,000 loops each)\n"
     ]
    }
   ],
   "source": [
    "%timeit model.fit(X, y)"
   ]
  },
  {
   "cell_type": "code",
   "execution_count": 5,
   "id": "69d26805",
   "metadata": {},
   "outputs": [
    {
     "name": "stdout",
     "output_type": "stream",
     "text": [
      "312 µs ± 3.04 µs per loop (mean ± std. dev. of 7 runs, 1,000 loops each)\n"
     ]
    }
   ],
   "source": [
    "%timeit sktree.fit(X, y)"
   ]
  },
  {
   "cell_type": "code",
   "execution_count": 7,
   "id": "c9b19dee",
   "metadata": {},
   "outputs": [
    {
     "name": "stderr",
     "output_type": "stream",
     "text": [
      "c:\\Users\\Ed\\OneDrive - Johns Hopkins\\Desktop\\Adv_ML_Project\\sporgboost\\trees\\_predict.py:13: NumbaPerformanceWarning: \u001b[1m\u001b[1m\u001b[1mnp.dot() is faster on contiguous arrays, called on (array(float64, 2d, C), array(float64, 2d, A))\u001b[0m\u001b[0m\u001b[0m\n",
      "  X_ = np.dot(X, tree.proj)\n"
     ]
    },
    {
     "name": "stdout",
     "output_type": "stream",
     "text": [
      "The slowest run took 5.08 times longer than the fastest. This could mean that an intermediate result is being cached.\n",
      "26.6 µs ± 21.8 µs per loop (mean ± std. dev. of 7 runs, 1 loop each)\n"
     ]
    }
   ],
   "source": [
    "%timeit model.predict(X)"
   ]
  },
  {
   "cell_type": "code",
   "execution_count": 7,
   "id": "1fe313ee",
   "metadata": {},
   "outputs": [
    {
     "name": "stdout",
     "output_type": "stream",
     "text": [
      "74.1 µs ± 602 ns per loop (mean ± std. dev. of 7 runs, 10,000 loops each)\n"
     ]
    }
   ],
   "source": [
    "%timeit sktree.predict(X)"
   ]
  },
  {
   "cell_type": "code",
   "execution_count": 8,
   "id": "8590a2c6",
   "metadata": {},
   "outputs": [
    {
     "data": {
      "text/plain": [
       "True"
      ]
     },
     "execution_count": 8,
     "metadata": {},
     "output_type": "execute_result"
    }
   ],
   "source": [
    "np.all(model.predict(X) == sktree.predict(X))"
   ]
  }
 ],
 "metadata": {
  "kernelspec": {
   "display_name": "SPORF",
   "language": "python",
   "name": "sporf"
  },
  "language_info": {
   "codemirror_mode": {
    "name": "ipython",
    "version": 3
   },
   "file_extension": ".py",
   "mimetype": "text/x-python",
   "name": "python",
   "nbconvert_exporter": "python",
   "pygments_lexer": "ipython3",
   "version": "3.8.12"
  }
 },
 "nbformat": 4,
 "nbformat_minor": 5
}
