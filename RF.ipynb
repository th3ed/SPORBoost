{
 "cells": [
  {
   "cell_type": "code",
   "execution_count": 1,
   "id": "3597138f-3be1-4461-a020-dba09287bb91",
   "metadata": {},
   "outputs": [],
   "source": [
    "from sporgboost.forests import *\n",
    "from sklearn.metrics import roc_auc_score\n",
    "from get_data import load\n",
    "from sklearn.metrics import roc_auc_score\n",
    "from sklearn.datasets import load_iris\n",
    "from sporgboost.preprocessing import onehot_encode\n",
    "X, y = load_iris(return_X_y=True)\n",
    "\n",
    "y = onehot_encode(y)"
   ]
  },
  {
   "cell_type": "code",
   "execution_count": 6,
   "id": "65377159",
   "metadata": {},
   "outputs": [],
   "source": [
    "from sporgboost.common import *\n",
    "from sporgboost._arrays import *\n",
    "from sporgboost.projections import *\n",
    "\n",
    "def _grow_tree(X, y, proj, max_depth, *args):\n",
    "    # Each piece of work contains a pointer to \n",
    "    # the node being processed and the index positions\n",
    "    # of obs at that node\n",
    "    node_train_idx = {1 : np.arange(0, X.shape[0])}\n",
    "    \n",
    "    # To track the information for the nodes and use numba\n",
    "    # we need to keep homogenous data types, use dicts\n",
    "    node_value = {}\n",
    "    node_split = {}\n",
    "    node_proj = {}\n",
    "\n",
    "    depth = 0\n",
    "    max_depth = np.inf if max_depth is None else max_depth\n",
    "\n",
    "    while (depth <= max_depth) and len(node_train_idx) > 0:\n",
    "        # Parallel loop over all nodes to be processed\n",
    "        for _ in range(len(node_train_idx)):\n",
    "            # Get node and asociated obs\n",
    "            node_idx, idx = node_train_idx.popitem()\n",
    "\n",
    "            X_, y_ = X[idx, :], y[idx, :]\n",
    "\n",
    "            # Step 1: Check if node is a leaf\n",
    "            node_value[node_idx] = row_mean(y_).reshape((1, -1))\n",
    "\n",
    "            # Leaf check 1: at max depth\n",
    "            if depth == max_depth:\n",
    "                continue\n",
    "\n",
    "            # Leaf check 2: partition is pure\n",
    "            if gini_impurity(node_value[node_idx]) == 0.:\n",
    "                continue\n",
    "\n",
    "            # Step 2: If node is not a leaf, find a split\n",
    "            # Project data based on function\n",
    "            A = proj(X_, *args)\n",
    "            print(A)\n",
    "            # X_proj = X_ @ A\n",
    "\n",
    "            # # Leaf check 3: partition has no unique levels in X, can't\n",
    "            # # be partitioned further to improve performance\n",
    "            # if np.all(row_nunique(X_proj) <= 1):\n",
    "            #     continue\n",
    "\n",
    "            # # Evaluate each col and candidate split\n",
    "            # col, node_split[node_idx] = best_split(X_proj, y_)\n",
    "            # node_proj[node_idx] = np.ascontiguousarray(A[:, col]).reshape((-1, 1))\n",
    "\n",
    "            # # Initalize children and add to the next iteration to be processed\n",
    "            # node_train_idx[node_idx * 10] = idx[(X_proj[:, col] <= node_split[node_idx])]\n",
    "            # node_train_idx[node_idx * 10 + 1] = idx[(X_proj[:, col] > node_split[node_idx])]\n",
    "        depth += 1\n",
    "\n",
    "    return node_value, node_split, node_proj\n",
    "\n",
    "_grow_tree(X, y, identity, 2)"
   ]
  },
  {
   "cell_type": "code",
   "execution_count": 3,
   "id": "2565c0ae",
   "metadata": {},
   "outputs": [],
   "source": [
    "# from sklearn.tree import DecisionTreeClassifier, plot_tree\n",
    "# sk = DecisionTreeClassifier()\n",
    "# sk.fit(X, y)\n",
    "# plot_tree(sk)"
   ]
  },
  {
   "cell_type": "code",
   "execution_count": 4,
   "id": "5d762600",
   "metadata": {},
   "outputs": [],
   "source": [
    "from sporgboost.common import _grow_tree\n",
    "from sporgboost.projections import *\n",
    "_grow_tree(X, y, identity, 2)"
   ]
  },
  {
   "cell_type": "code",
   "execution_count": 3,
   "id": "0f047c33",
   "metadata": {},
   "outputs": [],
   "source": [
    "from sporgboost.forests import *\n",
    "from sporgboost.trees import AxisAlignedDecisionTree\n",
    "aa = AxisAlignedDecisionTree(max_depth = 10)\n",
    "rf = RandomForest()"
   ]
  },
  {
   "cell_type": "code",
   "execution_count": 4,
   "id": "abe900c2",
   "metadata": {},
   "outputs": [],
   "source": [
    "aa.fit(X, y)"
   ]
  },
  {
   "cell_type": "code",
   "execution_count": null,
   "id": "e9702dd7",
   "metadata": {},
   "outputs": [],
   "source": [
    "aa.predict(X)"
   ]
  },
  {
   "cell_type": "code",
   "execution_count": 8,
   "id": "55c0e978",
   "metadata": {},
   "outputs": [],
   "source": [
    "rf.forest[0].predict(X)"
   ]
  },
  {
   "cell_type": "code",
   "execution_count": 5,
   "id": "fd9f1977",
   "metadata": {},
   "outputs": [],
   "source": [
    "rf.predict_proba(X)"
   ]
  },
  {
   "cell_type": "code",
   "execution_count": 19,
   "id": "f8e5cedd",
   "metadata": {},
   "outputs": [
    {
     "name": "stdout",
     "output_type": "stream",
     "text": [
      "Fitting sporf\n",
      "Fitting sporgboost\n"
     ]
    }
   ],
   "source": [
    "models = {\n",
    "    # 'rf' : RandomForest(),\n",
    "    # 'ab' : AdaBoost(),\n",
    "    'sporf' : SPORF(d=2, s=3),\n",
    "    'sporgboost' : SPORGBoost(d=2, s=3, max_depth=2),\n",
    "    # 'rrf' : RotationalRandomForest(K=2),\n",
    "    # 'rotboost' : RotBoost(K=2)\n",
    "}\n",
    "\n",
    "for k, m in models.items():\n",
    "    print(f\"Fitting {k}\")\n",
    "    m.fit(X_train, y_train)\n"
   ]
  },
  {
   "cell_type": "code",
   "execution_count": 22,
   "id": "099def50",
   "metadata": {},
   "outputs": [
    {
     "name": "stdout",
     "output_type": "stream",
     "text": [
      "CPU times: total: 0 ns\n",
      "Wall time: 0 ns\n"
     ]
    }
   ],
   "source": [
    "%time\n",
    "models['sporgboost'].fit(X_train, y_train)"
   ]
  },
  {
   "cell_type": "code",
   "execution_count": 7,
   "id": "b6c682ce",
   "metadata": {},
   "outputs": [
    {
     "name": "stdout",
     "output_type": "stream",
     "text": [
      "CPU times: total: 594 ms\n",
      "Wall time: 597 ms\n"
     ]
    },
    {
     "data": {
      "text/plain": [
       "RandomForestClassifier()"
      ]
     },
     "execution_count": 7,
     "metadata": {},
     "output_type": "execute_result"
    }
   ],
   "source": [
    "%%time\n",
    "from sklearn.ensemble import RandomForestClassifier\n",
    "rf = RandomForestClassifier()\n",
    "rf.fit(X_train, y_train)"
   ]
  },
  {
   "cell_type": "code",
   "execution_count": 13,
   "id": "13373da9",
   "metadata": {},
   "outputs": [
    {
     "data": {
      "text/plain": [
       "[array([[0.31, 0.69],\n",
       "        [0.21, 0.79],\n",
       "        [0.37, 0.63],\n",
       "        ...,\n",
       "        [0.33, 0.67],\n",
       "        [0.32, 0.68],\n",
       "        [0.51, 0.49]]),\n",
       " array([[0.69, 0.31],\n",
       "        [0.79, 0.21],\n",
       "        [0.63, 0.37],\n",
       "        ...,\n",
       "        [0.67, 0.33],\n",
       "        [0.68, 0.32],\n",
       "        [0.49, 0.51]])]"
      ]
     },
     "execution_count": 13,
     "metadata": {},
     "output_type": "execute_result"
    }
   ],
   "source": [
    "rf.predict_proba(X_test)"
   ]
  },
  {
   "cell_type": "code",
   "execution_count": 14,
   "id": "32a7e82c",
   "metadata": {},
   "outputs": [
    {
     "data": {
      "text/plain": [
       "0.9192514784504009"
      ]
     },
     "execution_count": 14,
     "metadata": {},
     "output_type": "execute_result"
    }
   ],
   "source": [
    "roc_auc_score(y_test, rf.predict_proba(X_test)[1], multi_class='ovo')"
   ]
  },
  {
   "cell_type": "code",
   "execution_count": 24,
   "id": "a4b5eee3",
   "metadata": {},
   "outputs": [],
   "source": [
    "from sklearn.metrics import accuracy_score\n",
    "# accuracy_score(y_test, rf.predict(X_test))"
   ]
  },
  {
   "cell_type": "code",
   "execution_count": 26,
   "id": "90b45409",
   "metadata": {},
   "outputs": [
    {
     "data": {
      "text/plain": [
       "{'sporf': 0.7630681818181818, 'sporgboost': 0.6098863636363636}"
      ]
     },
     "execution_count": 26,
     "metadata": {},
     "output_type": "execute_result"
    }
   ],
   "source": [
    "# Get AUC scores\n",
    "auc = {key : accuracy_score(y_test, model.predict(X_test)) for key, model in models.items() if key in {'sporf','sporgboost'}}\n",
    "auc"
   ]
  }
 ],
 "metadata": {
  "kernelspec": {
   "display_name": "SPORF",
   "language": "python",
   "name": "sporf"
  },
  "language_info": {
   "codemirror_mode": {
    "name": "ipython",
    "version": 3
   },
   "file_extension": ".py",
   "mimetype": "text/x-python",
   "name": "python",
   "nbconvert_exporter": "python",
   "pygments_lexer": "ipython3",
   "version": "3.8.12"
  }
 },
 "nbformat": 4,
 "nbformat_minor": 5
}
