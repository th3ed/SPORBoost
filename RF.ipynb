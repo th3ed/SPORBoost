{
 "cells": [
  {
   "cell_type": "code",
   "execution_count": 1,
   "id": "3597138f-3be1-4461-a020-dba09287bb91",
   "metadata": {},
   "outputs": [],
   "source": [
    "import numpy as np\n",
    "from sklearn.datasets import load_iris\n",
    "from sporgboost.preprocessing import onehot_encode, shuffle\n",
    "from sporgboost.trees import DecisionTree\n",
    "from sklearn.tree import DecisionTreeClassifier\n",
    "sktree = DecisionTreeClassifier()\n",
    "model = DecisionTree()"
   ]
  },
  {
   "cell_type": "code",
   "execution_count": 2,
   "id": "5c149194-7402-4486-90f2-f11a1d6323a6",
   "metadata": {},
   "outputs": [],
   "source": [
    "# Dataset for testing\n",
    "X, y = load_iris(return_X_y = True)\n",
    "\n",
    "# Set seed to be able to reproduce\n",
    "np.random.seed(1234)\n",
    "    \n",
    "# Preprocessing\n",
    "y = onehot_encode(y)\n",
    "X, y = shuffle(X, y)"
   ]
  },
  {
   "cell_type": "code",
   "execution_count": 111,
   "id": "b64c7362",
   "metadata": {},
   "outputs": [
    {
     "name": "stdout",
     "output_type": "stream",
     "text": [
      "1.38 ms ± 5.4 µs per loop (mean ± std. dev. of 7 runs, 1,000 loops each)\n"
     ]
    }
   ],
   "source": [
    "%timeit model.fit(X, y)"
   ]
  },
  {
   "cell_type": "code",
   "execution_count": 105,
   "id": "69d26805",
   "metadata": {},
   "outputs": [
    {
     "name": "stdout",
     "output_type": "stream",
     "text": [
      "320 µs ± 10.4 µs per loop (mean ± std. dev. of 7 runs, 1,000 loops each)\n"
     ]
    }
   ],
   "source": [
    "%timeit sktree.fit(X, y)"
   ]
  },
  {
   "cell_type": "code",
   "execution_count": 106,
   "id": "c9b19dee",
   "metadata": {},
   "outputs": [
    {
     "name": "stdout",
     "output_type": "stream",
     "text": [
      "14 µs ± 42.7 ns per loop (mean ± std. dev. of 7 runs, 100,000 loops each)\n"
     ]
    }
   ],
   "source": [
    "%timeit model.predict(X)"
   ]
  },
  {
   "cell_type": "code",
   "execution_count": 107,
   "id": "1fe313ee",
   "metadata": {},
   "outputs": [
    {
     "name": "stdout",
     "output_type": "stream",
     "text": [
      "72.1 µs ± 815 ns per loop (mean ± std. dev. of 7 runs, 10,000 loops each)\n"
     ]
    }
   ],
   "source": [
    "%timeit sktree.predict(X)"
   ]
  },
  {
   "cell_type": "code",
   "execution_count": null,
   "id": "8590a2c6",
   "metadata": {},
   "outputs": [],
   "source": [
    "np.all(model.predict(X) == sktree.predict(X))"
   ]
  }
 ],
 "metadata": {
  "kernelspec": {
   "display_name": "SPORF",
   "language": "python",
   "name": "sporf"
  },
  "language_info": {
   "codemirror_mode": {
    "name": "ipython",
    "version": 3
   },
   "file_extension": ".py",
   "mimetype": "text/x-python",
   "name": "python",
   "nbconvert_exporter": "python",
   "pygments_lexer": "ipython3",
   "version": "3.8.12"
  }
 },
 "nbformat": 4,
 "nbformat_minor": 5
}
