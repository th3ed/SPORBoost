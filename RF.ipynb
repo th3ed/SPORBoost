{
 "cells": [
  {
   "cell_type": "code",
   "execution_count": 1,
   "id": "3597138f-3be1-4461-a020-dba09287bb91",
   "metadata": {},
   "outputs": [],
   "source": [
    "from sporgboost.forests import *\n",
    "from sklearn.metrics import roc_auc_score\n",
    "from get_data import load\n",
    "from sklearn.metrics import roc_auc_score\n",
    "from sklearn.datasets import load_iris\n",
    "from sporgboost.preprocessing import onehot_encode\n",
    "X, y = load(\"data/sparse_parity.parquet\")\n",
    "# X, y = load_iris(return_X_y=True)\n",
    "# y = onehot_encode(y)\n"
   ]
  },
  {
   "cell_type": "code",
   "execution_count": 2,
   "id": "6c03051b",
   "metadata": {},
   "outputs": [],
   "source": [
    "from sporgboost.trees import RotationalDecisionTree\n",
    "rot = RotationalDecisionTree(K=2)\n",
    "rot.fit(X, y)"
   ]
  },
  {
   "cell_type": "code",
   "execution_count": 3,
   "id": "0f047c33",
   "metadata": {},
   "outputs": [],
   "source": [
    "from sporgboost.forests import *\n",
    "rf = RandomForest()\n",
    "rf.fit(X, y)"
   ]
  },
  {
   "cell_type": "code",
   "execution_count": 9,
   "id": "e5c4ed8d",
   "metadata": {},
   "outputs": [],
   "source": [
    "sporf = SPORF(d=2, s=3)\n",
    "sporf.fit(X, y)"
   ]
  },
  {
   "cell_type": "code",
   "execution_count": 5,
   "id": "08ac46bd",
   "metadata": {},
   "outputs": [],
   "source": [
    "rrf = RotationalForest(K=2)\n",
    "rrf.fit(X, y)"
   ]
  },
  {
   "cell_type": "code",
   "execution_count": 19,
   "id": "f8e5cedd",
   "metadata": {},
   "outputs": [
    {
     "name": "stdout",
     "output_type": "stream",
     "text": [
      "Fitting sporf\n",
      "Fitting sporgboost\n"
     ]
    }
   ],
   "source": [
    "# models = {\n",
    "#     # 'rf' : RandomForest(),\n",
    "#     # 'ab' : AdaBoost(),\n",
    "#     'sporf' : SPORF(d=2, s=3),\n",
    "#     'sporgboost' : SPORGBoost(d=2, s=3, max_depth=2),\n",
    "#     # 'rrf' : RotationalRandomForest(K=2),\n",
    "#     # 'rotboost' : RotBoost(K=2)\n",
    "# }\n",
    "\n",
    "# for k, m in models.items():\n",
    "#     print(f\"Fitting {k}\")\n",
    "#     m.fit(X_train, y_train)\n"
   ]
  },
  {
   "cell_type": "code",
   "execution_count": 6,
   "id": "32a7e82c",
   "metadata": {},
   "outputs": [
    {
     "data": {
      "text/plain": [
       "0.6357403228749623"
      ]
     },
     "execution_count": 6,
     "metadata": {},
     "output_type": "execute_result"
    }
   ],
   "source": [
    "roc_auc_score(y, rrf.predict(X), multi_class='ovo')"
   ]
  },
  {
   "cell_type": "code",
   "execution_count": 10,
   "id": "ac78810d",
   "metadata": {},
   "outputs": [
    {
     "data": {
      "text/plain": [
       "0.976297372398488"
      ]
     },
     "execution_count": 10,
     "metadata": {},
     "output_type": "execute_result"
    }
   ],
   "source": [
    "roc_auc_score(y, sporf.predict_proba(X), multi_class='ovo')"
   ]
  },
  {
   "cell_type": "code",
   "execution_count": 8,
   "id": "506f38ee",
   "metadata": {},
   "outputs": [
    {
     "data": {
      "text/plain": [
       "0.5819648490844376"
      ]
     },
     "execution_count": 8,
     "metadata": {},
     "output_type": "execute_result"
    }
   ],
   "source": [
    "roc_auc_score(y, rf.predict_proba(X), multi_class='ovo')"
   ]
  },
  {
   "cell_type": "code",
   "execution_count": 24,
   "id": "a4b5eee3",
   "metadata": {},
   "outputs": [],
   "source": [
    "from sklearn.metrics import accuracy_score\n",
    "# accuracy_score(y_test, rf.predict(X_test))"
   ]
  },
  {
   "cell_type": "code",
   "execution_count": 26,
   "id": "90b45409",
   "metadata": {},
   "outputs": [
    {
     "data": {
      "text/plain": [
       "{'sporf': 0.7630681818181818, 'sporgboost': 0.6098863636363636}"
      ]
     },
     "execution_count": 26,
     "metadata": {},
     "output_type": "execute_result"
    }
   ],
   "source": [
    "# Get AUC scores\n",
    "auc = {key : accuracy_score(y_test, model.predict(X_test)) for key, model in models.items() if key in {'sporf','sporgboost'}}\n",
    "auc"
   ]
  }
 ],
 "metadata": {
  "interpreter": {
   "hash": "19a6b89429cc42f8a39b8068be6b3b06345d41f5c5dc4b805d424edbd3c294cc"
  },
  "kernelspec": {
   "display_name": "SPORF",
   "language": "python",
   "name": "python3"
  },
  "language_info": {
   "codemirror_mode": {
    "name": "ipython",
    "version": 3
   },
   "file_extension": ".py",
   "mimetype": "text/x-python",
   "name": "python",
   "nbconvert_exporter": "python",
   "pygments_lexer": "ipython3",
   "version": "3.8.12"
  }
 },
 "nbformat": 4,
 "nbformat_minor": 5
}
