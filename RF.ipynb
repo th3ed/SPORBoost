{
 "cells": [
  {
   "cell_type": "code",
   "execution_count": 5,
   "id": "3597138f-3be1-4461-a020-dba09287bb91",
   "metadata": {},
   "outputs": [],
   "source": [
    "from sporgboost.forests import *\n",
    "from sklearn.metrics import roc_auc_score\n",
    "from get_data import load\n",
    "from sklearn.metrics import roc_auc_score\n",
    "from sklearn.datasets import load_iris\n",
    "from sporgboost.preprocessing import onehot_encode\n",
    "X, y = load_iris(return_X_y=True)\n",
    "\n",
    "y = onehot_encode(y)"
   ]
  },
  {
   "cell_type": "code",
   "execution_count": 6,
   "id": "2565c0ae",
   "metadata": {},
   "outputs": [
    {
     "data": {
      "text/plain": [
       "[Text(0.5, 0.9166666666666666, 'X[2] <= 2.45\\ngini = 0.444\\nsamples = 150\\nvalue = [[100, 50]\\n[100, 50]\\n[100, 50]]'),\n",
       " Text(0.4230769230769231, 0.75, 'gini = 0.0\\nsamples = 50\\nvalue = [[0, 50]\\n[50, 0]\\n[50, 0]]'),\n",
       " Text(0.5769230769230769, 0.75, 'X[3] <= 1.75\\ngini = 0.333\\nsamples = 100\\nvalue = [[100, 0]\\n[50, 50]\\n[50, 50]]'),\n",
       " Text(0.3076923076923077, 0.5833333333333334, 'X[2] <= 4.95\\ngini = 0.112\\nsamples = 54\\nvalue = [[54, 0]\\n[5, 49]\\n[49, 5]]'),\n",
       " Text(0.15384615384615385, 0.4166666666666667, 'X[3] <= 1.65\\ngini = 0.027\\nsamples = 48\\nvalue = [[48, 0]\\n[1, 47]\\n[47, 1]]'),\n",
       " Text(0.07692307692307693, 0.25, 'gini = 0.0\\nsamples = 47\\nvalue = [[47, 0]\\n[0, 47]\\n[47, 0]]'),\n",
       " Text(0.23076923076923078, 0.25, 'gini = 0.0\\nsamples = 1\\nvalue = [[1, 0]\\n[1, 0]\\n[0, 1]]'),\n",
       " Text(0.46153846153846156, 0.4166666666666667, 'X[3] <= 1.55\\ngini = 0.296\\nsamples = 6\\nvalue = [[6, 0]\\n[4, 2]\\n[2, 4]]'),\n",
       " Text(0.38461538461538464, 0.25, 'gini = 0.0\\nsamples = 3\\nvalue = [[3, 0]\\n[3, 0]\\n[0, 3]]'),\n",
       " Text(0.5384615384615384, 0.25, 'X[0] <= 6.95\\ngini = 0.296\\nsamples = 3\\nvalue = [[3, 0]\\n[1, 2]\\n[2, 1]]'),\n",
       " Text(0.46153846153846156, 0.08333333333333333, 'gini = 0.0\\nsamples = 2\\nvalue = [[2, 0]\\n[0, 2]\\n[2, 0]]'),\n",
       " Text(0.6153846153846154, 0.08333333333333333, 'gini = 0.0\\nsamples = 1\\nvalue = [[1, 0]\\n[1, 0]\\n[0, 1]]'),\n",
       " Text(0.8461538461538461, 0.5833333333333334, 'X[2] <= 4.85\\ngini = 0.028\\nsamples = 46\\nvalue = [[46, 0]\\n[45, 1]\\n[1, 45]]'),\n",
       " Text(0.7692307692307693, 0.4166666666666667, 'X[1] <= 3.1\\ngini = 0.296\\nsamples = 3\\nvalue = [[3, 0]\\n[2, 1]\\n[1, 2]]'),\n",
       " Text(0.6923076923076923, 0.25, 'gini = 0.0\\nsamples = 2\\nvalue = [[2, 0]\\n[2, 0]\\n[0, 2]]'),\n",
       " Text(0.8461538461538461, 0.25, 'gini = 0.0\\nsamples = 1\\nvalue = [[1, 0]\\n[0, 1]\\n[1, 0]]'),\n",
       " Text(0.9230769230769231, 0.4166666666666667, 'gini = 0.0\\nsamples = 43\\nvalue = [[43, 0]\\n[43, 0]\\n[0, 43]]')]"
      ]
     },
     "execution_count": 6,
     "metadata": {},
     "output_type": "execute_result"
    },
    {
     "data": {
      "image/png": "[encoded data removed]",
      "text/plain": [
       "<Figure size 432x288 with 1 Axes>"
      ]
     },
     "metadata": {
      "needs_background": "light"
     },
     "output_type": "display_data"
    }
   ],
   "source": [
    "from sklearn.tree import DecisionTreeClassifier, plot_tree\n",
    "sk = DecisionTreeClassifier()\n",
    "sk.fit(X, y)\n",
    "plot_tree(sk)"
   ]
  },
  {
   "cell_type": "code",
   "execution_count": 7,
   "id": "0f047c33",
   "metadata": {},
   "outputs": [],
   "source": [
    "# from sporgboost.common import _grow_tree, _predict_tree\n",
    "from sporgboost.projections import *\n",
    "from numba import prange, deferred_type, optional, float64\n",
    "from numba.experimental import jitclass\n",
    "from sporgboost.common import best_split, gini_impurity\n",
    "from sporgboost._arrays import row_mean, row_nunique\n",
    "import numpy as np\n",
    "from numba import njit, prange\n",
    "\n",
    "@njit(parallel = False)\n",
    "def _grow_tree(X, y, proj, max_depth, *args):\n",
    "    # Each piece of work contains a pointer to \n",
    "    # the node being processed and the index positions\n",
    "    # of obs at that node\n",
    "    node_train_idx = {1 : np.arange(0, X.shape[0])}\n",
    "    \n",
    "    # To track the information for the nodes and use numba\n",
    "    # we need to keep homogenous data types, use dicts\n",
    "    node_value = {}\n",
    "    node_split = {}\n",
    "    node_proj = {}\n",
    "\n",
    "    depth = 0\n",
    "    max_depth = np.inf if max_depth is None else max_depth\n",
    "\n",
    "    while (depth <= max_depth) and len(node_train_idx) > 0:\n",
    "        # Parallel loop over all nodes to be processed\n",
    "        for _ in prange(len(node_train_idx)):\n",
    "            # Get node and asociated obs\n",
    "            node_idx, idx = node_train_idx.popitem()\n",
    "\n",
    "            X_, y_ = X[idx, :], y[idx, :]\n",
    "\n",
    "            # Step 1: Check if node is a leaf\n",
    "            node_value[node_idx] = row_mean(y_).reshape((1, -1))\n",
    "\n",
    "            # Leaf check 1: at max depth\n",
    "            if depth == max_depth:\n",
    "                continue\n",
    "\n",
    "            # Leaf check 2: partition is pure\n",
    "            if gini_impurity(node_value[node_idx]) == 0.:\n",
    "                continue\n",
    "\n",
    "            # Step 2: If node is not a leaf, find a split\n",
    "            # Project data based on function\n",
    "            A = proj(X_, *args)\n",
    "\n",
    "            X_proj = X_ @ A\n",
    "\n",
    "            # Leaf check 3: partition has no unique levels in X, can't\n",
    "            # be partitioned further to improve performance\n",
    "            if np.all(row_nunique(X_proj) <= 1):\n",
    "                continue\n",
    "\n",
    "            # Evaluate each col and candidate split\n",
    "            col, node_split[node_idx] = best_split(X_proj, y_)\n",
    "            node_proj[node_idx] = np.ascontiguousarray(A[:, col]).reshape((-1, 1))\n",
    "\n",
    "            # Initalize children and add to the next iteration to be processed\n",
    "            node_train_idx[node_idx * 10] = idx[(X_proj[:, col] <= node_split[node_idx])]\n",
    "            node_train_idx[node_idx * 10 + 1] = idx[(X_proj[:, col] > node_split[node_idx])]\n",
    "        depth += 1\n",
    "\n",
    "    return node_value, node_split, node_proj\n",
    "    # return {'value' : node_value, 'split' : node_split, 'left' : node_left, 'right' : node_right, 'proj' : proj}\n",
    "\n",
    "tree = _grow_tree(X, y, identity, None)"
   ]
  },
  {
   "cell_type": "code",
   "execution_count": 99,
   "id": "1536e52a",
   "metadata": {},
   "outputs": [],
   "source": [
    "%timeit  _grow_tree(X, y, identity, None)"
   ]
  },
  {
   "cell_type": "code",
   "execution_count": 4,
   "id": "cedeea29",
   "metadata": {},
   "outputs": [
    {
     "name": "stdout",
     "output_type": "stream",
     "text": [
      "1.08 ms ± 13.7 µs per loop (mean ± std. dev. of 7 runs, 1,000 loops each)\n"
     ]
    }
   ],
   "source": [
    "%timeit _grow_tree(X, y, identity, None)"
   ]
  },
  {
   "cell_type": "code",
   "execution_count": 3,
   "id": "684e70a5",
   "metadata": {},
   "outputs": [],
   "source": [
    "# %timeit _grow_tree(X, y, sparse_random, None, 2, 3)"
   ]
  },
  {
   "cell_type": "code",
   "execution_count": 4,
   "id": "1f83cb00",
   "metadata": {},
   "outputs": [
    {
     "name": "stderr",
     "output_type": "stream",
     "text": [
      "c:\\Users\\Ed\\OneDrive - Johns Hopkins\\Desktop\\Adv_ML_Project\\sporgboost\\common\\_predict.py:16: NumbaPerformanceWarning: \u001b[1m\u001b[1m\u001b[1mnp.dot() is faster on contiguous arrays, called on (array(float64, 2d, F), array(float64, 2d, A))\u001b[0m\u001b[0m\u001b[0m\n",
      "  X_ = np.dot(X, tree.proj)\n",
      "c:\\Users\\Ed\\OneDrive - Johns Hopkins\\Desktop\\Adv_ML_Project\\sporgboost\\common\\_predict.py:18: NumbaPerformanceWarning: \u001b[1m\u001b[1m\u001b[1m\u001b[1mnp.dot() is faster on contiguous arrays, called on (array(float64, 2d, C), array(float64, 2d, A))\u001b[0m\u001b[0m\u001b[0m\u001b[0m\n",
      "  out[le, :] = _predict_tree(tree.left, X[le], n_classes)\n"
     ]
    },
    {
     "ename": "AttributeError",
     "evalue": "'Optional' object has no attribute 'type'",
     "output_type": "error",
     "traceback": [
      "\u001b[1;31m---------------------------------------------------------------------------\u001b[0m",
      "\u001b[1;31mAttributeError\u001b[0m                            Traceback (most recent call last)",
      "Input \u001b[1;32mIn [4]\u001b[0m, in \u001b[0;36m<module>\u001b[1;34m\u001b[0m\n\u001b[1;32m----> 1\u001b[0m _predict_tree(tree, X, \u001b[39m3\u001b[39;49m)\n",
      "File \u001b[1;32m~\\anaconda3\\envs\\sporf\\lib\\site-packages\\numba\\core\\dispatcher.py:487\u001b[0m, in \u001b[0;36m_DispatcherBase._compile_for_args\u001b[1;34m(self, *args, **kws)\u001b[0m\n\u001b[0;32m    <a href='file:///c%3A/Users/Ed/anaconda3/envs/sporf/lib/site-packages/numba/core/dispatcher.py?line=484'>485</a>\u001b[0m             e\u001b[39m.\u001b[39mpatch_message(\u001b[39m'\u001b[39m\u001b[39m\\n\u001b[39;00m\u001b[39m'\u001b[39m\u001b[39m.\u001b[39mjoin((\u001b[39mstr\u001b[39m(e)\u001b[39m.\u001b[39mrstrip(), help_msg)))\n\u001b[0;32m    <a href='file:///c%3A/Users/Ed/anaconda3/envs/sporf/lib/site-packages/numba/core/dispatcher.py?line=485'>486</a>\u001b[0m     \u001b[39m# ignore the FULL_TRACEBACKS config, this needs reporting!\u001b[39;00m\n\u001b[1;32m--> <a href='file:///c%3A/Users/Ed/anaconda3/envs/sporf/lib/site-packages/numba/core/dispatcher.py?line=486'>487</a>\u001b[0m     \u001b[39mraise\u001b[39;00m e\n\u001b[0;32m    <a href='file:///c%3A/Users/Ed/anaconda3/envs/sporf/lib/site-packages/numba/core/dispatcher.py?line=487'>488</a>\u001b[0m \u001b[39mfinally\u001b[39;00m:\n\u001b[0;32m    <a href='file:///c%3A/Users/Ed/anaconda3/envs/sporf/lib/site-packages/numba/core/dispatcher.py?line=488'>489</a>\u001b[0m     \u001b[39mself\u001b[39m\u001b[39m.\u001b[39m_types_active_call \u001b[39m=\u001b[39m []\n",
      "File \u001b[1;32m~\\anaconda3\\envs\\sporf\\lib\\site-packages\\numba\\core\\dispatcher.py:420\u001b[0m, in \u001b[0;36m_DispatcherBase._compile_for_args\u001b[1;34m(self, *args, **kws)\u001b[0m\n\u001b[0;32m    <a href='file:///c%3A/Users/Ed/anaconda3/envs/sporf/lib/site-packages/numba/core/dispatcher.py?line=417'>418</a>\u001b[0m return_val \u001b[39m=\u001b[39m \u001b[39mNone\u001b[39;00m\n\u001b[0;32m    <a href='file:///c%3A/Users/Ed/anaconda3/envs/sporf/lib/site-packages/numba/core/dispatcher.py?line=418'>419</a>\u001b[0m \u001b[39mtry\u001b[39;00m:\n\u001b[1;32m--> <a href='file:///c%3A/Users/Ed/anaconda3/envs/sporf/lib/site-packages/numba/core/dispatcher.py?line=419'>420</a>\u001b[0m     return_val \u001b[39m=\u001b[39m \u001b[39mself\u001b[39;49m\u001b[39m.\u001b[39;49mcompile(\u001b[39mtuple\u001b[39;49m(argtypes))\n\u001b[0;32m    <a href='file:///c%3A/Users/Ed/anaconda3/envs/sporf/lib/site-packages/numba/core/dispatcher.py?line=420'>421</a>\u001b[0m \u001b[39mexcept\u001b[39;00m errors\u001b[39m.\u001b[39mForceLiteralArg \u001b[39mas\u001b[39;00m e:\n\u001b[0;32m    <a href='file:///c%3A/Users/Ed/anaconda3/envs/sporf/lib/site-packages/numba/core/dispatcher.py?line=421'>422</a>\u001b[0m     \u001b[39m# Received request for compiler re-entry with the list of arguments\u001b[39;00m\n\u001b[0;32m    <a href='file:///c%3A/Users/Ed/anaconda3/envs/sporf/lib/site-packages/numba/core/dispatcher.py?line=422'>423</a>\u001b[0m     \u001b[39m# indicated by e.requested_args.\u001b[39;00m\n\u001b[0;32m    <a href='file:///c%3A/Users/Ed/anaconda3/envs/sporf/lib/site-packages/numba/core/dispatcher.py?line=423'>424</a>\u001b[0m     \u001b[39m# First, check if any of these args are already Literal-ized\u001b[39;00m\n\u001b[0;32m    <a href='file:///c%3A/Users/Ed/anaconda3/envs/sporf/lib/site-packages/numba/core/dispatcher.py?line=424'>425</a>\u001b[0m     already_lit_pos \u001b[39m=\u001b[39m [i \u001b[39mfor\u001b[39;00m i \u001b[39min\u001b[39;00m e\u001b[39m.\u001b[39mrequested_args\n\u001b[0;32m    <a href='file:///c%3A/Users/Ed/anaconda3/envs/sporf/lib/site-packages/numba/core/dispatcher.py?line=425'>426</a>\u001b[0m                        \u001b[39mif\u001b[39;00m \u001b[39misinstance\u001b[39m(args[i], types\u001b[39m.\u001b[39mLiteral)]\n",
      "File \u001b[1;32m~\\anaconda3\\envs\\sporf\\lib\\site-packages\\numba\\core\\dispatcher.py:972\u001b[0m, in \u001b[0;36mDispatcher.compile\u001b[1;34m(self, sig)\u001b[0m\n\u001b[0;32m    <a href='file:///c%3A/Users/Ed/anaconda3/envs/sporf/lib/site-packages/numba/core/dispatcher.py?line=969'>970</a>\u001b[0m         \u001b[39mraise\u001b[39;00m e\u001b[39m.\u001b[39mbind_fold_arguments(folded)\n\u001b[0;32m    <a href='file:///c%3A/Users/Ed/anaconda3/envs/sporf/lib/site-packages/numba/core/dispatcher.py?line=970'>971</a>\u001b[0m     \u001b[39mself\u001b[39m\u001b[39m.\u001b[39madd_overload(cres)\n\u001b[1;32m--> <a href='file:///c%3A/Users/Ed/anaconda3/envs/sporf/lib/site-packages/numba/core/dispatcher.py?line=971'>972</a>\u001b[0m \u001b[39mself\u001b[39;49m\u001b[39m.\u001b[39;49m_cache\u001b[39m.\u001b[39;49msave_overload(sig, cres)\n\u001b[0;32m    <a href='file:///c%3A/Users/Ed/anaconda3/envs/sporf/lib/site-packages/numba/core/dispatcher.py?line=972'>973</a>\u001b[0m \u001b[39mreturn\u001b[39;00m cres\u001b[39m.\u001b[39mentry_point\n",
      "File \u001b[1;32m~\\anaconda3\\envs\\sporf\\lib\\site-packages\\numba\\core\\caching.py:664\u001b[0m, in \u001b[0;36mCache.save_overload\u001b[1;34m(self, sig, data)\u001b[0m\n\u001b[0;32m    <a href='file:///c%3A/Users/Ed/anaconda3/envs/sporf/lib/site-packages/numba/core/caching.py?line=659'>660</a>\u001b[0m \u001b[39m\"\"\"\u001b[39;00m\n\u001b[0;32m    <a href='file:///c%3A/Users/Ed/anaconda3/envs/sporf/lib/site-packages/numba/core/caching.py?line=660'>661</a>\u001b[0m \u001b[39mSave the data for the given signature in the cache.\u001b[39;00m\n\u001b[0;32m    <a href='file:///c%3A/Users/Ed/anaconda3/envs/sporf/lib/site-packages/numba/core/caching.py?line=661'>662</a>\u001b[0m \u001b[39m\"\"\"\u001b[39;00m\n\u001b[0;32m    <a href='file:///c%3A/Users/Ed/anaconda3/envs/sporf/lib/site-packages/numba/core/caching.py?line=662'>663</a>\u001b[0m \u001b[39mwith\u001b[39;00m \u001b[39mself\u001b[39m\u001b[39m.\u001b[39m_guard_against_spurious_io_errors():\n\u001b[1;32m--> <a href='file:///c%3A/Users/Ed/anaconda3/envs/sporf/lib/site-packages/numba/core/caching.py?line=663'>664</a>\u001b[0m     \u001b[39mself\u001b[39;49m\u001b[39m.\u001b[39;49m_save_overload(sig, data)\n",
      "File \u001b[1;32m~\\anaconda3\\envs\\sporf\\lib\\site-packages\\numba\\core\\caching.py:674\u001b[0m, in \u001b[0;36mCache._save_overload\u001b[1;34m(self, sig, data)\u001b[0m\n\u001b[0;32m    <a href='file:///c%3A/Users/Ed/anaconda3/envs/sporf/lib/site-packages/numba/core/caching.py?line=671'>672</a>\u001b[0m key \u001b[39m=\u001b[39m \u001b[39mself\u001b[39m\u001b[39m.\u001b[39m_index_key(sig, _get_codegen(data))\n\u001b[0;32m    <a href='file:///c%3A/Users/Ed/anaconda3/envs/sporf/lib/site-packages/numba/core/caching.py?line=672'>673</a>\u001b[0m data \u001b[39m=\u001b[39m \u001b[39mself\u001b[39m\u001b[39m.\u001b[39m_impl\u001b[39m.\u001b[39mreduce(data)\n\u001b[1;32m--> <a href='file:///c%3A/Users/Ed/anaconda3/envs/sporf/lib/site-packages/numba/core/caching.py?line=673'>674</a>\u001b[0m \u001b[39mself\u001b[39;49m\u001b[39m.\u001b[39;49m_cache_file\u001b[39m.\u001b[39;49msave(key, data)\n",
      "File \u001b[1;32m~\\anaconda3\\envs\\sporf\\lib\\site-packages\\numba\\core\\caching.py:479\u001b[0m, in \u001b[0;36mIndexDataCacheFile.save\u001b[1;34m(self, key, data)\u001b[0m\n\u001b[0;32m    <a href='file:///c%3A/Users/Ed/anaconda3/envs/sporf/lib/site-packages/numba/core/caching.py?line=474'>475</a>\u001b[0m \u001b[39mdef\u001b[39;00m \u001b[39msave\u001b[39m(\u001b[39mself\u001b[39m, key, data):\n\u001b[0;32m    <a href='file:///c%3A/Users/Ed/anaconda3/envs/sporf/lib/site-packages/numba/core/caching.py?line=475'>476</a>\u001b[0m     \u001b[39m\"\"\"\u001b[39;00m\n\u001b[0;32m    <a href='file:///c%3A/Users/Ed/anaconda3/envs/sporf/lib/site-packages/numba/core/caching.py?line=476'>477</a>\u001b[0m \u001b[39m    Save a new cache entry with *key* and *data*.\u001b[39;00m\n\u001b[0;32m    <a href='file:///c%3A/Users/Ed/anaconda3/envs/sporf/lib/site-packages/numba/core/caching.py?line=477'>478</a>\u001b[0m \u001b[39m    \"\"\"\u001b[39;00m\n\u001b[1;32m--> <a href='file:///c%3A/Users/Ed/anaconda3/envs/sporf/lib/site-packages/numba/core/caching.py?line=478'>479</a>\u001b[0m     overloads \u001b[39m=\u001b[39m \u001b[39mself\u001b[39;49m\u001b[39m.\u001b[39;49m_load_index()\n\u001b[0;32m    <a href='file:///c%3A/Users/Ed/anaconda3/envs/sporf/lib/site-packages/numba/core/caching.py?line=479'>480</a>\u001b[0m     \u001b[39mtry\u001b[39;00m:\n\u001b[0;32m    <a href='file:///c%3A/Users/Ed/anaconda3/envs/sporf/lib/site-packages/numba/core/caching.py?line=480'>481</a>\u001b[0m         \u001b[39m# If key already exists, we will overwrite the file\u001b[39;00m\n\u001b[0;32m    <a href='file:///c%3A/Users/Ed/anaconda3/envs/sporf/lib/site-packages/numba/core/caching.py?line=481'>482</a>\u001b[0m         data_name \u001b[39m=\u001b[39m overloads[key]\n",
      "File \u001b[1;32m~\\anaconda3\\envs\\sporf\\lib\\site-packages\\numba\\core\\caching.py:524\u001b[0m, in \u001b[0;36mIndexDataCacheFile._load_index\u001b[1;34m(self)\u001b[0m\n\u001b[0;32m    <a href='file:///c%3A/Users/Ed/anaconda3/envs/sporf/lib/site-packages/numba/core/caching.py?line=519'>520</a>\u001b[0m \u001b[39mif\u001b[39;00m version \u001b[39m!=\u001b[39m \u001b[39mself\u001b[39m\u001b[39m.\u001b[39m_version:\n\u001b[0;32m    <a href='file:///c%3A/Users/Ed/anaconda3/envs/sporf/lib/site-packages/numba/core/caching.py?line=520'>521</a>\u001b[0m     \u001b[39m# This is another version.  Avoid trying to unpickling the\u001b[39;00m\n\u001b[0;32m    <a href='file:///c%3A/Users/Ed/anaconda3/envs/sporf/lib/site-packages/numba/core/caching.py?line=521'>522</a>\u001b[0m     \u001b[39m# rest of the stream, as that may fail.\u001b[39;00m\n\u001b[0;32m    <a href='file:///c%3A/Users/Ed/anaconda3/envs/sporf/lib/site-packages/numba/core/caching.py?line=522'>523</a>\u001b[0m     \u001b[39mreturn\u001b[39;00m {}\n\u001b[1;32m--> <a href='file:///c%3A/Users/Ed/anaconda3/envs/sporf/lib/site-packages/numba/core/caching.py?line=523'>524</a>\u001b[0m stamp, overloads \u001b[39m=\u001b[39m pickle\u001b[39m.\u001b[39;49mloads(data)\n\u001b[0;32m    <a href='file:///c%3A/Users/Ed/anaconda3/envs/sporf/lib/site-packages/numba/core/caching.py?line=524'>525</a>\u001b[0m _cache_log(\u001b[39m\"\u001b[39m\u001b[39m[cache] index loaded from \u001b[39m\u001b[39m%r\u001b[39;00m\u001b[39m\"\u001b[39m, \u001b[39mself\u001b[39m\u001b[39m.\u001b[39m_index_path)\n\u001b[0;32m    <a href='file:///c%3A/Users/Ed/anaconda3/envs/sporf/lib/site-packages/numba/core/caching.py?line=525'>526</a>\u001b[0m \u001b[39mif\u001b[39;00m stamp \u001b[39m!=\u001b[39m \u001b[39mself\u001b[39m\u001b[39m.\u001b[39m_source_stamp:\n\u001b[0;32m    <a href='file:///c%3A/Users/Ed/anaconda3/envs/sporf/lib/site-packages/numba/core/caching.py?line=526'>527</a>\u001b[0m     \u001b[39m# Cache is not fresh.  Stale data files will be eventually\u001b[39;00m\n\u001b[0;32m    <a href='file:///c%3A/Users/Ed/anaconda3/envs/sporf/lib/site-packages/numba/core/caching.py?line=527'>528</a>\u001b[0m     \u001b[39m# overwritten, since they are numbered in incrementing order.\u001b[39;00m\n",
      "File \u001b[1;32m~\\anaconda3\\envs\\sporf\\lib\\site-packages\\numba\\core\\types\\abstract.py:77\u001b[0m, in \u001b[0;36m_type_reconstructor\u001b[1;34m(reconstructor, reconstructor_args, state)\u001b[0m\n\u001b[0;32m     <a href='file:///c%3A/Users/Ed/anaconda3/envs/sporf/lib/site-packages/numba/core/types/abstract.py?line=74'>75</a>\u001b[0m \u001b[39mif\u001b[39;00m state:\n\u001b[0;32m     <a href='file:///c%3A/Users/Ed/anaconda3/envs/sporf/lib/site-packages/numba/core/types/abstract.py?line=75'>76</a>\u001b[0m     obj\u001b[39m.\u001b[39m\u001b[39m__dict__\u001b[39m\u001b[39m.\u001b[39mupdate(state)\n\u001b[1;32m---> <a href='file:///c%3A/Users/Ed/anaconda3/envs/sporf/lib/site-packages/numba/core/types/abstract.py?line=76'>77</a>\u001b[0m \u001b[39mreturn\u001b[39;00m \u001b[39mtype\u001b[39;49m(obj)\u001b[39m.\u001b[39;49m_intern(obj)\n",
      "File \u001b[1;32m~\\anaconda3\\envs\\sporf\\lib\\site-packages\\numba\\core\\types\\abstract.py:51\u001b[0m, in \u001b[0;36m_TypeMetaclass._intern\u001b[1;34m(cls, inst)\u001b[0m\n\u001b[0;32m     <a href='file:///c%3A/Users/Ed/anaconda3/envs/sporf/lib/site-packages/numba/core/types/abstract.py?line=47'>48</a>\u001b[0m \u001b[39mdef\u001b[39;00m \u001b[39m_intern\u001b[39m(\u001b[39mcls\u001b[39m, inst):\n\u001b[0;32m     <a href='file:///c%3A/Users/Ed/anaconda3/envs/sporf/lib/site-packages/numba/core/types/abstract.py?line=48'>49</a>\u001b[0m     \u001b[39m# Try to intern the created instance\u001b[39;00m\n\u001b[0;32m     <a href='file:///c%3A/Users/Ed/anaconda3/envs/sporf/lib/site-packages/numba/core/types/abstract.py?line=49'>50</a>\u001b[0m     wr \u001b[39m=\u001b[39m weakref\u001b[39m.\u001b[39mref(inst, _on_type_disposal)\n\u001b[1;32m---> <a href='file:///c%3A/Users/Ed/anaconda3/envs/sporf/lib/site-packages/numba/core/types/abstract.py?line=50'>51</a>\u001b[0m     orig \u001b[39m=\u001b[39m _typecache\u001b[39m.\u001b[39;49mget(wr)\n\u001b[0;32m     <a href='file:///c%3A/Users/Ed/anaconda3/envs/sporf/lib/site-packages/numba/core/types/abstract.py?line=51'>52</a>\u001b[0m     orig \u001b[39m=\u001b[39m orig \u001b[39mand\u001b[39;00m orig()\n\u001b[0;32m     <a href='file:///c%3A/Users/Ed/anaconda3/envs/sporf/lib/site-packages/numba/core/types/abstract.py?line=52'>53</a>\u001b[0m     \u001b[39mif\u001b[39;00m orig \u001b[39mis\u001b[39;00m \u001b[39mnot\u001b[39;00m \u001b[39mNone\u001b[39;00m:\n",
      "File \u001b[1;32m~\\anaconda3\\envs\\sporf\\lib\\site-packages\\numba\\core\\types\\abstract.py:118\u001b[0m, in \u001b[0;36mType.__hash__\u001b[1;34m(self)\u001b[0m\n\u001b[0;32m    <a href='file:///c%3A/Users/Ed/anaconda3/envs/sporf/lib/site-packages/numba/core/types/abstract.py?line=116'>117</a>\u001b[0m \u001b[39mdef\u001b[39;00m \u001b[39m__hash__\u001b[39m(\u001b[39mself\u001b[39m):\n\u001b[1;32m--> <a href='file:///c%3A/Users/Ed/anaconda3/envs/sporf/lib/site-packages/numba/core/types/abstract.py?line=117'>118</a>\u001b[0m     \u001b[39mreturn\u001b[39;00m \u001b[39mhash\u001b[39m(\u001b[39mself\u001b[39;49m\u001b[39m.\u001b[39;49mkey)\n",
      "File \u001b[1;32m~\\anaconda3\\envs\\sporf\\lib\\site-packages\\numba\\core\\types\\misc.py:228\u001b[0m, in \u001b[0;36mOptional.key\u001b[1;34m(self)\u001b[0m\n\u001b[0;32m    <a href='file:///c%3A/Users/Ed/anaconda3/envs/sporf/lib/site-packages/numba/core/types/misc.py?line=225'>226</a>\u001b[0m \u001b[39m@property\u001b[39m\n\u001b[0;32m    <a href='file:///c%3A/Users/Ed/anaconda3/envs/sporf/lib/site-packages/numba/core/types/misc.py?line=226'>227</a>\u001b[0m \u001b[39mdef\u001b[39;00m \u001b[39mkey\u001b[39m(\u001b[39mself\u001b[39m):\n\u001b[1;32m--> <a href='file:///c%3A/Users/Ed/anaconda3/envs/sporf/lib/site-packages/numba/core/types/misc.py?line=227'>228</a>\u001b[0m     \u001b[39mreturn\u001b[39;00m \u001b[39mself\u001b[39;49m\u001b[39m.\u001b[39;49mtype\n",
      "\u001b[1;31mAttributeError\u001b[0m: 'Optional' object has no attribute 'type'"
     ]
    }
   ],
   "source": [
    "_predict_tree(tree, X, 3)"
   ]
  },
  {
   "cell_type": "code",
   "execution_count": null,
   "id": "a781fb14",
   "metadata": {},
   "outputs": [
    {
     "ename": "NameError",
     "evalue": "name '_predict' is not defined",
     "output_type": "error",
     "traceback": [
      "\u001b[1;31m---------------------------------------------------------------------------\u001b[0m",
      "\u001b[1;31mNameError\u001b[0m                                 Traceback (most recent call last)",
      "\u001b[1;32mc:\\Users\\Ed\\OneDrive - Johns Hopkins\\Desktop\\Adv_ML_Project\\RF.ipynb Cell 4'\u001b[0m in \u001b[0;36m<module>\u001b[1;34m\u001b[0m\n\u001b[1;32m----> <a href='vscode-notebook-cell:/c%3A/Users/Ed/OneDrive%20-%20Johns%20Hopkins/Desktop/Adv_ML_Project/RF.ipynb#ch0000023?line=0'>1</a>\u001b[0m get_ipython()\u001b[39m.\u001b[39;49mrun_line_magic(\u001b[39m'\u001b[39;49m\u001b[39mtimeit\u001b[39;49m\u001b[39m'\u001b[39;49m, \u001b[39m'\u001b[39;49m\u001b[39m_predict(tree, X, 3)\u001b[39;49m\u001b[39m'\u001b[39;49m)\n",
      "File \u001b[1;32m~\\anaconda3\\envs\\sporf\\lib\\site-packages\\IPython\\core\\interactiveshell.py:2204\u001b[0m, in \u001b[0;36mInteractiveShell.run_line_magic\u001b[1;34m(self, magic_name, line, _stack_depth)\u001b[0m\n\u001b[0;32m   <a href='file:///c%3A/Users/Ed/anaconda3/envs/sporf/lib/site-packages/IPython/core/interactiveshell.py?line=2201'>2202</a>\u001b[0m     kwargs[\u001b[39m'\u001b[39m\u001b[39mlocal_ns\u001b[39m\u001b[39m'\u001b[39m] \u001b[39m=\u001b[39m \u001b[39mself\u001b[39m\u001b[39m.\u001b[39mget_local_scope(stack_depth)\n\u001b[0;32m   <a href='file:///c%3A/Users/Ed/anaconda3/envs/sporf/lib/site-packages/IPython/core/interactiveshell.py?line=2202'>2203</a>\u001b[0m \u001b[39mwith\u001b[39;00m \u001b[39mself\u001b[39m\u001b[39m.\u001b[39mbuiltin_trap:\n\u001b[1;32m-> <a href='file:///c%3A/Users/Ed/anaconda3/envs/sporf/lib/site-packages/IPython/core/interactiveshell.py?line=2203'>2204</a>\u001b[0m     result \u001b[39m=\u001b[39m fn(\u001b[39m*\u001b[39;49margs, \u001b[39m*\u001b[39;49m\u001b[39m*\u001b[39;49mkwargs)\n\u001b[0;32m   <a href='file:///c%3A/Users/Ed/anaconda3/envs/sporf/lib/site-packages/IPython/core/interactiveshell.py?line=2204'>2205</a>\u001b[0m \u001b[39mreturn\u001b[39;00m result\n",
      "File \u001b[1;32m~\\anaconda3\\envs\\sporf\\lib\\site-packages\\IPython\\core\\magics\\execution.py:1162\u001b[0m, in \u001b[0;36mExecutionMagics.timeit\u001b[1;34m(self, line, cell, local_ns)\u001b[0m\n\u001b[0;32m   <a href='file:///c%3A/Users/Ed/anaconda3/envs/sporf/lib/site-packages/IPython/core/magics/execution.py?line=1159'>1160</a>\u001b[0m \u001b[39mfor\u001b[39;00m index \u001b[39min\u001b[39;00m \u001b[39mrange\u001b[39m(\u001b[39m0\u001b[39m, \u001b[39m10\u001b[39m):\n\u001b[0;32m   <a href='file:///c%3A/Users/Ed/anaconda3/envs/sporf/lib/site-packages/IPython/core/magics/execution.py?line=1160'>1161</a>\u001b[0m     number \u001b[39m=\u001b[39m \u001b[39m10\u001b[39m \u001b[39m*\u001b[39m\u001b[39m*\u001b[39m index\n\u001b[1;32m-> <a href='file:///c%3A/Users/Ed/anaconda3/envs/sporf/lib/site-packages/IPython/core/magics/execution.py?line=1161'>1162</a>\u001b[0m     time_number \u001b[39m=\u001b[39m timer\u001b[39m.\u001b[39;49mtimeit(number)\n\u001b[0;32m   <a href='file:///c%3A/Users/Ed/anaconda3/envs/sporf/lib/site-packages/IPython/core/magics/execution.py?line=1162'>1163</a>\u001b[0m     \u001b[39mif\u001b[39;00m time_number \u001b[39m>\u001b[39m\u001b[39m=\u001b[39m \u001b[39m0.2\u001b[39m:\n\u001b[0;32m   <a href='file:///c%3A/Users/Ed/anaconda3/envs/sporf/lib/site-packages/IPython/core/magics/execution.py?line=1163'>1164</a>\u001b[0m         \u001b[39mbreak\u001b[39;00m\n",
      "File \u001b[1;32m~\\anaconda3\\envs\\sporf\\lib\\site-packages\\IPython\\core\\magics\\execution.py:156\u001b[0m, in \u001b[0;36mTimer.timeit\u001b[1;34m(self, number)\u001b[0m\n\u001b[0;32m    <a href='file:///c%3A/Users/Ed/anaconda3/envs/sporf/lib/site-packages/IPython/core/magics/execution.py?line=153'>154</a>\u001b[0m gc\u001b[39m.\u001b[39mdisable()\n\u001b[0;32m    <a href='file:///c%3A/Users/Ed/anaconda3/envs/sporf/lib/site-packages/IPython/core/magics/execution.py?line=154'>155</a>\u001b[0m \u001b[39mtry\u001b[39;00m:\n\u001b[1;32m--> <a href='file:///c%3A/Users/Ed/anaconda3/envs/sporf/lib/site-packages/IPython/core/magics/execution.py?line=155'>156</a>\u001b[0m     timing \u001b[39m=\u001b[39m \u001b[39mself\u001b[39;49m\u001b[39m.\u001b[39;49minner(it, \u001b[39mself\u001b[39;49m\u001b[39m.\u001b[39;49mtimer)\n\u001b[0;32m    <a href='file:///c%3A/Users/Ed/anaconda3/envs/sporf/lib/site-packages/IPython/core/magics/execution.py?line=156'>157</a>\u001b[0m \u001b[39mfinally\u001b[39;00m:\n\u001b[0;32m    <a href='file:///c%3A/Users/Ed/anaconda3/envs/sporf/lib/site-packages/IPython/core/magics/execution.py?line=157'>158</a>\u001b[0m     \u001b[39mif\u001b[39;00m gcold:\n",
      "File \u001b[1;32m<magic-timeit>:1\u001b[0m, in \u001b[0;36minner\u001b[1;34m(_it, _timer)\u001b[0m\n",
      "\u001b[1;31mNameError\u001b[0m: name '_predict' is not defined"
     ]
    }
   ],
   "source": [
    "%timeit _predict_tree(tree, X, 3)"
   ]
  },
  {
   "cell_type": "code",
   "execution_count": 4,
   "id": "4100bde7",
   "metadata": {},
   "outputs": [
    {
     "name": "stderr",
     "output_type": "stream",
     "text": [
      "c:\\Users\\Ed\\OneDrive - Johns Hopkins\\Desktop\\Adv_ML_Project\\sporgboost\\common\\_grow.py:36: NumbaWarning: \u001b[1mCannot cache compiled function \"_grow_tree\" as it uses dynamic globals (such as ctypes pointers and large global arrays)\u001b[0m\n",
      "  @njit(parallel=True, cache=True)\n"
     ]
    }
   ],
   "source": [
    "tree = _grow_tree(X, y, proj = identity, max_depth = None)"
   ]
  },
  {
   "cell_type": "code",
   "execution_count": 8,
   "id": "7f121245",
   "metadata": {},
   "outputs": [
    {
     "ename": "TypeError",
     "evalue": "some keyword arguments unexpected",
     "output_type": "error",
     "traceback": [
      "\u001b[1;31m---------------------------------------------------------------------------\u001b[0m",
      "\u001b[1;31mTypeError\u001b[0m                                 Traceback (most recent call last)",
      "Input \u001b[1;32mIn [8]\u001b[0m, in \u001b[0;36m<module>\u001b[1;34m\u001b[0m\n\u001b[1;32m----> 1\u001b[0m tree \u001b[39m=\u001b[39m _grow_tree(X, y, \u001b[39m2\u001b[39;49m, \u001b[39m3\u001b[39;49m, proj \u001b[39m=\u001b[39;49m sparse_random, max_depth \u001b[39m=\u001b[39;49m \u001b[39mNone\u001b[39;49;00m)\n",
      "\u001b[1;31mTypeError\u001b[0m: some keyword arguments unexpected"
     ]
    }
   ],
   "source": [
    "tree = _grow_tree(X, y, 2, 3, proj = sparse_random, max_depth = None)"
   ]
  },
  {
   "cell_type": "code",
   "execution_count": 6,
   "id": "5bc55052",
   "metadata": {},
   "outputs": [],
   "source": [
    "from sklearn.model_selection import train_test_split\n",
    "X_train, X_test, y_train, y_test = train_test_split(X, y, train_size=0.2, random_state=1234)"
   ]
  },
  {
   "cell_type": "code",
   "execution_count": 19,
   "id": "f8e5cedd",
   "metadata": {},
   "outputs": [
    {
     "name": "stdout",
     "output_type": "stream",
     "text": [
      "Fitting sporf\n",
      "Fitting sporgboost\n"
     ]
    }
   ],
   "source": [
    "models = {\n",
    "    # 'rf' : RandomForest(),\n",
    "    # 'ab' : AdaBoost(),\n",
    "    'sporf' : SPORF(d=2, s=3),\n",
    "    'sporgboost' : SPORGBoost(d=2, s=3, max_depth=2),\n",
    "    # 'rrf' : RotationalRandomForest(K=2),\n",
    "    # 'rotboost' : RotBoost(K=2)\n",
    "}\n",
    "\n",
    "for k, m in models.items():\n",
    "    print(f\"Fitting {k}\")\n",
    "    m.fit(X_train, y_train)\n"
   ]
  },
  {
   "cell_type": "code",
   "execution_count": 22,
   "id": "099def50",
   "metadata": {},
   "outputs": [
    {
     "name": "stdout",
     "output_type": "stream",
     "text": [
      "CPU times: total: 0 ns\n",
      "Wall time: 0 ns\n"
     ]
    }
   ],
   "source": [
    "%time\n",
    "models['sporgboost'].fit(X_train, y_train)"
   ]
  },
  {
   "cell_type": "code",
   "execution_count": 7,
   "id": "b6c682ce",
   "metadata": {},
   "outputs": [
    {
     "name": "stdout",
     "output_type": "stream",
     "text": [
      "CPU times: total: 594 ms\n",
      "Wall time: 597 ms\n"
     ]
    },
    {
     "data": {
      "text/plain": [
       "RandomForestClassifier()"
      ]
     },
     "execution_count": 7,
     "metadata": {},
     "output_type": "execute_result"
    }
   ],
   "source": [
    "%%time\n",
    "from sklearn.ensemble import RandomForestClassifier\n",
    "rf = RandomForestClassifier()\n",
    "rf.fit(X_train, y_train)"
   ]
  },
  {
   "cell_type": "code",
   "execution_count": 13,
   "id": "13373da9",
   "metadata": {},
   "outputs": [
    {
     "data": {
      "text/plain": [
       "[array([[0.31, 0.69],\n",
       "        [0.21, 0.79],\n",
       "        [0.37, 0.63],\n",
       "        ...,\n",
       "        [0.33, 0.67],\n",
       "        [0.32, 0.68],\n",
       "        [0.51, 0.49]]),\n",
       " array([[0.69, 0.31],\n",
       "        [0.79, 0.21],\n",
       "        [0.63, 0.37],\n",
       "        ...,\n",
       "        [0.67, 0.33],\n",
       "        [0.68, 0.32],\n",
       "        [0.49, 0.51]])]"
      ]
     },
     "execution_count": 13,
     "metadata": {},
     "output_type": "execute_result"
    }
   ],
   "source": [
    "rf.predict_proba(X_test)"
   ]
  },
  {
   "cell_type": "code",
   "execution_count": 14,
   "id": "32a7e82c",
   "metadata": {},
   "outputs": [
    {
     "data": {
      "text/plain": [
       "0.9192514784504009"
      ]
     },
     "execution_count": 14,
     "metadata": {},
     "output_type": "execute_result"
    }
   ],
   "source": [
    "roc_auc_score(y_test, rf.predict_proba(X_test)[1], multi_class='ovo')"
   ]
  },
  {
   "cell_type": "code",
   "execution_count": 24,
   "id": "a4b5eee3",
   "metadata": {},
   "outputs": [],
   "source": [
    "from sklearn.metrics import accuracy_score\n",
    "# accuracy_score(y_test, rf.predict(X_test))"
   ]
  },
  {
   "cell_type": "code",
   "execution_count": 26,
   "id": "90b45409",
   "metadata": {},
   "outputs": [
    {
     "data": {
      "text/plain": [
       "{'sporf': 0.7630681818181818, 'sporgboost': 0.6098863636363636}"
      ]
     },
     "execution_count": 26,
     "metadata": {},
     "output_type": "execute_result"
    }
   ],
   "source": [
    "# Get AUC scores\n",
    "auc = {key : accuracy_score(y_test, model.predict(X_test)) for key, model in models.items() if key in {'sporf','sporgboost'}}\n",
    "auc"
   ]
  }
 ],
 "metadata": {
  "kernelspec": {
   "display_name": "SPORF",
   "language": "python",
   "name": "sporf"
  },
  "language_info": {
   "codemirror_mode": {
    "name": "ipython",
    "version": 3
   },
   "file_extension": ".py",
   "mimetype": "text/x-python",
   "name": "python",
   "nbconvert_exporter": "python",
   "pygments_lexer": "ipython3",
   "version": "3.8.12"
  }
 },
 "nbformat": 4,
 "nbformat_minor": 5
}
