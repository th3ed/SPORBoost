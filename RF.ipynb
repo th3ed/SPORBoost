{
 "cells": [
  {
   "cell_type": "code",
   "execution_count": 1,
   "id": "3597138f-3be1-4461-a020-dba09287bb91",
   "metadata": {},
   "outputs": [],
   "source": [
    "import numpy as np\n",
    "from sklearn.datasets import load_iris\n",
    "from sporgboost.preprocessing import onehot_encode, shuffle\n",
    "from sporgboost.forests import *\n",
    "from sklearn.metrics import roc_auc_score"
   ]
  },
  {
   "cell_type": "code",
   "execution_count": 2,
   "id": "5c149194-7402-4486-90f2-f11a1d6323a6",
   "metadata": {},
   "outputs": [],
   "source": [
    "# Dataset for testing\n",
    "X, y = load_iris(return_X_y = True)\n",
    "\n",
    "# Set seed to be able to reproduce\n",
    "np.random.seed(1234)\n",
    "    \n",
    "# Preprocessing\n",
    "y = onehot_encode(y)\n",
    "X, y = shuffle(X, y)\n",
    "\n",
    "# Train and Test Splits\n",
    "X_train, y_train = X[:-50,:], y[:-50,:]\n",
    "X_test, y_test = X[-50:,:], y[-50:,:]\n"
   ]
  },
  {
   "cell_type": "code",
   "execution_count": 14,
   "id": "f8e5cedd",
   "metadata": {},
   "outputs": [],
   "source": [
    "models = {\n",
    "    'rf' : RandomForest(),\n",
    "    'ab' : AdaBoost(),\n",
    "    'sporf' : SPORF(d=2, s=3),\n",
    "    'sporgboost' : SPORGBoost(d=2, s=3),\n",
    "    'rrf' : RotationalRandomForest(K=2),\n",
    "    'rotboost' : RotBoost(K=2)\n",
    "}\n",
    "\n",
    "_ = [m.fit(X_train, y_train) for m in models.values()]\n"
   ]
  },
  {
   "cell_type": "code",
   "execution_count": 15,
   "id": "9a9cba46",
   "metadata": {},
   "outputs": [
    {
     "name": "stdout",
     "output_type": "stream",
     "text": [
      "1.03 s ± 4.84 ms per loop (mean ± std. dev. of 7 runs, 1 loop each)\n"
     ]
    }
   ],
   "source": [
    "%timeit _ = [m.fit(X_train, y_train) for m in models.values()]"
   ]
  },
  {
   "cell_type": "code",
   "execution_count": 198,
   "id": "f05569d5",
   "metadata": {},
   "outputs": [],
   "source": [
    "import requests\n",
    "import pandas as pd\n",
    "import yaml\n",
    "import numpy as np\n",
    "\n",
    "def parse_dataset_metadata(path):\n",
    "    # Read yaml\n",
    "    dfs = yaml.safe_load(open(path, 'rb'))\n",
    "\n",
    "    # Structure dictionary so we can read this data in later\n",
    "    out = {}\n",
    "    for df, meta in dfs.items():\n",
    "        out[df] = {\n",
    "            'url' : meta['url'],\n",
    "            'missing_ind' : meta['missing_ind'],\n",
    "            'columns' : list(meta['columns'].keys()),\n",
    "            'dtype' : meta['columns']\n",
    "        }\n",
    "\n",
    "    return out\n",
    "\n",
    "def get_dataset(url, columns, dtype, missing_ind):\n",
    "    # Grab data from web\n",
    "    data = requests.get(url).content\n",
    "\n",
    "    # Decode the data, split on rows, remove leading/trailing whitespace, and then finally split on cols\n",
    "    rows = [l.strip().split(\" \") for l in data.decode('utf-8').split('\\n') if l.strip() != \"\"]\n",
    "\n",
    "    # Convert to a pandas dataframe\n",
    "    dtype_mapping = {\n",
    "        'ordinal' : 'float32',\n",
    "        'target' : 'category',\n",
    "        'continuous' : 'float32',\n",
    "        \"category\" : \"category\"\n",
    "    }\n",
    "    # Validate we only have valid input types\n",
    "    input_dtypes = set(dtype.values())\n",
    "    bad_dtypes = input_dtypes - dtype_mapping.keys()\n",
    "    if len(bad_dtypes) > 0:\n",
    "        raise ValueError(f\"Bad dtypes found in schema: {bad_dtypes}\")\n",
    "    pd_dtypes = {col : dtype_mapping[t] for col, t in dtype.items()}\n",
    "    \n",
    "    # Convert to a pandas dataframe with appropriate schema\n",
    "    df = pd.DataFrame(rows, columns = columns) \\\n",
    "    .replace(missing_ind, np.nan) \\\n",
    "    .astype(pd_dtypes)\n",
    "    \n",
    "    return df\n",
    "\n",
    "meta = parse_dataset_metadata('datasets.yml')\n",
    "dfs = {name : get_dataset(**info) for name, info in meta.items()}"
   ]
  },
  {
   "cell_type": "code",
   "execution_count": 199,
   "id": "b9d83271",
   "metadata": {},
   "outputs": [
    {
     "data": {
      "text/plain": [
       "{'horse-colic':     Surgery  Age Hospital_Number  Rectal_Temperature  Pulse  Respiratory_Rate  \\\n",
       " 0         2  1.0          530101           38.500000   66.0              28.0   \n",
       " 1         1  1.0          534817           39.200001   88.0              20.0   \n",
       " 2         2  1.0          530334           38.299999   40.0              24.0   \n",
       " 3         1  9.0         5290409           39.099998  164.0              84.0   \n",
       " 4         2  1.0          530255           37.299999  104.0              35.0   \n",
       " ..      ...  ...             ...                 ...    ...               ...   \n",
       " 295       1  1.0          533886                 NaN  120.0              70.0   \n",
       " 296       2  1.0          527702           37.200001   72.0              24.0   \n",
       " 297       1  1.0          529386           37.500000   72.0              30.0   \n",
       " 298       1  1.0          530612           36.500000  100.0              24.0   \n",
       " 299       1  1.0          534618           37.200001   40.0              20.0   \n",
       " \n",
       "      Temperature_Extremities Peripheral_Pulse Mucous_Membranes  \\\n",
       " 0                        3.0                3              NaN   \n",
       " 1                        NaN              NaN                4   \n",
       " 2                        1.0                1                3   \n",
       " 3                        4.0                1                6   \n",
       " 4                        NaN              NaN                6   \n",
       " ..                       ...              ...              ...   \n",
       " 295                      4.0              NaN                4   \n",
       " 296                      3.0                2                4   \n",
       " 297                      4.0                3                4   \n",
       " 298                      3.0                3                3   \n",
       " 299                      NaN              NaN              NaN   \n",
       " \n",
       "      Capilary_Refill_Time  ...  Packed_Cell_Volume  Total_Protein  \\\n",
       " 0                     2.0  ...                45.0            8.4   \n",
       " 1                     1.0  ...                50.0           85.0   \n",
       " 2                     1.0  ...                33.0            6.7   \n",
       " 3                     2.0  ...                48.0            7.2   \n",
       " 4                     2.0  ...                74.0            7.4   \n",
       " ..                    ...  ...                 ...            ...   \n",
       " 295                   2.0  ...                55.0           65.0   \n",
       " 296                   2.0  ...                44.0            NaN   \n",
       " 297                   1.0  ...                60.0            6.8   \n",
       " 298                   1.0  ...                50.0            6.0   \n",
       " 299                   NaN  ...                36.0           62.0   \n",
       " \n",
       "      Abdominocentesis_Appearance  Abdomcentesis_Total_Protein Outcome  \\\n",
       " 0                            NaN                          NaN       2   \n",
       " 1                            2.0                          2.0       3   \n",
       " 2                            NaN                          NaN       1   \n",
       " 3                            3.0                          5.3       2   \n",
       " 4                            NaN                          NaN       2   \n",
       " ..                           ...                          ...     ...   \n",
       " 295                          NaN                          NaN       3   \n",
       " 296                          3.0                          3.3       3   \n",
       " 297                          NaN                          NaN       2   \n",
       " 298                          3.0                          3.4       1   \n",
       " 299                          1.0                          1.0       3   \n",
       " \n",
       "      Surgical_Lesion Lesion1 Lesion2  Lesion3  cp_data  \n",
       " 0                2.0   11300   00000    00000        2  \n",
       " 1                2.0   02208   00000    00000        2  \n",
       " 2                2.0   00000   00000    00000        1  \n",
       " 3                1.0   02208   00000    00000        1  \n",
       " 4                2.0   04300   00000    00000        2  \n",
       " ..               ...     ...     ...      ...      ...  \n",
       " 295              2.0   03205   00000    00000        2  \n",
       " 296              1.0   02208   00000    00000        1  \n",
       " 297              1.0   03205   00000    00000        2  \n",
       " 298              1.0   02208   00000    00000        1  \n",
       " 299              2.0   06112   00000    00000        2  \n",
       " \n",
       " [300 rows x 28 columns]}"
      ]
     },
     "execution_count": 199,
     "metadata": {},
     "output_type": "execute_result"
    }
   ],
   "source": [
    "dfs"
   ]
  },
  {
   "cell_type": "code",
   "execution_count": 196,
   "id": "a425757d",
   "metadata": {},
   "outputs": [
    {
     "data": {
      "text/plain": [
       "Surgery                        category\n",
       "Age                             float32\n",
       "Hospital_Number                category\n",
       "Rectal_Temperature              float32\n",
       "Pulse                           float32\n",
       "Respiratory_Rate                float32\n",
       "Temperature_Extremities         float32\n",
       "Peripheral_Pulse               category\n",
       "Mucous_Membranes               category\n",
       "Capilary_Refill_Time            float32\n",
       "Pain                            float32\n",
       "Peristalsis                     float32\n",
       "Abdominal_Distension            float32\n",
       "Nasogastric_Tube                float32\n",
       "Nasogastric_Reflux             category\n",
       "Nasogastric_Reflux_PH           float32\n",
       "Rectal_Examination_Feces       category\n",
       "Abdomen                        category\n",
       "Packed_Cell_Volume              float32\n",
       "Total_Protein                   float32\n",
       "Abdominocentesis_Appearance     float32\n",
       "Abdomcentesis_Total_Protein     float32\n",
       "Outcome                        category\n",
       "Surgical_Lesion                 float32\n",
       "Lesion1                        category\n",
       "Lesion2                        category\n",
       "Lesion3                        category\n",
       "cp_data                        category\n",
       "dtype: object"
      ]
     },
     "execution_count": 196,
     "metadata": {},
     "output_type": "execute_result"
    }
   ],
   "source": [
    "pd.DataFrame(dfs['horse-colic'][0], columns = dfs['horse-colic'][1]) \\\n",
    ".replace(\"?\", np.nan) \\\n",
    ".astype(dfs['horse-colic'][2]).dtypes"
   ]
  },
  {
   "cell_type": "code",
   "execution_count": 56,
   "id": "13b32999",
   "metadata": {},
   "outputs": [],
   "source": [
    "# Process data from UCI\n",
    "def get_data(url):\n",
    "\n",
    "\n",
    "    return rows\n",
    "\n",
    "# url_data = \"https://archive.ics.uci.edu/ml/machine-learning-databases/horse-colic/horse-colic.data\"\n",
    "# data_rows = get_data(url_data)\n",
    "metadata = get_metadata(url_meta)"
   ]
  },
  {
   "cell_type": "code",
   "execution_count": 133,
   "id": "eff8260d",
   "metadata": {},
   "outputs": [
    {
     "data": {
      "text/plain": [
       "array(['surgery?', 'Age', 'Hospital Number', 'rectal temperature',\n",
       "       'pulse', 'respiratory rate', 'temperature of extremities',\n",
       "       'peripheral pulse', 'mucous membranes', 'capillary refill time',\n",
       "       \"pain - a subjective judgement of the horse's pain level\",\n",
       "       'peristalsis', 'abdominal distension', 'nasogastric tube',\n",
       "       'nasogastric reflux', 'nasogastric reflux PH',\n",
       "       'rectal examination - feces', 'abdomen', 'packed cell volume',\n",
       "       'total protein', 'abdominocentesis appearance',\n",
       "       'abdomcentesis total protein', 'outcome', 'surgical lesion?',\n",
       "       'cp_data'], dtype=object)"
      ]
     },
     "execution_count": 133,
     "metadata": {},
     "output_type": "execute_result"
    }
   ],
   "source": [
    "# Find the lines associated with the attribute information\n",
    "import numpy as np\n",
    "meta = pd.Series(metadata.decode('utf-8').split(\"\\n\"), name='lines')\n",
    "meta = meta.str.strip()\n",
    "# meta = meta[meta != ''].reset_index(drop=True)\n",
    "\n",
    "attr_start = meta.index[meta.str.contains(\"7. Attribute\")].values[0] + 1\n",
    "attr_end = meta.index[meta.str.contains(\"8. Missing\")].values[0] - 1\n",
    "meta = meta.loc[attr_start:attr_end]\n",
    "\n",
    "# Get series names \n",
    "cols = meta[meta.str.match(\"^[0-9]+:\")].str.replace(\"^.*:\", \"\", regex=True).str.strip().values\n",
    "cols\n",
    "# meta"
   ]
  },
  {
   "cell_type": "code",
   "execution_count": 119,
   "id": "1a23c04f",
   "metadata": {},
   "outputs": [
    {
     "name": "stdout",
     "output_type": "stream",
     "text": [
      "\u001b[1;31mSignature:\u001b[0m \u001b[0mstr\u001b[0m\u001b[1;33m.\u001b[0m\u001b[0msplit\u001b[0m\u001b[1;33m(\u001b[0m\u001b[0mself\u001b[0m\u001b[1;33m,\u001b[0m \u001b[1;33m/\u001b[0m\u001b[1;33m,\u001b[0m \u001b[0msep\u001b[0m\u001b[1;33m=\u001b[0m\u001b[1;32mNone\u001b[0m\u001b[1;33m,\u001b[0m \u001b[0mmaxsplit\u001b[0m\u001b[1;33m=\u001b[0m\u001b[1;33m-\u001b[0m\u001b[1;36m1\u001b[0m\u001b[1;33m)\u001b[0m\u001b[1;33m\u001b[0m\u001b[1;33m\u001b[0m\u001b[0m\n",
      "\u001b[1;31mDocstring:\u001b[0m\n",
      "Return a list of the words in the string, using sep as the delimiter string.\n",
      "\n",
      "sep\n",
      "  The delimiter according which to split the string.\n",
      "  None (the default value) means split according to any whitespace,\n",
      "  and discard empty strings from the result.\n",
      "maxsplit\n",
      "  Maximum number of splits to do.\n",
      "  -1 (the default value) means no limit.\n",
      "\u001b[1;31mType:\u001b[0m      method_descriptor\n"
     ]
    }
   ],
   "source": [
    "meta[meta.str.match(\"^[0-9]:\")].str.split?"
   ]
  },
  {
   "cell_type": "code",
   "execution_count": null,
   "id": "45cb7d53",
   "metadata": {},
   "outputs": [],
   "source": [
    "meta[meta.str.match(\"^[0-9]:\")].str"
   ]
  },
  {
   "cell_type": "code",
   "execution_count": 13,
   "id": "90b45409",
   "metadata": {},
   "outputs": [
    {
     "data": {
      "text/plain": [
       "{'rf': 0.998799148408656,\n",
       " 'ab': 0.978074217802571,\n",
       " 'sporf': 1.0,\n",
       " 'sporgboost': 1.0,\n",
       " 'rrf': 1.0,\n",
       " 'rotboost': 0.9915940388605923}"
      ]
     },
     "execution_count": 13,
     "metadata": {},
     "output_type": "execute_result"
    }
   ],
   "source": [
    "# Get AUC scores\n",
    "auc = {key : roc_auc_score(y_test, model.predict_proba(X_test), multi_class='ovo') for key, model in models.items()}\n",
    "auc"
   ]
  }
 ],
 "metadata": {
  "kernelspec": {
   "display_name": "SPORF",
   "language": "python",
   "name": "sporf"
  },
  "language_info": {
   "codemirror_mode": {
    "name": "ipython",
    "version": 3
   },
   "file_extension": ".py",
   "mimetype": "text/x-python",
   "name": "python",
   "nbconvert_exporter": "python",
   "pygments_lexer": "ipython3",
   "version": "3.8.12"
  }
 },
 "nbformat": 4,
 "nbformat_minor": 5
}
