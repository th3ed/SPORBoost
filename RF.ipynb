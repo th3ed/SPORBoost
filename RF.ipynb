{
 "cells": [
  {
   "cell_type": "code",
   "execution_count": 1,
   "id": "3ca80c99-f3b1-48cf-8b01-c7544605905f",
   "metadata": {},
   "outputs": [],
   "source": [
    "import numpy as np\n",
    "from sklearn.datasets import load_iris"
   ]
  },
  {
   "cell_type": "code",
   "execution_count": 2,
   "id": "3597138f-3be1-4461-a020-dba09287bb91",
   "metadata": {},
   "outputs": [],
   "source": [
    "from sporgboost.preprocessing import onehot_encode, shuffle\n",
    "from sporgboost.common import find_split"
   ]
  },
  {
   "cell_type": "code",
   "execution_count": 3,
   "id": "5c149194-7402-4486-90f2-f11a1d6323a6",
   "metadata": {},
   "outputs": [],
   "source": [
    "# Dataset for testing\n",
    "X, y = load_iris(return_X_y = True)\n",
    "\n",
    "# Set seed to be able to reproduce\n",
    "np.random.seed(1234)\n",
    "    \n",
    "# Preprocessing\n",
    "y = onehot_encode(y)\n",
    "X, y = shuffle(X, y)"
   ]
  },
  {
   "cell_type": "code",
   "execution_count": 5,
   "id": "7f15da2e",
   "metadata": {},
   "outputs": [],
   "source": [
    "from sporgboost.projections import Identity\n",
    "from sklearn.base import BaseEstimator\n",
    "class DecisionTree(BaseEstimator):\n",
    "    def __init__(self, base_projection = Identity):\n",
    "        self.base_projection = base_projection\n",
    "    \n",
    "    def fit(self, X, y):\n",
    "        pass"
   ]
  },
  {
   "cell_type": "code",
   "execution_count": 6,
   "id": "ef18e9c3-a75a-43ad-9bdb-a305425e5bb0",
   "metadata": {},
   "outputs": [
    {
     "name": "stdout",
     "output_type": "stream",
     "text": [
      "(5.4, 0.4389063317634746)\n",
      "(3.3, 0.5330513784461153)\n",
      "(1.9, 0.33333333333333337)\n",
      "(0.6, 0.33333333333333337)\n"
     ]
    }
   ],
   "source": [
    "for i in range(0, 4):\n",
    "    print(find_split(X[:, i], y))"
   ]
  }
 ],
 "metadata": {
  "kernelspec": {
   "display_name": "Python 3 (ipykernel)",
   "language": "python",
   "name": "python3"
  },
  "language_info": {
   "codemirror_mode": {
    "name": "ipython",
    "version": 3
   },
   "file_extension": ".py",
   "mimetype": "text/x-python",
   "name": "python",
   "nbconvert_exporter": "python",
   "pygments_lexer": "ipython3",
   "version": "3.8.8"
  }
 },
 "nbformat": 4,
 "nbformat_minor": 5
}
