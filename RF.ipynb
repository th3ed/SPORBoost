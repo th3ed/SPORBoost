{
 "cells": [
  {
   "cell_type": "code",
   "execution_count": 1,
   "id": "3597138f-3be1-4461-a020-dba09287bb91",
   "metadata": {},
   "outputs": [],
   "source": [
    "from sporgboost.forests import *\n",
    "from sklearn.metrics import roc_auc_score\n",
    "from get_data import load\n",
    "from sklearn.metrics import roc_auc_score\n",
    "from sklearn.datasets import load_iris\n",
    "from sporgboost.preprocessing import onehot_encode\n",
    "# X, y = load(\"data/sparse_parity.parquet\")\n",
    "X, y = load_iris(return_X_y=True)\n",
    "y = onehot_encode(y)\n"
   ]
  },
  {
   "cell_type": "code",
   "execution_count": 34,
   "id": "28128e61",
   "metadata": {},
   "outputs": [
    {
     "ename": "TypingError",
     "evalue": "Failed in nopython mode pipeline (step: nopython frontend)\n\u001b[1m\u001b[1m\u001b[1m\u001b[1mFailed in nopython mode pipeline (step: nopython frontend)\n\u001b[1m\u001b[1m\u001b[1mNo implementation of function Function(<function cumsum at 0x0000024E0D4025E0>) found for signature:\n \n >>> cumsum(int64)\n \nThere are 2 candidate implementations:\n\u001b[1m    - Of which 2 did not match due to:\n    Overload of function 'cumsum': File: numba\\core\\typing\\npydecl.py: Line 348.\n      With argument(s): '(int64)':\u001b[0m\n\u001b[1m     No match.\u001b[0m\n\u001b[0m\n\u001b[0m\u001b[1mDuring: resolving callee type: Function(<function cumsum at 0x0000024E0D4025E0>)\u001b[0m\n\u001b[0m\u001b[1mDuring: typing of call at C:\\Users\\Ed\\AppData\\Local\\Temp\\ipykernel_6560\\1267575644.py (15)\n\u001b[0m\n\u001b[1m\nFile \"..\\..\\..\\AppData\\Local\\Temp\\ipykernel_6560\\1267575644.py\", line 15:\u001b[0m\n\u001b[1m<source missing, REPL/exec in use?>\u001b[0m\n\n\u001b[0m\u001b[1mDuring: resolving callee type: type(CPUDispatcher(<function weighted_draws_replacement at 0x0000024E170FE280>))\u001b[0m\n\u001b[0m\u001b[1mDuring: typing of call at C:\\Users\\Ed\\AppData\\Local\\Temp\\ipykernel_6560\\1267575644.py (5)\n\u001b[0m\n\u001b[0m\u001b[1mDuring: resolving callee type: type(CPUDispatcher(<function weighted_draws_replacement at 0x0000024E170FE280>))\u001b[0m\n\u001b[0m\u001b[1mDuring: typing of call at C:\\Users\\Ed\\AppData\\Local\\Temp\\ipykernel_6560\\1267575644.py (5)\n\u001b[0m\n\u001b[1m\nFile \"..\\..\\..\\AppData\\Local\\Temp\\ipykernel_6560\\1267575644.py\", line 5:\u001b[0m\n\u001b[1m<source missing, REPL/exec in use?>\u001b[0m\n",
     "output_type": "error",
     "traceback": [
      "\u001b[1;31m---------------------------------------------------------------------------\u001b[0m",
      "\u001b[1;31mTypingError\u001b[0m                               Traceback (most recent call last)",
      "Input \u001b[1;32mIn [34]\u001b[0m, in \u001b[0;36m<cell line: 18>\u001b[1;34m()\u001b[0m\n\u001b[0;32m     15\u001b[0m         out[idx] \u001b[39m=\u001b[39m a[np\u001b[39m.\u001b[39msearchsorted(np\u001b[39m.\u001b[39mcumsum(p), np\u001b[39m.\u001b[39mrandom\u001b[39m.\u001b[39mrandom(), side\u001b[39m=\u001b[39m\u001b[39m\"\u001b[39m\u001b[39mright\u001b[39m\u001b[39m\"\u001b[39m)]\n\u001b[0;32m     16\u001b[0m     \u001b[39mreturn\u001b[39;00m out\n\u001b[1;32m---> 18\u001b[0m choice_replacement_weighted(X, y, \u001b[39m1\u001b[39;49m)\n",
      "File \u001b[1;32m~\\anaconda3\\envs\\proj\\lib\\site-packages\\numba\\core\\dispatcher.py:420\u001b[0m, in \u001b[0;36m_DispatcherBase._compile_for_args\u001b[1;34m(self, *args, **kws)\u001b[0m\n\u001b[0;32m    <a href='file:///c%3A/Users/Ed/anaconda3/envs/proj/lib/site-packages/numba/core/dispatcher.py?line=413'>414</a>\u001b[0m         msg \u001b[39m=\u001b[39m \u001b[39mstr\u001b[39m(e)\u001b[39m.\u001b[39mrstrip() \u001b[39m+\u001b[39m (\n\u001b[0;32m    <a href='file:///c%3A/Users/Ed/anaconda3/envs/proj/lib/site-packages/numba/core/dispatcher.py?line=414'>415</a>\u001b[0m             \u001b[39m\"\u001b[39m\u001b[39m\\n\u001b[39;00m\u001b[39m\\n\u001b[39;00m\u001b[39mThis error may have been caused by the following argument(s):\u001b[39m\u001b[39m\\n\u001b[39;00m\u001b[39m%s\u001b[39;00m\u001b[39m\\n\u001b[39;00m\u001b[39m\"\u001b[39m\n\u001b[0;32m    <a href='file:///c%3A/Users/Ed/anaconda3/envs/proj/lib/site-packages/numba/core/dispatcher.py?line=415'>416</a>\u001b[0m             \u001b[39m%\u001b[39m \u001b[39m\"\u001b[39m\u001b[39m\\n\u001b[39;00m\u001b[39m\"\u001b[39m\u001b[39m.\u001b[39mjoin(\u001b[39m\"\u001b[39m\u001b[39m- argument \u001b[39m\u001b[39m%d\u001b[39;00m\u001b[39m: \u001b[39m\u001b[39m%s\u001b[39;00m\u001b[39m\"\u001b[39m \u001b[39m%\u001b[39m (i, err)\n\u001b[0;32m    <a href='file:///c%3A/Users/Ed/anaconda3/envs/proj/lib/site-packages/numba/core/dispatcher.py?line=416'>417</a>\u001b[0m                         \u001b[39mfor\u001b[39;00m i, err \u001b[39min\u001b[39;00m failed_args))\n\u001b[0;32m    <a href='file:///c%3A/Users/Ed/anaconda3/envs/proj/lib/site-packages/numba/core/dispatcher.py?line=417'>418</a>\u001b[0m         e\u001b[39m.\u001b[39mpatch_message(msg)\n\u001b[1;32m--> <a href='file:///c%3A/Users/Ed/anaconda3/envs/proj/lib/site-packages/numba/core/dispatcher.py?line=419'>420</a>\u001b[0m     error_rewrite(e, \u001b[39m'\u001b[39;49m\u001b[39mtyping\u001b[39;49m\u001b[39m'\u001b[39;49m)\n\u001b[0;32m    <a href='file:///c%3A/Users/Ed/anaconda3/envs/proj/lib/site-packages/numba/core/dispatcher.py?line=420'>421</a>\u001b[0m \u001b[39mexcept\u001b[39;00m errors\u001b[39m.\u001b[39mUnsupportedError \u001b[39mas\u001b[39;00m e:\n\u001b[0;32m    <a href='file:///c%3A/Users/Ed/anaconda3/envs/proj/lib/site-packages/numba/core/dispatcher.py?line=421'>422</a>\u001b[0m     \u001b[39m# Something unsupported is present in the user code, add help info\u001b[39;00m\n\u001b[0;32m    <a href='file:///c%3A/Users/Ed/anaconda3/envs/proj/lib/site-packages/numba/core/dispatcher.py?line=422'>423</a>\u001b[0m     error_rewrite(e, \u001b[39m'\u001b[39m\u001b[39munsupported_error\u001b[39m\u001b[39m'\u001b[39m)\n",
      "File \u001b[1;32m~\\anaconda3\\envs\\proj\\lib\\site-packages\\numba\\core\\dispatcher.py:361\u001b[0m, in \u001b[0;36m_DispatcherBase._compile_for_args.<locals>.error_rewrite\u001b[1;34m(e, issue_type)\u001b[0m\n\u001b[0;32m    <a href='file:///c%3A/Users/Ed/anaconda3/envs/proj/lib/site-packages/numba/core/dispatcher.py?line=358'>359</a>\u001b[0m     \u001b[39mraise\u001b[39;00m e\n\u001b[0;32m    <a href='file:///c%3A/Users/Ed/anaconda3/envs/proj/lib/site-packages/numba/core/dispatcher.py?line=359'>360</a>\u001b[0m \u001b[39melse\u001b[39;00m:\n\u001b[1;32m--> <a href='file:///c%3A/Users/Ed/anaconda3/envs/proj/lib/site-packages/numba/core/dispatcher.py?line=360'>361</a>\u001b[0m     \u001b[39mraise\u001b[39;00m e\u001b[39m.\u001b[39mwith_traceback(\u001b[39mNone\u001b[39;00m)\n",
      "\u001b[1;31mTypingError\u001b[0m: Failed in nopython mode pipeline (step: nopython frontend)\n\u001b[1m\u001b[1m\u001b[1m\u001b[1mFailed in nopython mode pipeline (step: nopython frontend)\n\u001b[1m\u001b[1m\u001b[1mNo implementation of function Function(<function cumsum at 0x0000024E0D4025E0>) found for signature:\n \n >>> cumsum(int64)\n \nThere are 2 candidate implementations:\n\u001b[1m    - Of which 2 did not match due to:\n    Overload of function 'cumsum': File: numba\\core\\typing\\npydecl.py: Line 348.\n      With argument(s): '(int64)':\u001b[0m\n\u001b[1m     No match.\u001b[0m\n\u001b[0m\n\u001b[0m\u001b[1mDuring: resolving callee type: Function(<function cumsum at 0x0000024E0D4025E0>)\u001b[0m\n\u001b[0m\u001b[1mDuring: typing of call at C:\\Users\\Ed\\AppData\\Local\\Temp\\ipykernel_6560\\1267575644.py (15)\n\u001b[0m\n\u001b[1m\nFile \"..\\..\\..\\AppData\\Local\\Temp\\ipykernel_6560\\1267575644.py\", line 15:\u001b[0m\n\u001b[1m<source missing, REPL/exec in use?>\u001b[0m\n\n\u001b[0m\u001b[1mDuring: resolving callee type: type(CPUDispatcher(<function weighted_draws_replacement at 0x0000024E170FE280>))\u001b[0m\n\u001b[0m\u001b[1mDuring: typing of call at C:\\Users\\Ed\\AppData\\Local\\Temp\\ipykernel_6560\\1267575644.py (5)\n\u001b[0m\n\u001b[0m\u001b[1mDuring: resolving callee type: type(CPUDispatcher(<function weighted_draws_replacement at 0x0000024E170FE280>))\u001b[0m\n\u001b[0m\u001b[1mDuring: typing of call at C:\\Users\\Ed\\AppData\\Local\\Temp\\ipykernel_6560\\1267575644.py (5)\n\u001b[0m\n\u001b[1m\nFile \"..\\..\\..\\AppData\\Local\\Temp\\ipykernel_6560\\1267575644.py\", line 5:\u001b[0m\n\u001b[1m<source missing, REPL/exec in use?>\u001b[0m\n"
     ]
    }
   ],
   "source": [
    "from numba import njit\n",
    "\n",
    "@njit(cache=False)\n",
    "def choice_replacement_weighted(X, y, D):\n",
    "    idx = weighted_draws_replacement(np.arange(X.shape[0]), D, X.shape[0])\n",
    "    return X[idx, :], y[idx, :]\n",
    "\n",
    "@njit(cache=False)\n",
    "def weighted_draws_replacement(a, p, n):\n",
    "    out = np.empty(shape=(n), dtype='uint')\n",
    "\n",
    "    for idx in range(n):\n",
    "        # https://github.com/numba/numba/issues/2539\n",
    "        out[idx] = a[np.searchsorted(np.cumsum(p), np.random.random(), side=\"right\")]\n",
    "    return out\n",
    "\n",
    "choice_replacement_weighted(X, y, 1)"
   ]
  },
  {
   "cell_type": "code",
   "execution_count": 22,
   "id": "285d66a3",
   "metadata": {},
   "outputs": [
    {
     "name": "stdout",
     "output_type": "stream",
     "text": [
      "\u001b[1;31mDocstring:\u001b[0m\n",
      "choice(a, size=None, replace=True, p=None)\n",
      "\n",
      "Generates a random sample from a given 1-D array\n",
      "\n",
      ".. versionadded:: 1.7.0\n",
      "\n",
      ".. note::\n",
      "    New code should use the ``choice`` method of a ``default_rng()``\n",
      "    instance instead; please see the :ref:`random-quick-start`.\n",
      "\n",
      "Parameters\n",
      "----------\n",
      "a : 1-D array-like or int\n",
      "    If an ndarray, a random sample is generated from its elements.\n",
      "    If an int, the random sample is generated as if it were ``np.arange(a)``\n",
      "size : int or tuple of ints, optional\n",
      "    Output shape.  If the given shape is, e.g., ``(m, n, k)``, then\n",
      "    ``m * n * k`` samples are drawn.  Default is None, in which case a\n",
      "    single value is returned.\n",
      "replace : boolean, optional\n",
      "    Whether the sample is with or without replacement. Default is True,\n",
      "    meaning that a value of ``a`` can be selected multiple times.\n",
      "p : 1-D array-like, optional\n",
      "    The probabilities associated with each entry in a.\n",
      "    If not given, the sample assumes a uniform distribution over all\n",
      "    entries in ``a``.\n",
      "\n",
      "Returns\n",
      "-------\n",
      "samples : single item or ndarray\n",
      "    The generated random samples\n",
      "\n",
      "Raises\n",
      "------\n",
      "ValueError\n",
      "    If a is an int and less than zero, if a or p are not 1-dimensional,\n",
      "    if a is an array-like of size 0, if p is not a vector of\n",
      "    probabilities, if a and p have different lengths, or if\n",
      "    replace=False and the sample size is greater than the population\n",
      "    size\n",
      "\n",
      "See Also\n",
      "--------\n",
      "randint, shuffle, permutation\n",
      "Generator.choice: which should be used in new code\n",
      "\n",
      "Notes\n",
      "-----\n",
      "Setting user-specified probabilities through ``p`` uses a more general but less\n",
      "efficient sampler than the default. The general sampler produces a different sample\n",
      "than the optimized sampler even if each element of ``p`` is 1 / len(a).\n",
      "\n",
      "Sampling random rows from a 2-D array is not possible with this function,\n",
      "but is possible with `Generator.choice` through its ``axis`` keyword.\n",
      "\n",
      "Examples\n",
      "--------\n",
      "Generate a uniform random sample from np.arange(5) of size 3:\n",
      "\n",
      ">>> np.random.choice(5, 3)\n",
      "array([0, 3, 4]) # random\n",
      ">>> #This is equivalent to np.random.randint(0,5,3)\n",
      "\n",
      "Generate a non-uniform random sample from np.arange(5) of size 3:\n",
      "\n",
      ">>> np.random.choice(5, 3, p=[0.1, 0, 0.3, 0.6, 0])\n",
      "array([3, 3, 0]) # random\n",
      "\n",
      "Generate a uniform random sample from np.arange(5) of size 3 without\n",
      "replacement:\n",
      "\n",
      ">>> np.random.choice(5, 3, replace=False)\n",
      "array([3,1,0]) # random\n",
      ">>> #This is equivalent to np.random.permutation(np.arange(5))[:3]\n",
      "\n",
      "Generate a non-uniform random sample from np.arange(5) of size\n",
      "3 without replacement:\n",
      "\n",
      ">>> np.random.choice(5, 3, replace=False, p=[0.1, 0, 0.3, 0.6, 0])\n",
      "array([2, 3, 0]) # random\n",
      "\n",
      "Any of the above can be repeated with an arbitrary array-like\n",
      "instead of just integers. For instance:\n",
      "\n",
      ">>> aa_milne_arr = ['pooh', 'rabbit', 'piglet', 'Christopher']\n",
      ">>> np.random.choice(aa_milne_arr, 5, p=[0.5, 0.1, 0.1, 0.3])\n",
      "array(['pooh', 'pooh', 'pooh', 'Christopher', 'piglet'], # random\n",
      "      dtype='<U11')\n",
      "\u001b[1;31mType:\u001b[0m      builtin_function_or_method\n"
     ]
    }
   ],
   "source": [
    "np.random.choice?"
   ]
  },
  {
   "cell_type": "code",
   "execution_count": 2,
   "id": "16cd73d5",
   "metadata": {},
   "outputs": [
    {
     "ename": "TypingError",
     "evalue": "Failed in nopython mode pipeline (step: nopython frontend)\n\u001b[1m\u001b[1m\u001b[1m\u001b[1m- Resolution failure for literal arguments:\n\u001b[1mFailed in nopython mode pipeline (step: nopython frontend)\n\u001b[1m\u001b[1m\u001b[1mNo implementation of function Function(<built-in method choice of numpy.random.mtrand.RandomState object at 0x0000024E0D795440>) found for signature:\n\n >>> choice(array(int64, 1d, C), size=int64, replace=Literal[bool](True), p=array(float64, 1d, C))\n\nThere are 2 candidate implementations:\n\u001b[1m   - Of which 2 did not match due to:\n   Overload in function 'choice': File: numba\\cpython\\randomimpl.py: Line 1346.\n     With argument(s): '(array(int64, 1d, C), size=int64, replace=bool, p=array(float64, 1d, C))':\u001b[0m\n\u001b[1m    Rejected as the implementation raised a specific error:\n      TypeError: choice() got an unexpected keyword argument 'p'\u001b[0m\n  raised from C:\\Users\\Ed\\anaconda3\\envs\\proj\\lib\\site-packages\\numba\\core\\typing\\templates.py:722\n\u001b[0m\n\u001b[0m\u001b[1mDuring: resolving callee type: Function(<built-in method choice of numpy.random.mtrand.RandomState object at 0x0000024E0D795440>)\u001b[0m\n\u001b[0m\u001b[1mDuring: typing of call at c:\\Users\\Ed\\OneDrive - Johns Hopkins\\Desktop\\Adv_ML_Project\\sporgboost\\forests.py (143)\n\u001b[0m\n\u001b[1m\nFile \"sporgboost\\forests.py\", line 143:\u001b[0m\n\u001b[1m    def fit(self, X, y):\n        <source elided>\n                # Draw a sample\n\u001b[1m                idx_rows = np.random.choice(np.arange(X.shape[0]), size=(X.shape[0]), replace=True, p=D)\n\u001b[0m                \u001b[1m^\u001b[0m\u001b[0m\n\u001b[0m\n\u001b[0m\u001b[1m- Resolution failure for non-literal arguments:\n\u001b[1mNone\u001b[0m\n\u001b[0m\u001b[0m\n\u001b[0m\u001b[1mDuring: resolving callee type: BoundFunction((<class 'numba.core.types.misc.ClassInstanceType'>, 'fit') for instance.jitclass.AdaBoost#24e0e405490<n_trees:uint32,max_depth:int64,seed:uint32,forest:DictType[int64,instance.jitclass.AxisAlignedDecisionTree#24e0e3c7e80<tree_value:DictType[int64,array(float64, 2d, A)]<iv=None>,tree_split:DictType[int64,float64]<iv=None>,tree_proj:DictType[int64,array(float64, 2d, A)]<iv=None>,n_classes:int64,max_depth:int64>]<iv=None>,n_classes:uint32>)\u001b[0m\n\u001b[0m\u001b[1mDuring: typing of call at <string> (3)\n\u001b[0m\n\u001b[1m\nFile \"<string>\", line 3:\u001b[0m\n\u001b[1m<source missing, REPL/exec in use?>\u001b[0m\n",
     "output_type": "error",
     "traceback": [
      "\u001b[1;31m---------------------------------------------------------------------------\u001b[0m",
      "\u001b[1;31mTypingError\u001b[0m                               Traceback (most recent call last)",
      "File \u001b[1;32m<timed exec>:2\u001b[0m, in \u001b[0;36m<module>\u001b[1;34m\u001b[0m\n",
      "File \u001b[1;32m~\\anaconda3\\envs\\proj\\lib\\site-packages\\numba\\experimental\\jitclass\\boxing.py:60\u001b[0m, in \u001b[0;36m_generate_method.<locals>.wrapper\u001b[1;34m(*args, **kwargs)\u001b[0m\n\u001b[0;32m     <a href='file:///c%3A/Users/Ed/anaconda3/envs/proj/lib/site-packages/numba/experimental/jitclass/boxing.py?line=57'>58</a>\u001b[0m \u001b[39m@wraps\u001b[39m(func)\n\u001b[0;32m     <a href='file:///c%3A/Users/Ed/anaconda3/envs/proj/lib/site-packages/numba/experimental/jitclass/boxing.py?line=58'>59</a>\u001b[0m \u001b[39mdef\u001b[39;00m \u001b[39mwrapper\u001b[39m(\u001b[39m*\u001b[39margs, \u001b[39m*\u001b[39m\u001b[39m*\u001b[39mkwargs):\n\u001b[1;32m---> <a href='file:///c%3A/Users/Ed/anaconda3/envs/proj/lib/site-packages/numba/experimental/jitclass/boxing.py?line=59'>60</a>\u001b[0m     \u001b[39mreturn\u001b[39;00m method(\u001b[39m*\u001b[39;49margs, \u001b[39m*\u001b[39;49m\u001b[39m*\u001b[39;49mkwargs)\n",
      "File \u001b[1;32m~\\anaconda3\\envs\\proj\\lib\\site-packages\\numba\\core\\dispatcher.py:420\u001b[0m, in \u001b[0;36m_DispatcherBase._compile_for_args\u001b[1;34m(self, *args, **kws)\u001b[0m\n\u001b[0;32m    <a href='file:///c%3A/Users/Ed/anaconda3/envs/proj/lib/site-packages/numba/core/dispatcher.py?line=413'>414</a>\u001b[0m         msg \u001b[39m=\u001b[39m \u001b[39mstr\u001b[39m(e)\u001b[39m.\u001b[39mrstrip() \u001b[39m+\u001b[39m (\n\u001b[0;32m    <a href='file:///c%3A/Users/Ed/anaconda3/envs/proj/lib/site-packages/numba/core/dispatcher.py?line=414'>415</a>\u001b[0m             \u001b[39m\"\u001b[39m\u001b[39m\\n\u001b[39;00m\u001b[39m\\n\u001b[39;00m\u001b[39mThis error may have been caused by the following argument(s):\u001b[39m\u001b[39m\\n\u001b[39;00m\u001b[39m%s\u001b[39;00m\u001b[39m\\n\u001b[39;00m\u001b[39m\"\u001b[39m\n\u001b[0;32m    <a href='file:///c%3A/Users/Ed/anaconda3/envs/proj/lib/site-packages/numba/core/dispatcher.py?line=415'>416</a>\u001b[0m             \u001b[39m%\u001b[39m \u001b[39m\"\u001b[39m\u001b[39m\\n\u001b[39;00m\u001b[39m\"\u001b[39m\u001b[39m.\u001b[39mjoin(\u001b[39m\"\u001b[39m\u001b[39m- argument \u001b[39m\u001b[39m%d\u001b[39;00m\u001b[39m: \u001b[39m\u001b[39m%s\u001b[39;00m\u001b[39m\"\u001b[39m \u001b[39m%\u001b[39m (i, err)\n\u001b[0;32m    <a href='file:///c%3A/Users/Ed/anaconda3/envs/proj/lib/site-packages/numba/core/dispatcher.py?line=416'>417</a>\u001b[0m                         \u001b[39mfor\u001b[39;00m i, err \u001b[39min\u001b[39;00m failed_args))\n\u001b[0;32m    <a href='file:///c%3A/Users/Ed/anaconda3/envs/proj/lib/site-packages/numba/core/dispatcher.py?line=417'>418</a>\u001b[0m         e\u001b[39m.\u001b[39mpatch_message(msg)\n\u001b[1;32m--> <a href='file:///c%3A/Users/Ed/anaconda3/envs/proj/lib/site-packages/numba/core/dispatcher.py?line=419'>420</a>\u001b[0m     error_rewrite(e, \u001b[39m'\u001b[39;49m\u001b[39mtyping\u001b[39;49m\u001b[39m'\u001b[39;49m)\n\u001b[0;32m    <a href='file:///c%3A/Users/Ed/anaconda3/envs/proj/lib/site-packages/numba/core/dispatcher.py?line=420'>421</a>\u001b[0m \u001b[39mexcept\u001b[39;00m errors\u001b[39m.\u001b[39mUnsupportedError \u001b[39mas\u001b[39;00m e:\n\u001b[0;32m    <a href='file:///c%3A/Users/Ed/anaconda3/envs/proj/lib/site-packages/numba/core/dispatcher.py?line=421'>422</a>\u001b[0m     \u001b[39m# Something unsupported is present in the user code, add help info\u001b[39;00m\n\u001b[0;32m    <a href='file:///c%3A/Users/Ed/anaconda3/envs/proj/lib/site-packages/numba/core/dispatcher.py?line=422'>423</a>\u001b[0m     error_rewrite(e, \u001b[39m'\u001b[39m\u001b[39munsupported_error\u001b[39m\u001b[39m'\u001b[39m)\n",
      "File \u001b[1;32m~\\anaconda3\\envs\\proj\\lib\\site-packages\\numba\\core\\dispatcher.py:361\u001b[0m, in \u001b[0;36m_DispatcherBase._compile_for_args.<locals>.error_rewrite\u001b[1;34m(e, issue_type)\u001b[0m\n\u001b[0;32m    <a href='file:///c%3A/Users/Ed/anaconda3/envs/proj/lib/site-packages/numba/core/dispatcher.py?line=358'>359</a>\u001b[0m     \u001b[39mraise\u001b[39;00m e\n\u001b[0;32m    <a href='file:///c%3A/Users/Ed/anaconda3/envs/proj/lib/site-packages/numba/core/dispatcher.py?line=359'>360</a>\u001b[0m \u001b[39melse\u001b[39;00m:\n\u001b[1;32m--> <a href='file:///c%3A/Users/Ed/anaconda3/envs/proj/lib/site-packages/numba/core/dispatcher.py?line=360'>361</a>\u001b[0m     \u001b[39mraise\u001b[39;00m e\u001b[39m.\u001b[39mwith_traceback(\u001b[39mNone\u001b[39;00m)\n",
      "\u001b[1;31mTypingError\u001b[0m: Failed in nopython mode pipeline (step: nopython frontend)\n\u001b[1m\u001b[1m\u001b[1m\u001b[1m- Resolution failure for literal arguments:\n\u001b[1mFailed in nopython mode pipeline (step: nopython frontend)\n\u001b[1m\u001b[1m\u001b[1mNo implementation of function Function(<built-in method choice of numpy.random.mtrand.RandomState object at 0x0000024E0D795440>) found for signature:\n\n >>> choice(array(int64, 1d, C), size=int64, replace=Literal[bool](True), p=array(float64, 1d, C))\n\nThere are 2 candidate implementations:\n\u001b[1m   - Of which 2 did not match due to:\n   Overload in function 'choice': File: numba\\cpython\\randomimpl.py: Line 1346.\n     With argument(s): '(array(int64, 1d, C), size=int64, replace=bool, p=array(float64, 1d, C))':\u001b[0m\n\u001b[1m    Rejected as the implementation raised a specific error:\n      TypeError: choice() got an unexpected keyword argument 'p'\u001b[0m\n  raised from C:\\Users\\Ed\\anaconda3\\envs\\proj\\lib\\site-packages\\numba\\core\\typing\\templates.py:722\n\u001b[0m\n\u001b[0m\u001b[1mDuring: resolving callee type: Function(<built-in method choice of numpy.random.mtrand.RandomState object at 0x0000024E0D795440>)\u001b[0m\n\u001b[0m\u001b[1mDuring: typing of call at c:\\Users\\Ed\\OneDrive - Johns Hopkins\\Desktop\\Adv_ML_Project\\sporgboost\\forests.py (143)\n\u001b[0m\n\u001b[1m\nFile \"sporgboost\\forests.py\", line 143:\u001b[0m\n\u001b[1m    def fit(self, X, y):\n        <source elided>\n                # Draw a sample\n\u001b[1m                idx_rows = np.random.choice(np.arange(X.shape[0]), size=(X.shape[0]), replace=True, p=D)\n\u001b[0m                \u001b[1m^\u001b[0m\u001b[0m\n\u001b[0m\n\u001b[0m\u001b[1m- Resolution failure for non-literal arguments:\n\u001b[1mNone\u001b[0m\n\u001b[0m\u001b[0m\n\u001b[0m\u001b[1mDuring: resolving callee type: BoundFunction((<class 'numba.core.types.misc.ClassInstanceType'>, 'fit') for instance.jitclass.AdaBoost#24e0e405490<n_trees:uint32,max_depth:int64,seed:uint32,forest:DictType[int64,instance.jitclass.AxisAlignedDecisionTree#24e0e3c7e80<tree_value:DictType[int64,array(float64, 2d, A)]<iv=None>,tree_split:DictType[int64,float64]<iv=None>,tree_proj:DictType[int64,array(float64, 2d, A)]<iv=None>,n_classes:int64,max_depth:int64>]<iv=None>,n_classes:uint32>)\u001b[0m\n\u001b[0m\u001b[1mDuring: typing of call at <string> (3)\n\u001b[0m\n\u001b[1m\nFile \"<string>\", line 3:\u001b[0m\n\u001b[1m<source missing, REPL/exec in use?>\u001b[0m\n"
     ]
    }
   ],
   "source": [
    "%%time\n",
    "ada = AdaBoost()\n",
    "ada.fit(X, y)"
   ]
  },
  {
   "cell_type": "code",
   "execution_count": 2,
   "id": "6c03051b",
   "metadata": {},
   "outputs": [],
   "source": [
    "from sporgboost.trees import RotationalDecisionTree\n",
    "rot = RotationalDecisionTree(K=2)\n",
    "rot.fit(X, y)"
   ]
  },
  {
   "cell_type": "code",
   "execution_count": 3,
   "id": "0f047c33",
   "metadata": {},
   "outputs": [],
   "source": [
    "from sporgboost.forests import *\n",
    "rf = RandomForest()\n",
    "rf.fit(X, y)"
   ]
  },
  {
   "cell_type": "code",
   "execution_count": 9,
   "id": "e5c4ed8d",
   "metadata": {},
   "outputs": [],
   "source": [
    "sporf = SPORF(d=2, s=3)\n",
    "sporf.fit(X, y)"
   ]
  },
  {
   "cell_type": "code",
   "execution_count": 5,
   "id": "08ac46bd",
   "metadata": {},
   "outputs": [],
   "source": [
    "rrf = RotationalForest(K=2)\n",
    "rrf.fit(X, y)"
   ]
  },
  {
   "cell_type": "code",
   "execution_count": 19,
   "id": "f8e5cedd",
   "metadata": {},
   "outputs": [
    {
     "name": "stdout",
     "output_type": "stream",
     "text": [
      "Fitting sporf\n",
      "Fitting sporgboost\n"
     ]
    }
   ],
   "source": [
    "# models = {\n",
    "#     # 'rf' : RandomForest(),\n",
    "#     # 'ab' : AdaBoost(),\n",
    "#     'sporf' : SPORF(d=2, s=3),\n",
    "#     'sporgboost' : SPORGBoost(d=2, s=3, max_depth=2),\n",
    "#     # 'rrf' : RotationalRandomForest(K=2),\n",
    "#     # 'rotboost' : RotBoost(K=2)\n",
    "# }\n",
    "\n",
    "# for k, m in models.items():\n",
    "#     print(f\"Fitting {k}\")\n",
    "#     m.fit(X_train, y_train)\n"
   ]
  },
  {
   "cell_type": "code",
   "execution_count": 6,
   "id": "32a7e82c",
   "metadata": {},
   "outputs": [
    {
     "data": {
      "text/plain": [
       "0.6357403228749623"
      ]
     },
     "execution_count": 6,
     "metadata": {},
     "output_type": "execute_result"
    }
   ],
   "source": [
    "roc_auc_score(y, rrf.predict(X), multi_class='ovo')"
   ]
  },
  {
   "cell_type": "code",
   "execution_count": 10,
   "id": "ac78810d",
   "metadata": {},
   "outputs": [
    {
     "data": {
      "text/plain": [
       "0.976297372398488"
      ]
     },
     "execution_count": 10,
     "metadata": {},
     "output_type": "execute_result"
    }
   ],
   "source": [
    "roc_auc_score(y, sporf.predict_proba(X), multi_class='ovo')"
   ]
  },
  {
   "cell_type": "code",
   "execution_count": 8,
   "id": "506f38ee",
   "metadata": {},
   "outputs": [
    {
     "data": {
      "text/plain": [
       "0.5819648490844376"
      ]
     },
     "execution_count": 8,
     "metadata": {},
     "output_type": "execute_result"
    }
   ],
   "source": [
    "roc_auc_score(y, rf.predict_proba(X), multi_class='ovo')"
   ]
  },
  {
   "cell_type": "code",
   "execution_count": 24,
   "id": "a4b5eee3",
   "metadata": {},
   "outputs": [],
   "source": [
    "from sklearn.metrics import accuracy_score\n",
    "# accuracy_score(y_test, rf.predict(X_test))"
   ]
  },
  {
   "cell_type": "code",
   "execution_count": 26,
   "id": "90b45409",
   "metadata": {},
   "outputs": [
    {
     "data": {
      "text/plain": [
       "{'sporf': 0.7630681818181818, 'sporgboost': 0.6098863636363636}"
      ]
     },
     "execution_count": 26,
     "metadata": {},
     "output_type": "execute_result"
    }
   ],
   "source": [
    "# Get AUC scores\n",
    "auc = {key : accuracy_score(y_test, model.predict(X_test)) for key, model in models.items() if key in {'sporf','sporgboost'}}\n",
    "auc"
   ]
  }
 ],
 "metadata": {
  "interpreter": {
   "hash": "19a6b89429cc42f8a39b8068be6b3b06345d41f5c5dc4b805d424edbd3c294cc"
  },
  "kernelspec": {
   "display_name": "SPORF",
   "language": "python",
   "name": "python3"
  },
  "language_info": {
   "codemirror_mode": {
    "name": "ipython",
    "version": 3
   },
   "file_extension": ".py",
   "mimetype": "text/x-python",
   "name": "python",
   "nbconvert_exporter": "python",
   "pygments_lexer": "ipython3",
   "version": "3.8.12"
  }
 },
 "nbformat": 4,
 "nbformat_minor": 5
}
