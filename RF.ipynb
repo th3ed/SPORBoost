{
 "cells": [
  {
   "cell_type": "code",
   "execution_count": 1,
   "id": "3597138f-3be1-4461-a020-dba09287bb91",
   "metadata": {},
   "outputs": [
    {
     "name": "stderr",
     "output_type": "stream",
     "text": [
      "C:\\Users\\Ed\\anaconda3\\envs\\proj\\lib\\site-packages\\xgboost\\compat.py:36: FutureWarning: pandas.Int64Index is deprecated and will be removed from pandas in a future version. Use pandas.Index with the appropriate dtype instead.\n",
      "  from pandas import MultiIndex, Int64Index\n"
     ]
    }
   ],
   "source": [
    "from sklearn.pipeline import Pipeline\n",
    "from sklearn.model_selection import GridSearchCV, StratifiedKFold\n",
    "from sklearn.datasets import load_iris, load_breast_cancer, load_wine\n",
    "from sporboost.forest import *\n",
    "import pandas as pd\n",
    "from time import time\n",
    "import os\n",
    "from sklearn.metrics import make_scorer\n",
    "from xgboost import XGBClassifier\n",
    "\n",
    "################################################################################\n",
    "################################################################################\n",
    "################################################################################\n",
    "# Data Load\n",
    "def load_simulated(path):\n",
    "    data = np.loadtxt(path, delimiter=\",\")\n",
    "    return data[:,:-1], data[:,-1].astype('int32')\n",
    "\n",
    "dfs = {\n",
    "    'iris' : load_iris(return_X_y = True),\n",
    "    'breast_cancer' : load_breast_cancer(return_X_y = True),\n",
    "    'wine' : load_wine(return_X_y = True),\n",
    "    'trunk' : load_simulated(\"source_data/simulated/Trunk_train.csv\"),\n",
    "    'orthant' : load_simulated(\"source_data/simulated/Orthant_train.csv\"),\n",
    "    'sparse_parity' : load_simulated(\"source_data/simulated/Sparse_parity_train.csv\")\n",
    "}\n"
   ]
  },
  {
   "cell_type": "code",
   "execution_count": 2,
   "id": "d9af06a5",
   "metadata": {},
   "outputs": [],
   "source": [
    "################################################################################\n",
    "################################################################################\n",
    "################################################################################\n",
    "# Hyperparameters across all estimators\n",
    "# Boosted Forest\n",
    "boosted_max_depth = (1,2)\n",
    "\n",
    "# Sparse Random Trees\n",
    "d_ratio = (0.5, 1)\n",
    "s = (3, 4)\n",
    "\n",
    "# Rotational Decision Trees\n",
    "K = (2, 3)\n"
   ]
  },
  {
   "cell_type": "code",
   "execution_count": 3,
   "id": "209a0702",
   "metadata": {},
   "outputs": [],
   "source": [
    "################################################################################\n",
    "################################################################################\n",
    "################################################################################\n",
    "# Scoring Functions\n",
    "scoring = {\n",
    "    \"cohens_kappa\" : make_scorer(cohen_kappa_score),\n",
    "    \"accuracy\" : 'accuracy'\n",
    "}"
   ]
  },
  {
   "cell_type": "code",
   "execution_count": 4,
   "id": "dae710b4",
   "metadata": {},
   "outputs": [],
   "source": [
    "################################################################################\n",
    "################################################################################\n",
    "################################################################################\n",
    "# Initalize cross-validation params\n",
    "pipe = Pipeline([\n",
    "    ('clf', RandomForest())\n",
    "])\n",
    "\n",
    "params = [\n",
    "    {\n",
    "        'clf' : (RandomForest(),),\n",
    "    },\n",
    "    {\n",
    "        'clf' : (AdaBoost(),),\n",
    "        'clf__max_depth' : boosted_max_depth\n",
    "    },\n",
    "    {\n",
    "        'clf' : (SPORF(),),\n",
    "        'clf__d_ratio' : d_ratio,\n",
    "        'clf__s' : s\n",
    "    },\n",
    "    {\n",
    "        'clf' : (SPORBoost(),),\n",
    "        'clf__max_depth' : boosted_max_depth,\n",
    "        'clf__d_ratio' : d_ratio,\n",
    "        'clf__s' : s\n",
    "    },\n",
    "    {\n",
    "        'clf' : (RotationalForest(),),\n",
    "        'clf__K' : K\n",
    "    },\n",
    "    {\n",
    "        'clf' : (RotBoost(),),\n",
    "        'clf__max_depth' : boosted_max_depth,\n",
    "        'clf__K' : K\n",
    "    },\n",
    "    {\n",
    "        'clf' : (XGBClassifier(nthread = 1), )\n",
    "    }\n",
    "]\n",
    "\n",
    "kfold = StratifiedKFold(n_splits=10, shuffle=True, random_state=20220329)\n",
    "\n",
    "cv_base = GridSearchCV(estimator = pipe,\n",
    "                       param_grid = params,\n",
    "                       cv=kfold,\n",
    "                       n_jobs=-1,\n",
    "                       return_train_score=True,\n",
    "                       refit=False,\n",
    "                       scoring=scoring\n",
    ")\n"
   ]
  },
  {
   "cell_type": "code",
   "execution_count": 5,
   "id": "852b9c0e",
   "metadata": {},
   "outputs": [],
   "source": [
    "################################################################################\n",
    "################################################################################\n",
    "################################################################################\n",
    "# Func to write results to disk\n",
    "def write_results(cv, label):\n",
    "    front_cols = ['param_clf',\n",
    "                  'mean_test_cohens_kappa', 'std_test_cohens_kappa',\n",
    "                  'mean_test_accuracy', 'std_test_accuracy',\n",
    "                  'mean_train_cohens_kappa', 'std_train_cohens_kappa',\n",
    "                  'mean_train_accuracy', 'std_train_accuracy',\n",
    "                  'param_clf__max_depth',\n",
    "                  'param_clf__d_ratio', 'param_clf__s',\n",
    "                  'param_clf__K'\n",
    "                ]\n",
    "\n",
    "    results = pd.DataFrame(cv.cv_results_).drop(['params'], axis=1)\n",
    "    results['param_clf'] = results['param_clf'].apply(lambda c: type(c).__name__)\n",
    "    results = results.sort_values(['param_clf', 'mean_test_cohens_kappa'],\n",
    "                                ascending=False, ignore_index = True)\n",
    "            \n",
    "    results = results[front_cols + results.drop(front_cols, axis=1).columns.tolist()]\n",
    "    results.to_csv(f\"report/{label}.csv\", index=False)"
   ]
  },
  {
   "cell_type": "code",
   "execution_count": 6,
   "id": "aff77f29",
   "metadata": {},
   "outputs": [
    {
     "name": "stdout",
     "output_type": "stream",
     "text": [
      "Testing iris\n",
      "Finished iris in 1.3 mins\n",
      "Skipping breast_cancer as it has already been tested\n",
      "Skipping wine as it has already been tested\n",
      "Skipping trunk as it has already been tested\n",
      "Skipping orthant as it has already been tested\n",
      "Skipping sparse_parity as it has already been tested\n"
     ]
    }
   ],
   "source": [
    "################################################################################\n",
    "################################################################################\n",
    "################################################################################\n",
    "# Fit the CVs\n",
    "for name, df in dfs.items():\n",
    "    if not os.path.exists(f\"report/{name}.csv\"):\n",
    "        start = time()\n",
    "        print(f\"Testing {name}\")\n",
    "        write_results(cv_base.fit(*df), name)\n",
    "        end = time()\n",
    "        print(f\"Finished {name} in {(end - start) / 60:.1f} mins\")\n",
    "    else:\n",
    "        print(f\"Skipping {name} as it has already been tested\")"
   ]
  }
 ],
 "metadata": {
  "interpreter": {
   "hash": "19a6b89429cc42f8a39b8068be6b3b06345d41f5c5dc4b805d424edbd3c294cc"
  },
  "kernelspec": {
   "display_name": "SPORF",
   "language": "python",
   "name": "python3"
  },
  "language_info": {
   "codemirror_mode": {
    "name": "ipython",
    "version": 3
   },
   "file_extension": ".py",
   "mimetype": "text/x-python",
   "name": "python",
   "nbconvert_exporter": "python",
   "pygments_lexer": "ipython3",
   "version": "3.8.12"
  }
 },
 "nbformat": 4,
 "nbformat_minor": 5
}
