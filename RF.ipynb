{
 "cells": [
  {
   "cell_type": "code",
   "execution_count": 16,
   "id": "3597138f-3be1-4461-a020-dba09287bb91",
   "metadata": {},
   "outputs": [
    {
     "ename": "AttributeError",
     "evalue": "type object 'AxisAlignedDecisionTree' has no attribute 'class_type'",
     "output_type": "error",
     "traceback": [
      "\u001b[1;31m---------------------------------------------------------------------------\u001b[0m",
      "\u001b[1;31mAttributeError\u001b[0m                            Traceback (most recent call last)",
      "Input \u001b[1;32mIn [16]\u001b[0m, in \u001b[0;36m<cell line: 1>\u001b[1;34m()\u001b[0m\n\u001b[1;32m----> 1\u001b[0m \u001b[39mfrom\u001b[39;00m \u001b[39msporboost\u001b[39;00m\u001b[39m.\u001b[39;00m\u001b[39mforests\u001b[39;00m \u001b[39mimport\u001b[39;00m \u001b[39m*\u001b[39m\n\u001b[0;32m      2\u001b[0m \u001b[39mfrom\u001b[39;00m \u001b[39msklearn\u001b[39;00m\u001b[39m.\u001b[39;00m\u001b[39mmetrics\u001b[39;00m \u001b[39mimport\u001b[39;00m roc_auc_score\n\u001b[0;32m      3\u001b[0m \u001b[39mfrom\u001b[39;00m \u001b[39mget_data\u001b[39;00m \u001b[39mimport\u001b[39;00m load\n",
      "File \u001b[1;32mc:\\Users\\Ed\\OneDrive - Johns Hopkins\\Desktop\\Adv_ML_Project\\sporboost\\forests.py:13\u001b[0m, in \u001b[0;36m<module>\u001b[1;34m\u001b[0m\n\u001b[0;32m      <a href='file:///c%3A/Users/Ed/OneDrive%20-%20Johns%20Hopkins/Desktop/Adv_ML_Project/sporboost/forests.py?line=5'>6</a>\u001b[0m \u001b[39mimport\u001b[39;00m \u001b[39mnumpy\u001b[39;00m \u001b[39mas\u001b[39;00m \u001b[39mnp\u001b[39;00m\n\u001b[0;32m      <a href='file:///c%3A/Users/Ed/OneDrive%20-%20Johns%20Hopkins/Desktop/Adv_ML_Project/sporboost/forests.py?line=6'>7</a>\u001b[0m \u001b[39mfrom\u001b[39;00m \u001b[39m.\u001b[39;00m\u001b[39m_arrays\u001b[39;00m \u001b[39mimport\u001b[39;00m choice_replacement_weighted\n\u001b[0;32m      <a href='file:///c%3A/Users/Ed/OneDrive%20-%20Johns%20Hopkins/Desktop/Adv_ML_Project/sporboost/forests.py?line=8'>9</a>\u001b[0m \u001b[39m@jitclass\u001b[39m([\n\u001b[0;32m     <a href='file:///c%3A/Users/Ed/OneDrive%20-%20Johns%20Hopkins/Desktop/Adv_ML_Project/sporboost/forests.py?line=9'>10</a>\u001b[0m     (\u001b[39m'\u001b[39m\u001b[39mn_trees\u001b[39m\u001b[39m'\u001b[39m, uint32),\n\u001b[0;32m     <a href='file:///c%3A/Users/Ed/OneDrive%20-%20Johns%20Hopkins/Desktop/Adv_ML_Project/sporboost/forests.py?line=10'>11</a>\u001b[0m     (\u001b[39m'\u001b[39m\u001b[39mmax_depth\u001b[39m\u001b[39m'\u001b[39m, int64),\n\u001b[0;32m     <a href='file:///c%3A/Users/Ed/OneDrive%20-%20Johns%20Hopkins/Desktop/Adv_ML_Project/sporboost/forests.py?line=11'>12</a>\u001b[0m     (\u001b[39m'\u001b[39m\u001b[39mseed\u001b[39m\u001b[39m'\u001b[39m, uint32),\n\u001b[1;32m---> <a href='file:///c%3A/Users/Ed/OneDrive%20-%20Johns%20Hopkins/Desktop/Adv_ML_Project/sporboost/forests.py?line=12'>13</a>\u001b[0m     (\u001b[39m'\u001b[39m\u001b[39mforest\u001b[39m\u001b[39m'\u001b[39m, DictType(int64, AxisAlignedDecisionTree\u001b[39m.\u001b[39;49mclass_type\u001b[39m.\u001b[39minstance_type)),\n\u001b[0;32m     <a href='file:///c%3A/Users/Ed/OneDrive%20-%20Johns%20Hopkins/Desktop/Adv_ML_Project/sporboost/forests.py?line=13'>14</a>\u001b[0m     (\u001b[39m'\u001b[39m\u001b[39mn_classes_\u001b[39m\u001b[39m'\u001b[39m, int64),\n\u001b[0;32m     <a href='file:///c%3A/Users/Ed/OneDrive%20-%20Johns%20Hopkins/Desktop/Adv_ML_Project/sporboost/forests.py?line=14'>15</a>\u001b[0m     (\u001b[39m'\u001b[39m\u001b[39mclasses_\u001b[39m\u001b[39m'\u001b[39m, int64[:]),\n\u001b[0;32m     <a href='file:///c%3A/Users/Ed/OneDrive%20-%20Johns%20Hopkins/Desktop/Adv_ML_Project/sporboost/forests.py?line=15'>16</a>\u001b[0m ])\n\u001b[0;32m     <a href='file:///c%3A/Users/Ed/OneDrive%20-%20Johns%20Hopkins/Desktop/Adv_ML_Project/sporboost/forests.py?line=16'>17</a>\u001b[0m \u001b[39mclass\u001b[39;00m \u001b[39mRandomForest\u001b[39;00m():\n\u001b[0;32m     <a href='file:///c%3A/Users/Ed/OneDrive%20-%20Johns%20Hopkins/Desktop/Adv_ML_Project/sporboost/forests.py?line=17'>18</a>\u001b[0m     \u001b[39mdef\u001b[39;00m \u001b[39m__init__\u001b[39m(\u001b[39mself\u001b[39m, n_trees \u001b[39m=\u001b[39m \u001b[39m500\u001b[39m, max_depth \u001b[39m=\u001b[39m \u001b[39m10\u001b[39m, seed \u001b[39m=\u001b[39m \u001b[39m1234\u001b[39m):\n\u001b[0;32m     <a href='file:///c%3A/Users/Ed/OneDrive%20-%20Johns%20Hopkins/Desktop/Adv_ML_Project/sporboost/forests.py?line=18'>19</a>\u001b[0m         \u001b[39mself\u001b[39m\u001b[39m.\u001b[39mn_trees \u001b[39m=\u001b[39m n_trees\n",
      "\u001b[1;31mAttributeError\u001b[0m: type object 'AxisAlignedDecisionTree' has no attribute 'class_type'"
     ]
    }
   ],
   "source": [
    "from sporboost.forests import *\n",
    "from sklearn.metrics import roc_auc_score\n",
    "from get_data import load\n",
    "from sklearn.metrics import roc_auc_score\n",
    "from sklearn.datasets import load_iris\n",
    "from sporboost.preprocessing import onehot_encode\n",
    "# X, y = load(\"data/sparse_parity.parquet\")\n",
    "X, y = load_iris(return_X_y=True)\n",
    "y_ = y\n",
    "y = onehot_encode(y)"
   ]
  },
  {
   "cell_type": "code",
   "execution_count": 12,
   "id": "8c337941",
   "metadata": {},
   "outputs": [],
   "source": [
    "rf = RandomForest()\n",
    "rf.fit(X, y)"
   ]
  },
  {
   "cell_type": "code",
   "execution_count": 13,
   "id": "2af24405",
   "metadata": {},
   "outputs": [],
   "source": [
    "sporf = SPORF(d=4, s=3)\n",
    "sporf.fit(X, y)"
   ]
  },
  {
   "cell_type": "code",
   "execution_count": 14,
   "id": "bab63f09",
   "metadata": {},
   "outputs": [],
   "source": [
    "rrf = RotationalForest(K=2)\n",
    "rrf.fit(X, y)"
   ]
  },
  {
   "cell_type": "code",
   "execution_count": 15,
   "id": "d6d0c3fd",
   "metadata": {},
   "outputs": [],
   "source": [
    "ada = AdaBoost()\n",
    "ada.fit(X, y)"
   ]
  },
  {
   "cell_type": "code",
   "execution_count": 16,
   "id": "eedf156d",
   "metadata": {},
   "outputs": [],
   "source": [
    "srboost = SPORBoost(d=4, s=3)\n",
    "srboost.fit(X, y)"
   ]
  },
  {
   "cell_type": "code",
   "execution_count": 17,
   "id": "93aa6a8b",
   "metadata": {},
   "outputs": [],
   "source": [
    "rotboost = RotBoost(K=2)\n",
    "rotboost.fit(X, y)"
   ]
  },
  {
   "cell_type": "code",
   "execution_count": 9,
   "id": "1fa47cc7",
   "metadata": {},
   "outputs": [
    {
     "data": {
      "text/plain": [
       "array([150, 148, 148])"
      ]
     },
     "execution_count": 9,
     "metadata": {},
     "output_type": "execute_result"
    }
   ],
   "source": [
    "(ada.predict(X) == y).sum(axis=0)"
   ]
  },
  {
   "cell_type": "code",
   "execution_count": 10,
   "id": "69c41dc4",
   "metadata": {},
   "outputs": [
    {
     "data": {
      "text/plain": [
       "array([150, 150, 150])"
      ]
     },
     "execution_count": 10,
     "metadata": {},
     "output_type": "execute_result"
    }
   ],
   "source": [
    "(srboost.predict(X) == y).sum(axis=0)"
   ]
  },
  {
   "cell_type": "code",
   "execution_count": 11,
   "id": "e6e0c7c4",
   "metadata": {},
   "outputs": [
    {
     "data": {
      "text/plain": [
       "array([150, 150, 150])"
      ]
     },
     "execution_count": 11,
     "metadata": {},
     "output_type": "execute_result"
    }
   ],
   "source": [
    "(rotboost.predict(X) == y).sum(axis=0)"
   ]
  }
 ],
 "metadata": {
  "interpreter": {
   "hash": "19a6b89429cc42f8a39b8068be6b3b06345d41f5c5dc4b805d424edbd3c294cc"
  },
  "kernelspec": {
   "display_name": "SPORF",
   "language": "python",
   "name": "python3"
  },
  "language_info": {
   "codemirror_mode": {
    "name": "ipython",
    "version": 3
   },
   "file_extension": ".py",
   "mimetype": "text/x-python",
   "name": "python",
   "nbconvert_exporter": "python",
   "pygments_lexer": "ipython3",
   "version": "3.8.12"
  }
 },
 "nbformat": 4,
 "nbformat_minor": 5
}
