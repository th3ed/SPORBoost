{
 "cells": [
  {
   "cell_type": "code",
   "execution_count": 1,
   "id": "3597138f-3be1-4461-a020-dba09287bb91",
   "metadata": {},
   "outputs": [
    {
     "name": "stderr",
     "output_type": "stream",
     "text": [
      "C:\\Users\\Ed\\anaconda3\\envs\\proj\\lib\\site-packages\\xgboost\\compat.py:36: FutureWarning: pandas.Int64Index is deprecated and will be removed from pandas in a future version. Use pandas.Index with the appropriate dtype instead.\n",
      "  from pandas import MultiIndex, Int64Index\n"
     ]
    }
   ],
   "source": [
    "from sklearn.pipeline import Pipeline\n",
    "from sklearn.model_selection import GridSearchCV, StratifiedKFold\n",
    "from sklearn.datasets import load_iris, load_breast_cancer, load_wine\n",
    "from sporboost.forest import *\n",
    "import pandas as pd\n",
    "from time import time\n",
    "import os\n",
    "from sklearn.metrics import make_scorer\n",
    "from xgboost import XGBClassifier\n",
    "\n",
    "################################################################################\n",
    "################################################################################\n",
    "################################################################################\n",
    "# Data Load\n",
    "def load_simulated(path):\n",
    "    train = np.loadtxt(f\"{path}_train.csv\", delimiter=\",\")\n",
    "    # test = np.loadtxt(f\"{path}_test.csv\", delimiter=\",\")\n",
    "    data = train\n",
    "    # data = np.concatenate((train, test), axis=0)\n",
    "    return data[:,:-1], data[:,-1].astype('int32')\n",
    "\n",
    "dfs = {\n",
    "    'iris' : load_iris(return_X_y = True),\n",
    "    'breast_cancer' : load_breast_cancer(return_X_y = True),\n",
    "    'wine' : load_wine(return_X_y = True),\n",
    "    'trunk' : load_simulated(\"source_data/simulated/Trunk\"),\n",
    "    'orthant' : load_simulated(\"source_data/simulated/Orthant\"),\n",
    "    'sparse_parity' : load_simulated(\"source_data/simulated/Sparse_parity\")\n",
    "}\n"
   ]
  },
  {
   "cell_type": "code",
   "execution_count": 2,
   "id": "d9af06a5",
   "metadata": {},
   "outputs": [],
   "source": [
    "################################################################################\n",
    "################################################################################\n",
    "################################################################################\n",
    "# Hyperparameters across all estimators\n",
    "# Boosted Forest\n",
    "boosted_max_depth = (2, 3)\n",
    "\n",
    "# Sparse Random Trees\n",
    "d_ratio = (0.5, 0.75, 1)\n",
    "s_ratio = (2., 3., 4.)\n",
    "\n",
    "# Rotational Decision Trees\n",
    "K = (2, 3)\n"
   ]
  },
  {
   "cell_type": "code",
   "execution_count": 3,
   "id": "209a0702",
   "metadata": {},
   "outputs": [],
   "source": [
    "################################################################################\n",
    "################################################################################\n",
    "################################################################################\n",
    "# Scoring Functions\n",
    "scoring = {\n",
    "    \"cohens_kappa\" : make_scorer(cohen_kappa_score),\n",
    "    \"accuracy\" : 'accuracy'\n",
    "}"
   ]
  },
  {
   "cell_type": "code",
   "execution_count": 4,
   "id": "dae710b4",
   "metadata": {},
   "outputs": [],
   "source": [
    "################################################################################\n",
    "################################################################################\n",
    "################################################################################\n",
    "# Initalize cross-validation params\n",
    "pipe = Pipeline([\n",
    "    ('clf', RandomForest())\n",
    "])\n",
    "\n",
    "params = [\n",
    "    {\n",
    "        'clf' : (RandomForest(),),\n",
    "    },\n",
    "    {\n",
    "        'clf' : (AdaBoost(),),\n",
    "        'clf__max_depth' : boosted_max_depth\n",
    "    },\n",
    "    {\n",
    "        'clf' : (SPORF(),),\n",
    "        'clf__d_ratio' : d_ratio,\n",
    "        'clf__s_ratio' : s_ratio\n",
    "    },\n",
    "    {\n",
    "        'clf' : (SPORBoost(),),\n",
    "        'clf__max_depth' : boosted_max_depth,\n",
    "        'clf__d_ratio' : d_ratio,\n",
    "        'clf__s_ratio' : s_ratio\n",
    "    },\n",
    "    {\n",
    "        'clf' : (RotationalForest(),),\n",
    "        'clf__K' : K\n",
    "    },\n",
    "    {\n",
    "        'clf' : (RotBoost(),),\n",
    "        'clf__max_depth' : boosted_max_depth,\n",
    "        'clf__K' : K\n",
    "    },\n",
    "    {\n",
    "        'clf' : (SPORBoostHC(),),\n",
    "        'clf__max_depth' : boosted_max_depth,\n",
    "        'clf__d_ratio' : d_ratio,\n",
    "        'clf__s_ratio' : s_ratio\n",
    "    },\n",
    "    {\n",
    "        'clf' : (XGBClassifier(nthread = 1, use_label_encoder=False, max_depth=3), )\n",
    "    }\n",
    "]\n",
    "\n",
    "kfold = StratifiedKFold(n_splits=10, shuffle=True, random_state=20220329)\n",
    "\n",
    "cv_base = GridSearchCV(estimator = pipe,\n",
    "                       param_grid = params,\n",
    "                       cv=kfold,\n",
    "                       n_jobs=-1,\n",
    "                       verbose=3,\n",
    "                       refit=False,\n",
    "                       scoring=scoring\n",
    ")\n"
   ]
  },
  {
   "cell_type": "code",
   "execution_count": 5,
   "id": "852b9c0e",
   "metadata": {},
   "outputs": [],
   "source": [
    "################################################################################\n",
    "################################################################################\n",
    "################################################################################\n",
    "# Func to write results to disk\n",
    "def write_results(cv, label):\n",
    "    front_cols = ['param_clf',\n",
    "                  'mean_test_cohens_kappa', 'std_test_cohens_kappa',\n",
    "                  'mean_test_accuracy', 'std_test_accuracy',\n",
    "                  'param_clf__max_depth',\n",
    "                  'param_clf__d_ratio', 'param_clf__s_ratio',\n",
    "                  'param_clf__K'\n",
    "                ]\n",
    "\n",
    "    results = pd.DataFrame(cv.cv_results_).drop(['params'], axis=1)\n",
    "    results['param_clf'] = results['param_clf'].apply(lambda c: type(c).__name__)\n",
    "    results = results.sort_values(['param_clf', 'mean_test_cohens_kappa'],\n",
    "                                ascending=False, ignore_index = True)\n",
    "            \n",
    "    results = results[front_cols + results.drop(front_cols, axis=1).columns.tolist()]\n",
    "\n",
    "    # All Results\n",
    "    results.to_csv(f\"report/{label}_all.csv\", index=False)\n",
    "\n",
    "    # Best Results\n",
    "    results.groupby(\"param_clf\").nth(0).reset_index(drop=False).to_csv(f\"report/{label}_best.csv\", index=False)"
   ]
  },
  {
   "cell_type": "code",
   "execution_count": 6,
   "id": "aff77f29",
   "metadata": {},
   "outputs": [
    {
     "name": "stdout",
     "output_type": "stream",
     "text": [
      "Testing iris\n",
      "Fitting 10 folds for each of 55 candidates, totalling 550 fits\n",
      "Fitting 10 folds for each of 55 candidates, totalling 550 fits\n"
     ]
    },
    {
     "name": "stderr",
     "output_type": "stream",
     "text": [
      "C:\\Users\\Ed\\anaconda3\\envs\\proj\\lib\\site-packages\\sklearn\\model_selection\\_search.py:969: UserWarning: One or more of the test scores are non-finite: [0.94 0.94 0.92 0.95 0.95 0.94 0.95 0.95 0.95 0.94 0.95 0.94 0.94 0.96\n",
      " 0.95 0.95 0.95 0.94 0.93 0.94 0.95 0.94 0.95 0.95 0.94 0.95 0.95 0.94\n",
      " 0.94 0.95 0.95 0.94 0.95 0.94 0.95 0.94 0.93 0.94 0.97 0.95 0.95 0.95\n",
      " 0.95 0.95 0.96 0.95 0.94 0.94 0.93 0.94 0.95  nan 0.95 0.94 0.93]\n",
      "  warnings.warn(\n",
      "C:\\Users\\Ed\\anaconda3\\envs\\proj\\lib\\site-packages\\sklearn\\model_selection\\_search.py:969: UserWarning: One or more of the test scores are non-finite: [0.96       0.96       0.94666667 0.96666667 0.96666667 0.96\n",
      " 0.96666667 0.96666667 0.96666667 0.96       0.96666667 0.96\n",
      " 0.96       0.97333333 0.96666667 0.96666667 0.96666667 0.96\n",
      " 0.95333333 0.96       0.96666667 0.96       0.96666667 0.96666667\n",
      " 0.96       0.96666667 0.96666667 0.96       0.96       0.96666667\n",
      " 0.96666667 0.96       0.96666667 0.96       0.96666667 0.96\n",
      " 0.95333333 0.96       0.98       0.96666667 0.96666667 0.96666667\n",
      " 0.96666667 0.96666667 0.97333333 0.96666667 0.96       0.96\n",
      " 0.95333333 0.96       0.96666667        nan 0.96666667 0.96\n",
      " 0.95333333]\n",
      "  warnings.warn(\n"
     ]
    },
    {
     "name": "stdout",
     "output_type": "stream",
     "text": [
      "Finished iris in 2.3 mins\n",
      "Testing breast_cancer\n",
      "Fitting 10 folds for each of 55 candidates, totalling 550 fits\n",
      "Fitting 10 folds for each of 55 candidates, totalling 550 fits\n",
      "Finished breast_cancer in 27.8 mins\n",
      "Testing wine\n",
      "Fitting 10 folds for each of 55 candidates, totalling 550 fits\n",
      "Fitting 10 folds for each of 55 candidates, totalling 550 fits\n",
      "Finished wine in 3.6 mins\n",
      "Testing trunk\n",
      "Fitting 10 folds for each of 55 candidates, totalling 550 fits\n"
     ]
    },
    {
     "name": "stderr",
     "output_type": "stream",
     "text": [
      "C:\\Users\\Ed\\anaconda3\\envs\\proj\\lib\\site-packages\\sklearn\\model_selection\\_search.py:969: UserWarning: One or more of the test scores are non-finite: [0.78 0.8  0.74 0.96 0.92 1.   0.92 0.92 0.98 0.92 0.94 0.96 0.96 1.\n",
      " 0.98 0.94 0.96 0.94 0.98 0.98 0.98 0.98 0.98 0.96 0.96 0.98 0.98 0.98\n",
      " 0.98 0.96 0.96 0.98  nan  nan  nan  nan 0.96 0.98 0.96 0.96 0.98 0.98\n",
      " 0.94 0.96 0.94 0.96 0.96 0.98 0.96 0.96 1.   0.96 0.96 0.96 0.86]\n",
      "  warnings.warn(\n",
      "C:\\Users\\Ed\\anaconda3\\envs\\proj\\lib\\site-packages\\sklearn\\model_selection\\_search.py:969: UserWarning: One or more of the test scores are non-finite: [0.89 0.9  0.87 0.98 0.96 1.   0.96 0.96 0.99 0.96 0.97 0.98 0.98 1.\n",
      " 0.99 0.97 0.98 0.97 0.99 0.99 0.99 0.99 0.99 0.98 0.98 0.99 0.99 0.99\n",
      " 0.99 0.98 0.98 0.99  nan  nan  nan  nan 0.98 0.99 0.98 0.98 0.99 0.99\n",
      " 0.97 0.98 0.97 0.98 0.98 0.99 0.98 0.98 1.   0.98 0.98 0.98 0.93]\n",
      "  warnings.warn(\n"
     ]
    },
    {
     "name": "stdout",
     "output_type": "stream",
     "text": [
      "Fitting 10 folds for each of 55 candidates, totalling 550 fits\n"
     ]
    },
    {
     "name": "stderr",
     "output_type": "stream",
     "text": [
      "C:\\Users\\Ed\\anaconda3\\envs\\proj\\lib\\site-packages\\sklearn\\model_selection\\_search.py:969: UserWarning: One or more of the test scores are non-finite: [0.8  0.8  0.74 0.98 0.94 0.98 0.94 0.94 0.96 0.9  0.92 0.94 0.98 0.98\n",
      " 0.96 0.98 0.98 0.96 0.94 0.98 0.98 0.98 1.   0.96 0.96 0.96 0.98 0.94\n",
      " 0.96 0.96 0.98 0.98  nan  nan  nan  nan 1.   0.98 0.96 0.96 0.98 1.\n",
      " 0.96 0.98 1.   0.98 0.98 0.98 0.94 0.94 0.98 0.96 0.94 0.98 0.86]\n",
      "  warnings.warn(\n",
      "C:\\Users\\Ed\\anaconda3\\envs\\proj\\lib\\site-packages\\sklearn\\model_selection\\_search.py:969: UserWarning: One or more of the test scores are non-finite: [0.9  0.9  0.87 0.99 0.97 0.99 0.97 0.97 0.98 0.95 0.96 0.97 0.99 0.99\n",
      " 0.98 0.99 0.99 0.98 0.97 0.99 0.99 0.99 1.   0.98 0.98 0.98 0.99 0.97\n",
      " 0.98 0.98 0.99 0.99  nan  nan  nan  nan 1.   0.99 0.98 0.98 0.99 1.\n",
      " 0.98 0.99 1.   0.99 0.99 0.99 0.97 0.97 0.99 0.98 0.97 0.99 0.93]\n",
      "  warnings.warn(\n"
     ]
    },
    {
     "name": "stdout",
     "output_type": "stream",
     "text": [
      "Finished trunk in 17.4 mins\n",
      "Testing orthant\n",
      "Fitting 10 folds for each of 55 candidates, totalling 550 fits\n",
      "Fitting 10 folds for each of 55 candidates, totalling 550 fits\n",
      "Finished orthant in 73.8 mins\n",
      "Testing sparse_parity\n",
      "Fitting 10 folds for each of 55 candidates, totalling 550 fits\n",
      "Fitting 10 folds for each of 55 candidates, totalling 550 fits\n",
      "Finished sparse_parity in 16.4 mins\n"
     ]
    }
   ],
   "source": [
    "################################################################################\n",
    "################################################################################\n",
    "################################################################################\n",
    "# Fit the CVs\n",
    "for name, df in dfs.items():\n",
    "    if not os.path.exists(f\"report/{name}_all.csv\"):\n",
    "        start = time()\n",
    "        print(f\"Testing {name}\")\n",
    "        res = cv_base.fit(*df)\n",
    "        write_results(cv_base.fit(*df), name)\n",
    "        end = time()\n",
    "        print(f\"Finished {name} in {(end - start) / 60:.1f} mins\")\n",
    "    else:\n",
    "        print(f\"Skipping {name} as it has already been tested\")"
   ]
  }
 ],
 "metadata": {
  "interpreter": {
   "hash": "19a6b89429cc42f8a39b8068be6b3b06345d41f5c5dc4b805d424edbd3c294cc"
  },
  "kernelspec": {
   "display_name": "SPORF",
   "language": "python",
   "name": "python3"
  },
  "language_info": {
   "codemirror_mode": {
    "name": "ipython",
    "version": 3
   },
   "file_extension": ".py",
   "mimetype": "text/x-python",
   "name": "python",
   "nbconvert_exporter": "python",
   "pygments_lexer": "ipython3",
   "version": "3.8.12"
  }
 },
 "nbformat": 4,
 "nbformat_minor": 5
}
